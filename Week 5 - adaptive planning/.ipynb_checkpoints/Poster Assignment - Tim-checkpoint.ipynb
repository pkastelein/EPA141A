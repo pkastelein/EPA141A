{
 "cells": [
  {
   "cell_type": "code",
   "execution_count": 2,
   "metadata": {
    "collapsed": true
   },
   "outputs": [],
   "source": [
    "import ema_workbench as ema\n",
    "import pandas as pd"
   ]
  },
  {
   "cell_type": "code",
   "execution_count": 3,
   "metadata": {},
   "outputs": [],
   "source": [
    "no_policy_experiments, no_policy_outcomes =  ema.load_results(\"data/no policy 5000 runs.tar.gz\")"
   ]
  },
  {
   "cell_type": "code",
   "execution_count": 5,
   "metadata": {},
   "outputs": [
    {
     "data": {
      "text/plain": [
       "dict_keys(['Costs', 'Number of casualties', 'Flood damage (Milj. Euro)'])"
      ]
     },
     "execution_count": 5,
     "metadata": {},
     "output_type": "execute_result"
    }
   ],
   "source": [
    "no_policy_outcomes.keys()"
   ]
  },
  {
   "cell_type": "markdown",
   "metadata": {},
   "source": [
    "no policy outcomes is not right loaded yet. Only takes first timestep, should include last."
   ]
  },
  {
   "cell_type": "code",
   "execution_count": 4,
   "metadata": {},
   "outputs": [
    {
     "name": "stdout",
     "output_type": "stream",
     "text": [
      "(5000, 1)\n",
      "(5000, 100)\n",
      "(5000, 100)\n"
     ]
    }
   ],
   "source": [
    "for key in no_policy_outcomes.keys():\n",
    "    print(no_policy_outcomes[key].shape)"
   ]
  },
  {
   "cell_type": "code",
   "execution_count": 3,
   "metadata": {
    "collapsed": true
   },
   "outputs": [],
   "source": [
    "no_policy_experiments = pd.DataFrame.from_records(no_policy_experiments)"
   ]
  },
  {
   "cell_type": "code",
   "execution_count": 4,
   "metadata": {
    "scrolled": true
   },
   "outputs": [
    {
     "data": {
      "text/html": [
       "<div>\n",
       "<table border=\"1\" class=\"dataframe\">\n",
       "  <thead>\n",
       "    <tr style=\"text-align: right;\">\n",
       "      <th></th>\n",
       "      <th>DamFunctTbl</th>\n",
       "      <th>ShipTbl1</th>\n",
       "      <th>ShipTbl2</th>\n",
       "      <th>ShipTbl3</th>\n",
       "      <th>climate scenarios</th>\n",
       "      <th>collaboration</th>\n",
       "      <th>fragility dikes</th>\n",
       "      <th>land use scenarios</th>\n",
       "      <th>model</th>\n",
       "      <th>policy</th>\n",
       "      <th>Costs</th>\n",
       "      <th>Flood damage (Milj. Euro)</th>\n",
       "      <th>Number of casualties</th>\n",
       "    </tr>\n",
       "  </thead>\n",
       "  <tbody>\n",
       "    <tr>\n",
       "      <th>0</th>\n",
       "      <td>0.087079</td>\n",
       "      <td>-0.099765</td>\n",
       "      <td>0.012521</td>\n",
       "      <td>0.004889</td>\n",
       "      <td>4</td>\n",
       "      <td>1.027529</td>\n",
       "      <td>-0.000730</td>\n",
       "      <td>NoChange</td>\n",
       "      <td>waas</td>\n",
       "      <td>no policy</td>\n",
       "      <td>0.0</td>\n",
       "      <td>0.0</td>\n",
       "      <td>0.0</td>\n",
       "    </tr>\n",
       "    <tr>\n",
       "      <th>1</th>\n",
       "      <td>-0.049932</td>\n",
       "      <td>0.027524</td>\n",
       "      <td>-0.063382</td>\n",
       "      <td>-0.038642</td>\n",
       "      <td>1</td>\n",
       "      <td>1.090472</td>\n",
       "      <td>0.064607</td>\n",
       "      <td>sustainableGrowth</td>\n",
       "      <td>waas</td>\n",
       "      <td>no policy</td>\n",
       "      <td>0.0</td>\n",
       "      <td>0.0</td>\n",
       "      <td>0.0</td>\n",
       "    </tr>\n",
       "    <tr>\n",
       "      <th>2</th>\n",
       "      <td>0.000689</td>\n",
       "      <td>0.053957</td>\n",
       "      <td>0.011592</td>\n",
       "      <td>-0.035819</td>\n",
       "      <td>9</td>\n",
       "      <td>1.528232</td>\n",
       "      <td>-0.018495</td>\n",
       "      <td>sustainableGrowth</td>\n",
       "      <td>waas</td>\n",
       "      <td>no policy</td>\n",
       "      <td>0.0</td>\n",
       "      <td>0.0</td>\n",
       "      <td>0.0</td>\n",
       "    </tr>\n",
       "    <tr>\n",
       "      <th>3</th>\n",
       "      <td>0.049930</td>\n",
       "      <td>-0.064429</td>\n",
       "      <td>0.021346</td>\n",
       "      <td>0.040681</td>\n",
       "      <td>9</td>\n",
       "      <td>1.597576</td>\n",
       "      <td>0.020117</td>\n",
       "      <td>sustainableGrowth</td>\n",
       "      <td>waas</td>\n",
       "      <td>no policy</td>\n",
       "      <td>0.0</td>\n",
       "      <td>0.0</td>\n",
       "      <td>0.0</td>\n",
       "    </tr>\n",
       "    <tr>\n",
       "      <th>4</th>\n",
       "      <td>-0.034240</td>\n",
       "      <td>0.099629</td>\n",
       "      <td>-0.001652</td>\n",
       "      <td>0.005038</td>\n",
       "      <td>9</td>\n",
       "      <td>1.541525</td>\n",
       "      <td>-0.064460</td>\n",
       "      <td>moreNature</td>\n",
       "      <td>waas</td>\n",
       "      <td>no policy</td>\n",
       "      <td>0.0</td>\n",
       "      <td>0.0</td>\n",
       "      <td>0.0</td>\n",
       "    </tr>\n",
       "  </tbody>\n",
       "</table>\n",
       "</div>"
      ],
      "text/plain": [
       "   DamFunctTbl  ShipTbl1  ShipTbl2  ShipTbl3  climate scenarios  \\\n",
       "0     0.087079 -0.099765  0.012521  0.004889                  4   \n",
       "1    -0.049932  0.027524 -0.063382 -0.038642                  1   \n",
       "2     0.000689  0.053957  0.011592 -0.035819                  9   \n",
       "3     0.049930 -0.064429  0.021346  0.040681                  9   \n",
       "4    -0.034240  0.099629 -0.001652  0.005038                  9   \n",
       "\n",
       "   collaboration  fragility dikes land use scenarios model     policy  Costs  \\\n",
       "0       1.027529        -0.000730           NoChange  waas  no policy    0.0   \n",
       "1       1.090472         0.064607  sustainableGrowth  waas  no policy    0.0   \n",
       "2       1.528232        -0.018495  sustainableGrowth  waas  no policy    0.0   \n",
       "3       1.597576         0.020117  sustainableGrowth  waas  no policy    0.0   \n",
       "4       1.541525        -0.064460         moreNature  waas  no policy    0.0   \n",
       "\n",
       "   Flood damage (Milj. Euro)  Number of casualties  \n",
       "0                        0.0                   0.0  \n",
       "1                        0.0                   0.0  \n",
       "2                        0.0                   0.0  \n",
       "3                        0.0                   0.0  \n",
       "4                        0.0                   0.0  "
      ]
     },
     "execution_count": 4,
     "metadata": {},
     "output_type": "execute_result"
    }
   ],
   "source": [
    "new_dict = dict()\n",
    "for key in no_policy_outcomes.keys():\n",
    "    \n",
    "    values = list(no_policy_outcomes[key][:,0])\n",
    "    new_dict[key] = values\n",
    "\n",
    "no_policy_outcomes = pd.DataFrame.from_dict(new_dict)\n",
    "\n",
    "no_policy_results = pd.concat([no_policy_experiments,no_policy_outcomes],axis=1)\n",
    "\n",
    "no_policy_results.head()"
   ]
  },
  {
   "cell_type": "code",
   "execution_count": 6,
   "metadata": {},
   "outputs": [],
   "source": [
    "all_policies_experiments, all_policies_outcomes = ema.load_results(\"data/all_policies.tar.gz\")"
   ]
  },
  {
   "cell_type": "code",
   "execution_count": 7,
   "metadata": {},
   "outputs": [
    {
     "name": "stdout",
     "output_type": "stream",
     "text": [
      "(10500, 1)\n",
      "(10500, 1)\n",
      "(10500, 1)\n"
     ]
    }
   ],
   "source": [
    "for key in all_policies_outcomes.keys():\n",
    "    print(all_policies_outcomes[key].shape)"
   ]
  },
  {
   "cell_type": "code",
   "execution_count": 6,
   "metadata": {},
   "outputs": [],
   "source": [
    "all_policies_experiments = pd.DataFrame(all_policies_experiments)"
   ]
  },
  {
   "cell_type": "code",
   "execution_count": 7,
   "metadata": {
    "scrolled": false
   },
   "outputs": [
    {
     "data": {
      "text/html": [
       "<div>\n",
       "<table border=\"1\" class=\"dataframe\">\n",
       "  <thead>\n",
       "    <tr style=\"text-align: right;\">\n",
       "      <th></th>\n",
       "      <th>DamFunctTbl_multiplier</th>\n",
       "      <th>ShipTbl1</th>\n",
       "      <th>ShipTbl2</th>\n",
       "      <th>ShipTbl3</th>\n",
       "      <th>climate scenarios</th>\n",
       "      <th>collaboration</th>\n",
       "      <th>fragility dikes</th>\n",
       "      <th>land use scenarios</th>\n",
       "      <th>model</th>\n",
       "      <th>policy</th>\n",
       "      <th>Costs</th>\n",
       "      <th>Flood damage (Milj. Euro)</th>\n",
       "      <th>Number of casualties</th>\n",
       "    </tr>\n",
       "  </thead>\n",
       "  <tbody>\n",
       "    <tr>\n",
       "      <th>0</th>\n",
       "      <td>0.027398</td>\n",
       "      <td>-0.093669</td>\n",
       "      <td>-0.093085</td>\n",
       "      <td>-0.073666</td>\n",
       "      <td>24</td>\n",
       "      <td>1.098862</td>\n",
       "      <td>0.002978</td>\n",
       "      <td>urbanizationDeurbanization</td>\n",
       "      <td>waasmodel</td>\n",
       "      <td>RfR Small Scale</td>\n",
       "      <td>0.0</td>\n",
       "      <td>46541.0</td>\n",
       "      <td>720.98190</td>\n",
       "    </tr>\n",
       "    <tr>\n",
       "      <th>1</th>\n",
       "      <td>0.073542</td>\n",
       "      <td>0.075968</td>\n",
       "      <td>-0.052662</td>\n",
       "      <td>-0.069399</td>\n",
       "      <td>27</td>\n",
       "      <td>1.034762</td>\n",
       "      <td>0.025972</td>\n",
       "      <td>urbanizationDeurbanization</td>\n",
       "      <td>waasmodel</td>\n",
       "      <td>RfR Small Scale</td>\n",
       "      <td>0.0</td>\n",
       "      <td>43166.0</td>\n",
       "      <td>975.89650</td>\n",
       "    </tr>\n",
       "    <tr>\n",
       "      <th>2</th>\n",
       "      <td>0.077680</td>\n",
       "      <td>-0.073982</td>\n",
       "      <td>0.053067</td>\n",
       "      <td>-0.083721</td>\n",
       "      <td>22</td>\n",
       "      <td>1.386521</td>\n",
       "      <td>-0.012929</td>\n",
       "      <td>urbanizationLargeAndFast</td>\n",
       "      <td>waasmodel</td>\n",
       "      <td>RfR Small Scale</td>\n",
       "      <td>0.0</td>\n",
       "      <td>65178.0</td>\n",
       "      <td>1509.76748</td>\n",
       "    </tr>\n",
       "    <tr>\n",
       "      <th>3</th>\n",
       "      <td>0.052554</td>\n",
       "      <td>-0.007539</td>\n",
       "      <td>-0.022715</td>\n",
       "      <td>-0.084850</td>\n",
       "      <td>6</td>\n",
       "      <td>1.217787</td>\n",
       "      <td>-0.078545</td>\n",
       "      <td>moreNature</td>\n",
       "      <td>waasmodel</td>\n",
       "      <td>RfR Small Scale</td>\n",
       "      <td>0.0</td>\n",
       "      <td>13769.0</td>\n",
       "      <td>467.26077</td>\n",
       "    </tr>\n",
       "    <tr>\n",
       "      <th>4</th>\n",
       "      <td>-0.018903</td>\n",
       "      <td>-0.046856</td>\n",
       "      <td>0.034300</td>\n",
       "      <td>-0.008298</td>\n",
       "      <td>12</td>\n",
       "      <td>1.245655</td>\n",
       "      <td>-0.018394</td>\n",
       "      <td>moreNature</td>\n",
       "      <td>waasmodel</td>\n",
       "      <td>RfR Small Scale</td>\n",
       "      <td>0.0</td>\n",
       "      <td>20668.0</td>\n",
       "      <td>540.91675</td>\n",
       "    </tr>\n",
       "  </tbody>\n",
       "</table>\n",
       "</div>"
      ],
      "text/plain": [
       "   DamFunctTbl_multiplier  ShipTbl1  ShipTbl2  ShipTbl3  climate scenarios  \\\n",
       "0                0.027398 -0.093669 -0.093085 -0.073666                 24   \n",
       "1                0.073542  0.075968 -0.052662 -0.069399                 27   \n",
       "2                0.077680 -0.073982  0.053067 -0.083721                 22   \n",
       "3                0.052554 -0.007539 -0.022715 -0.084850                  6   \n",
       "4               -0.018903 -0.046856  0.034300 -0.008298                 12   \n",
       "\n",
       "   collaboration  fragility dikes          land use scenarios      model  \\\n",
       "0       1.098862         0.002978  urbanizationDeurbanization  waasmodel   \n",
       "1       1.034762         0.025972  urbanizationDeurbanization  waasmodel   \n",
       "2       1.386521        -0.012929    urbanizationLargeAndFast  waasmodel   \n",
       "3       1.217787        -0.078545                  moreNature  waasmodel   \n",
       "4       1.245655        -0.018394                  moreNature  waasmodel   \n",
       "\n",
       "            policy  Costs  Flood damage (Milj. Euro)  Number of casualties  \n",
       "0  RfR Small Scale    0.0                    46541.0             720.98190  \n",
       "1  RfR Small Scale    0.0                    43166.0             975.89650  \n",
       "2  RfR Small Scale    0.0                    65178.0            1509.76748  \n",
       "3  RfR Small Scale    0.0                    13769.0             467.26077  \n",
       "4  RfR Small Scale    0.0                    20668.0             540.91675  "
      ]
     },
     "execution_count": 7,
     "metadata": {},
     "output_type": "execute_result"
    }
   ],
   "source": [
    "new_dict = dict()\n",
    "for key in all_policies_outcomes.keys():\n",
    "    \n",
    "    values = list(all_policies_outcomes[key][:,0])\n",
    "    new_dict[key] = values\n",
    "\n",
    "all_policies_outcomes = pd.DataFrame.from_dict(new_dict)\n",
    "\n",
    "all_policies_results = pd.concat([all_policies_experiments,all_policies_outcomes],axis=1)\n",
    "\n",
    "all_policies_results.head()"
   ]
  },
  {
   "cell_type": "code",
   "execution_count": null,
   "metadata": {
    "collapsed": true
   },
   "outputs": [],
   "source": []
  }
 ],
 "metadata": {
  "kernelspec": {
   "display_name": "Python 3",
   "language": "python",
   "name": "python3"
  },
  "language_info": {
   "codemirror_mode": {
    "name": "ipython",
    "version": 3
   },
   "file_extension": ".py",
   "mimetype": "text/x-python",
   "name": "python",
   "nbconvert_exporter": "python",
   "pygments_lexer": "ipython3",
   "version": "3.6.0"
  }
 },
 "nbformat": 4,
 "nbformat_minor": 2
}
