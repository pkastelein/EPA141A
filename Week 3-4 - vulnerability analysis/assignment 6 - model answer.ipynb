{
 "cells": [
  {
   "cell_type": "markdown",
   "metadata": {},
   "source": [
    "\n",
    "# Week 3 - Sensitivity analysis\n",
    "\n",
    "This exercise uses the same predator-prey model we used for the multi-model exercise, focusing on the Python version. As with the other exercise, define a model object for the function below, with the uncertainty ranges provided:\n",
    "\n",
    "|Parameter\t|Range or value\t        |\n",
    "|-----------|--------------:|\n",
    "|prey_birth_rate    \t|0.015 – 0.035\t|\n",
    "|predation_rate|0.0005 – 0.003 \t|\n",
    "|predator_efficiency     \t|0.001 – 0.004\t    |\n",
    "|predator_loss_rate\t    |0.04 – 0.08\t    |\n",
    "|Final time\t    |365\t    |\n",
    "|dt\t    |0.25\t    |\n",
    "\n"
   ]
  },
  {
   "cell_type": "code",
   "metadata": {
    "collapsed": false,
    "jupyter": {
     "outputs_hidden": false
    },
    "ExecuteTime": {
     "end_time": "2025-05-22T12:55:08.989229Z",
     "start_time": "2025-05-22T12:54:50.338814Z"
    }
   },
   "source": [
    "%matplotlib inline\n",
    "import numpy as np\n",
    "import pandas as pd\n",
    "\n",
    "import matplotlib.pyplot as plt\n",
    "import seaborn as sns\n",
    "sns.set_style('white')\n",
    "\n",
    "from ema_workbench import (Model, RealParameter, TimeSeriesOutcome,\n",
    "                           perform_experiments, ema_logging,Policy)\n",
    "\n",
    "from ema_workbench import Samplers\n",
    "\n",
    "from ema_workbench.analysis import feature_scoring\n",
    "from ema_workbench.analysis.scenario_discovery_util import RuleInductionType\n",
    "from ema_workbench.em_framework.salib_samplers import get_SALib_problem\n",
    "\n",
    "from SALib.analyze import sobol"
   ],
   "outputs": [],
   "execution_count": 1
  },
  {
   "cell_type": "code",
   "metadata": {
    "collapsed": false,
    "jupyter": {
     "outputs_hidden": false
    },
    "ExecuteTime": {
     "end_time": "2025-05-22T12:55:09.041871Z",
     "start_time": "2025-05-22T12:55:09.012193Z"
    }
   },
   "source": [
    "def PredPrey(prey_birth_rate=0.025, predation_rate=0.0015, predator_efficiency=0.002,\n",
    "             predator_loss_rate=0.06, initial_prey=50, initial_predators=20, dt=0.25, final_time=365, reps=1):\n",
    "\n",
    "    #Initial values\n",
    "    predators, prey, sim_time = [np.zeros((reps, int(final_time/dt)+1)) for _ in range(3)]\n",
    "    \n",
    "    for r in range(reps):\n",
    "        predators[r,0] = initial_predators\n",
    "        prey[r,0] = initial_prey\n",
    "\n",
    "        #Calculate the time series\n",
    "        for t in range(0, sim_time.shape[1]-1):\n",
    "\n",
    "            dx = (prey_birth_rate*prey[r,t]) - (predation_rate*prey[r,t]*predators[r,t])\n",
    "            dy = (predator_efficiency*predators[r,t]*prey[r,t]) - (predator_loss_rate*predators[r,t])\n",
    "\n",
    "            prey[r,t+1] = max(prey[r,t] + dx*dt, 0)\n",
    "            predators[r,t+1] = max(predators[r,t] + dy*dt, 0)\n",
    "            sim_time[r,t+1] = (t+1)*dt\n",
    "    \n",
    "    #Return outcomes\n",
    "    return {'TIME':sim_time,\n",
    "            'predators':predators,\n",
    "            'prey':prey}\n",
    "\n",
    "\n",
    "\n",
    "ema_logging.log_to_stderr(ema_logging.INFO)\n",
    "\n",
    "\n",
    "uncertainties = [RealParameter('prey_birth_rate', 0.015, 0.035),\n",
    "                 RealParameter('predation_rate', 0.0005, 0.003),\n",
    "                 RealParameter('predator_efficiency', 0.001, 0.004),\n",
    "                 RealParameter('predator_loss_rate', 0.04, 0.08)\n",
    "                ] \n",
    "\n",
    "\n",
    "outcomes = [TimeSeriesOutcome('TIME'),\n",
    "            TimeSeriesOutcome('predators'),\n",
    "            TimeSeriesOutcome('prey')]\n",
    "\n",
    "\n",
    "py_model = Model('Python', function=PredPrey)\n",
    "py_model.uncertainties = uncertainties\n",
    "py_model.outcomes = outcomes"
   ],
   "outputs": [],
   "execution_count": 2
  },
  {
   "cell_type": "markdown",
   "metadata": {
    "ExecuteTime": {
     "end_time": "2023-04-20T10:42:08.801459Z",
     "start_time": "2023-04-20T10:42:08.685209Z"
    }
   },
   "source": [
    "#### 1. Sensitivity analysis\n",
    "Sensitivity analysis often focuses on the final values of an outcome at the end of the simulation. However, we can also look at metrics that give us additional information about the behavior of the model over time. Using the statsmodel library and an appropriate sampling design, fit a linear regression model for each of the following indicators. What can we conclude about the behavior of the model, and about the importance of the different inputs?\n",
    "\n",
    "  * The final values of the _prey_ outcome\n",
    "  * The mean values of the _prey_ outcome over time, within each experiment\n",
    "  * The standard deviations of the _prey_ outcome over time, within each experiment\n"
   ]
  },
  {
   "cell_type": "code",
   "metadata": {
    "collapsed": false,
    "jupyter": {
     "outputs_hidden": false
    },
    "ExecuteTime": {
     "end_time": "2025-05-22T12:55:16.949876Z",
     "start_time": "2025-05-22T12:55:09.055971Z"
    }
   },
   "source": [
    "n_exp = 1000\n",
    "\n",
    "results_lhs = perform_experiments(py_model, scenarios=n_exp, uncertainty_sampling=Samplers.LHS)\n",
    "\n",
    "exp_lhs, out_lhs = results_lhs"
   ],
   "outputs": [
    {
     "name": "stderr",
     "output_type": "stream",
     "text": [
      "[MainProcess/INFO] performing 1000 scenarios * 1 policies * 1 model(s) = 1000 experiments\n",
      "  0%|                                                 | 0/1000 [00:00<?, ?it/s][MainProcess/INFO] performing experiments sequentially\n",
      "100%|█████████████████████████████████████| 1000/1000 [00:07<00:00, 127.91it/s]\n",
      "[MainProcess/INFO] experiments finished\n"
     ]
    }
   ],
   "execution_count": 3
  },
  {
   "cell_type": "code",
   "metadata": {
    "collapsed": false,
    "jupyter": {
     "outputs_hidden": false
    },
    "ExecuteTime": {
     "end_time": "2025-05-22T12:55:17.751722Z",
     "start_time": "2025-05-22T12:55:17.738680Z"
    }
   },
   "source": [
    "out_lhs['predators'].shape"
   ],
   "outputs": [
    {
     "data": {
      "text/plain": [
       "(1000, 1, 1461)"
      ]
     },
     "execution_count": 4,
     "metadata": {},
     "output_type": "execute_result"
    }
   ],
   "execution_count": 4
  },
  {
   "cell_type": "markdown",
   "metadata": {},
   "source": [
    "For each of the sampling methods, we can then select outcomes of interest: the final values of the prey variable, the mean of the prey variable over time within each experiment, and the standard deviation of the same variable across time (again in each experiment)."
   ]
  },
  {
   "cell_type": "code",
   "metadata": {
    "collapsed": false,
    "jupyter": {
     "outputs_hidden": false
    },
    "ExecuteTime": {
     "end_time": "2025-05-22T12:55:17.793655Z",
     "start_time": "2025-05-22T12:55:17.780745Z"
    }
   },
   "source": [
    "prey_final_lhs = out_lhs['prey'][:,0,-1]\n",
    "prey_final_lhs.shape"
   ],
   "outputs": [
    {
     "data": {
      "text/plain": [
       "(1000,)"
      ]
     },
     "execution_count": 5,
     "metadata": {},
     "output_type": "execute_result"
    }
   ],
   "execution_count": 5
  },
  {
   "cell_type": "code",
   "metadata": {
    "collapsed": false,
    "jupyter": {
     "outputs_hidden": false
    },
    "ExecuteTime": {
     "end_time": "2025-05-22T12:55:17.982308Z",
     "start_time": "2025-05-22T12:55:17.955178Z"
    }
   },
   "source": [
    "prey_final_lhs = out_lhs['prey'][:,0,-1]\n",
    "prey_mean_lhs = np.mean(out_lhs['prey'][:,0,:],axis=1)\n",
    "prey_std_lhs = np.std(out_lhs['prey'][:,0,:],axis=1)"
   ],
   "outputs": [],
   "execution_count": 6
  },
  {
   "cell_type": "markdown",
   "metadata": {},
   "source": [
    "As an example, we can first fit a linear regression model to the prey_final_lhs outcome. We first drop the 'model' and 'policy' columns from the experiments, which were not used in this example. The add_constant method can be used to add an intercept to the regression model."
   ]
  },
  {
   "cell_type": "code",
   "metadata": {
    "collapsed": false,
    "jupyter": {
     "outputs_hidden": false
    },
    "ExecuteTime": {
     "end_time": "2025-05-22T12:55:18.085188Z",
     "start_time": "2025-05-22T12:55:18.030017Z"
    }
   },
   "source": [
    "import statsmodels.api as sm\n",
    "\n",
    "X = pd.DataFrame(exp_lhs).drop(['model','policy'], inplace=False, axis=1)\n",
    "X_0 = sm.add_constant(X)\n",
    "\n",
    "est = sm.OLS(prey_final_lhs, X_0.astype(float)).fit()\n",
    "print(est.summary())\n",
    "print(est.params)"
   ],
   "outputs": [
    {
     "name": "stdout",
     "output_type": "stream",
     "text": [
      "                            OLS Regression Results                            \n",
      "==============================================================================\n",
      "Dep. Variable:                      y   R-squared:                       0.402\n",
      "Model:                            OLS   Adj. R-squared:                  0.399\n",
      "Method:                 Least Squares   F-statistic:                     133.7\n",
      "Date:                Thu, 22 May 2025   Prob (F-statistic):          2.07e-108\n",
      "Time:                        14:55:18   Log-Likelihood:                -4127.6\n",
      "No. Observations:                1000   AIC:                             8267.\n",
      "Df Residuals:                     994   BIC:                             8297.\n",
      "Df Model:                           5                                         \n",
      "Covariance Type:            nonrobust                                         \n",
      "=======================================================================================\n",
      "                          coef    std err          t      P>|t|      [0.025      0.975]\n",
      "---------------------------------------------------------------------------------------\n",
      "const                  28.8549      3.759      7.676      0.000      21.479      36.231\n",
      "predation_rate      -2290.9537    663.329     -3.454      0.001   -3592.639    -989.268\n",
      "predator_efficiency -1.272e+04    550.447    -23.099      0.000   -1.38e+04   -1.16e+04\n",
      "predator_loss_rate    496.2943     41.396     11.989      0.000     415.061     577.528\n",
      "prey_birth_rate       115.1050     82.630      1.393      0.164     -47.045     277.254\n",
      "scenario                0.0011      0.002      0.678      0.498      -0.002       0.004\n",
      "==============================================================================\n",
      "Omnibus:                       85.653   Durbin-Watson:                   2.009\n",
      "Prob(Omnibus):                  0.000   Jarque-Bera (JB):              107.448\n",
      "Skew:                           0.803   Prob(JB):                     4.65e-24\n",
      "Kurtosis:                       3.008   Cond. No.                     8.04e+05\n",
      "==============================================================================\n",
      "\n",
      "Notes:\n",
      "[1] Standard Errors assume that the covariance matrix of the errors is correctly specified.\n",
      "[2] The condition number is large, 8.04e+05. This might indicate that there are\n",
      "strong multicollinearity or other numerical problems.\n",
      "const                     28.854889\n",
      "predation_rate         -2290.953708\n",
      "predator_efficiency   -12715.022199\n",
      "predator_loss_rate       496.294277\n",
      "prey_birth_rate          115.104966\n",
      "scenario                   0.001120\n",
      "dtype: float64\n"
     ]
    }
   ],
   "execution_count": 7
  },
  {
   "cell_type": "markdown",
   "metadata": {
    "jupyter": {
     "outputs_hidden": false
    }
   },
   "source": [
    "There is a lot of information provided here. The first one to look at is the R-squared. This is 0.423, so only 42% of the variance in model output is explained by this linear regression model. This suggests that there is close to 60% of the variance in model output is due to non-linear effects that a regression model cannot capture. Next, we look at the bottom part of the table. Looking at the `P>|t|` column, we see that only the predator efficiency and predator loss rate are statistically significant. These are, thus, parameters to which the model is sensitive."
   ]
  },
  {
   "cell_type": "markdown",
   "metadata": {},
   "source": [
    "#### 2. Sobol\n",
    "\n",
    "In this case, the linear regression clearly isn't capturing most of the output variance (as shown by the R2 value). We can therefore use the Sobol results with the SALib analysis functions for a more comprehensive analysis. We first use the get_SALib_problem to convert the uncertainties we have previously defined, to a dictionary which is compatible with SALib. This includes the names and bounds of the uncertainties."
   ]
  },
  {
   "cell_type": "markdown",
   "metadata": {},
   "source": [
    "* Perform an appropriate number of experiments with the Sobol sampling functionality included in the Workbench, then analyze the results with SALib for the same three indicators. How can we interpret the first-order and total indices? Does your chosen sample size give a stable estimation of the indices? You'll need to use the [get_SALib_problem](https://emaworkbench.readthedocs.io/en/latest/ema_documentation/em_framework/salib_samplers.html) function to convert your Workbench experiments to a problem definition that you can pass to the SALib analysis function.\n",
    "\n",
    "Note that the Sobol analysis will require N(2k+2) samples, where N is a baseline number of experiments required to cover the uncertainties (let's also assume 1000 in this case) and k is the number of uncertainties. We have k = 4 uncertainties, so we'll have 1000 * (8 + 2) = 10,000 experiments in total. We can choose the sampling by specifying the uncertainty_sampling argument; note that the Sobol sampler automatically adjusts the number of experiments based on the number of uncertainties and the specified value of N."
   ]
  },
  {
   "cell_type": "code",
   "metadata": {
    "collapsed": false,
    "jupyter": {
     "outputs_hidden": false
    },
    "ExecuteTime": {
     "end_time": "2025-05-22T12:55:18.149930Z",
     "start_time": "2025-05-22T12:55:18.136387Z"
    }
   },
   "source": [
    "problem = get_SALib_problem(uncertainties)\n",
    "print(problem)"
   ],
   "outputs": [
    {
     "name": "stdout",
     "output_type": "stream",
     "text": [
      "{'num_vars': 4, 'names': ['predation_rate', 'predator_efficiency', 'predator_loss_rate', 'prey_birth_rate'], 'bounds': [(0.0005, 0.003), (0.001, 0.004), (0.04, 0.08), (0.015, 0.035)]}\n"
     ]
    }
   ],
   "execution_count": 8
  },
  {
   "cell_type": "markdown",
   "metadata": {},
   "source": [
    "We can then pass the problem and the outcome values (using the results with the Sobol sample, instead of the LHS sample) to the SALib analysis function. By default, the Sobol sampler calculates second-order interaction effects between each pair of variables."
   ]
  },
  {
   "cell_type": "code",
   "metadata": {
    "collapsed": false,
    "jupyter": {
     "outputs_hidden": false
    },
    "ExecuteTime": {
     "end_time": "2025-05-22T12:56:41.169405Z",
     "start_time": "2025-05-22T12:55:18.213370Z"
    }
   },
   "source": [
    "n_exp = 1000\n",
    "\n",
    "experiments_sobol, outcomes_sobol = perform_experiments(py_model, scenarios=n_exp,\n",
    "                                                        uncertainty_sampling=Samplers.SOBOL)\n",
    "\n",
    "prey_final_sobol = outcomes_sobol['prey'][:,0,-1]\n",
    "prey_mean_sobol = np.mean(outcomes_sobol['prey'][:,0,:],axis=1)\n",
    "prey_std_sobol = np.std(outcomes_sobol['prey'][:,0,:],axis=1)\n",
    "\n",
    "Si = sobol.analyze(problem, prey_mean_sobol, calc_second_order=True, print_to_console=True)"
   ],
   "outputs": [
    {
     "name": "stderr",
     "output_type": "stream",
     "text": [
      "C:\\Users\\Pkast\\Documents\\EPA-Master\\EPA141A - Model-based Decision Making\\project\\venv\\Lib\\site-packages\\scipy\\stats\\_qmc.py:993: UserWarning: The balance properties of Sobol' points require n to be a power of 2.\n",
      "  sample = self._random(n, workers=workers)\n",
      "[MainProcess/INFO] performing 10000 scenarios * 1 policies * 1 model(s) = 10000 experiments\n",
      "  0%|                                                | 0/10000 [00:00<?, ?it/s][MainProcess/INFO] performing experiments sequentially\n",
      "100%|███████████████████████████████████| 10000/10000 [01:22<00:00, 121.82it/s]\n",
      "[MainProcess/INFO] experiments finished\n",
      "C:\\Users\\Pkast\\Documents\\EPA-Master\\EPA141A - Model-based Decision Making\\project\\venv\\Lib\\site-packages\\SALib\\util\\__init__.py:274: FutureWarning: unique with argument that is not not a Series, Index, ExtensionArray, or np.ndarray is deprecated and will raise in a future version.\n",
      "  names = list(pd.unique(groups))\n"
     ]
    },
    {
     "name": "stdout",
     "output_type": "stream",
     "text": [
      "                           ST   ST_conf\n",
      "predation_rate       0.004864  0.000711\n",
      "predator_efficiency  0.820765  0.060880\n",
      "predator_loss_rate   0.218103  0.021507\n",
      "prey_birth_rate      0.010971  0.001295\n",
      "                           S1   S1_conf\n",
      "predation_rate       0.002264  0.005689\n",
      "predator_efficiency  0.772783  0.077155\n",
      "predator_loss_rate   0.178344  0.036408\n",
      "prey_birth_rate     -0.001152  0.009117\n",
      "                                                 S2   S2_conf\n",
      "(predation_rate, predator_efficiency)      0.003558  0.011742\n",
      "(predation_rate, predator_loss_rate)       0.001554  0.009546\n",
      "(predation_rate, prey_birth_rate)          0.001552  0.008304\n",
      "(predator_efficiency, predator_loss_rate)  0.021506  0.128842\n",
      "(predator_efficiency, prey_birth_rate)     0.000471  0.113745\n",
      "(predator_loss_rate, prey_birth_rate)      0.005763  0.052375\n"
     ]
    }
   ],
   "execution_count": 9
  },
  {
   "cell_type": "markdown",
   "metadata": {},
   "source": [
    "The SALib analysis returns a dictionary with keys for the different relevant indicators (e.g. S1 and ST for first-order and total effects). The values are in the same order as the names of the problem dictionary, and indicate the fraction of total output variance corresponding to each of the indices (so that, for example, the predator_efficiency variable contributes approximately 40% of variance on its own, or over 80% when including interactions with other inputs). We can quickly visualize the first-order and total effects as well as their confidence intervals, by converting the results to a DataFrame:"
   ]
  },
  {
   "cell_type": "code",
   "metadata": {
    "collapsed": false,
    "jupyter": {
     "outputs_hidden": false
    },
    "ExecuteTime": {
     "end_time": "2025-05-22T12:56:42.188844Z",
     "start_time": "2025-05-22T12:56:41.417582Z"
    }
   },
   "source": [
    "Si_filter = {k:Si[k] for k in ['ST','ST_conf','S1','S1_conf']}\n",
    "Si_df = pd.DataFrame(Si_filter, index=problem['names'])\n",
    "\n",
    "sns.set_style('white')\n",
    "fig, ax = plt.subplots(1)\n",
    "\n",
    "indices = Si_df[['S1','ST']]\n",
    "err = Si_df[['S1_conf','ST_conf']]\n",
    "\n",
    "indices.plot.bar(yerr=err.values.T,ax=ax)\n",
    "fig.set_size_inches(8,6)\n",
    "fig.subplots_adjust(bottom=0.3)\n",
    "plt.show()"
   ],
   "outputs": [
    {
     "data": {
      "text/plain": [
       "<Figure size 800x600 with 1 Axes>"
      ],
      "image/png": "[encoded data removed]"
     },
     "metadata": {},
     "output_type": "display_data"
    }
   ],
   "execution_count": 10
  },
  {
   "cell_type": "markdown",
   "metadata": {},
   "source": [
    "The figure shows the total order effects (ST) in orange and the first order effects (s1) in blue. The black line indicates the error bar around the estimated effect. In line with the regression results, we see that predator efficiency and predator loss rate are the two dominant parameters to which the model is sensitive. The relatively small differences between the first-order effects and total-order effects (i.e., blue and orange bars) suggest that most of the sensitivity is due to direct effects rather than due to interaction effects.\n",
    "\n",
    "We can also study the convergence of the Sobol indices as a function of the number of samples, by computing the indices over a partial sample:"
   ]
  },
  {
   "cell_type": "code",
   "metadata": {
    "collapsed": false,
    "jupyter": {
     "outputs_hidden": false
    },
    "ExecuteTime": {
     "end_time": "2025-05-22T12:56:44.604377Z",
     "start_time": "2025-05-22T12:56:42.208377Z"
    }
   },
   "source": [
    "Y = prey_mean_sobol\n",
    "\n",
    "s_data = pd.DataFrame(index=problem['names'],\n",
    "                      columns=np.arange(20,n_exp,50)*(2*problem['num_vars']+2))\n",
    "for j in s_data.columns:\n",
    "    scores = sobol.analyze(problem, Y[0:j], calc_second_order=True, print_to_console=False)\n",
    "    s_data.loc[:,j] = scores['ST']"
   ],
   "outputs": [
    {
     "name": "stderr",
     "output_type": "stream",
     "text": [
      "C:\\Users\\Pkast\\Documents\\EPA-Master\\EPA141A - Model-based Decision Making\\project\\venv\\Lib\\site-packages\\SALib\\util\\__init__.py:274: FutureWarning: unique with argument that is not not a Series, Index, ExtensionArray, or np.ndarray is deprecated and will raise in a future version.\n",
      "  names = list(pd.unique(groups))\n"
     ]
    }
   ],
   "execution_count": 11
  },
  {
   "cell_type": "code",
   "metadata": {
    "collapsed": false,
    "jupyter": {
     "outputs_hidden": false
    },
    "ExecuteTime": {
     "end_time": "2025-05-22T12:56:45.306773Z",
     "start_time": "2025-05-22T12:56:44.773301Z"
    }
   },
   "source": [
    "fig, ax = plt.subplots(1)\n",
    "\n",
    "s_data.T.plot(ax=ax)\n",
    "ax.set_xlabel('Samples')\n",
    "ax.set_ylabel('Total index (ST)')\n",
    "plt.show()"
   ],
   "outputs": [
    {
     "data": {
      "text/plain": [
       "<Figure size 640x480 with 1 Axes>"
      ],
      "image/png": "[encoded data removed]"
     },
     "metadata": {},
     "output_type": "display_data"
    }
   ],
   "execution_count": 12
  },
  {
   "cell_type": "markdown",
   "metadata": {
    "jupyter": {
     "outputs_hidden": false
    }
   },
   "source": [
    "The figure shows the estimate of the total order effect for all parameters as a function of the number of samples. The estimates converge relatively quickly because they become essentially stable after 4000 samples."
   ]
  },
  {
   "cell_type": "markdown",
   "metadata": {
    "ExecuteTime": {
     "end_time": "2023-04-20T10:42:59.564450Z",
     "start_time": "2023-04-20T10:42:59.375491Z"
    }
   },
   "source": [
    "#### 4. Extra trees\n",
    "Use the [Extra-Trees analysis](https://emaworkbench.readthedocs.io/en/latest/ema_documentation/analysis/feature_scoring.html) included in the Workbench to approximate the Sobol total indices, with a suitable sampling design. As a starting point, use an ensemble of 100 trees and a max_features parameter of 0.6, and set the analysis to regression mode. Are the estimated importances stable relative to the sample size and the analysis parameters? How do the results compare to the Sobol indices?"
   ]
  },
  {
   "cell_type": "code",
   "metadata": {
    "ExecuteTime": {
     "end_time": "2025-05-22T12:56:45.510769Z",
     "start_time": "2025-05-22T12:56:45.500645Z"
    }
   },
   "source": [
    "from ema_workbench.analysis import feature_scoring"
   ],
   "outputs": [],
   "execution_count": 13
  },
  {
   "cell_type": "markdown",
   "metadata": {
    "jupyter": {
     "outputs_hidden": false
    }
   },
   "source": [
    "In this step, the Extra-Trees analysis is performed to approximate the Sobol total indices. The analysis aims to assess the importance of input parameters on the model output, considering their interactions. The Extra-Trees method is an efficient alternative to the more computationally expensive Sobol indices."
   ]
  },
  {
   "cell_type": "code",
   "metadata": {
    "ExecuteTime": {
     "end_time": "2025-05-22T12:56:45.980758Z",
     "start_time": "2025-05-22T12:56:45.691742Z"
    }
   },
   "source": [
    "prey_final_sobol = outcomes_sobol['prey'][:,0,-1]\n",
    "prey_mean_sobol = np.mean(outcomes_sobol['prey'][:,0,:],axis=1)\n",
    "prey_std_sobol = np.std(outcomes_sobol['prey'][:,0,:],axis=1)"
   ],
   "outputs": [],
   "execution_count": 14
  },
  {
   "cell_type": "code",
   "metadata": {
    "ExecuteTime": {
     "end_time": "2025-05-22T12:56:47.680924Z",
     "start_time": "2025-05-22T12:56:46.147271Z"
    }
   },
   "source": [
    "scores = feature_scoring.get_ex_feature_scores(experiments_sobol, prey_final_sobol,\n",
    "                                      max_features=0.6, mode=RuleInductionType.REGRESSION)[0]\n",
    "scores"
   ],
   "outputs": [
    {
     "data": {
      "text/plain": [
       "                            1\n",
       "0                            \n",
       "predator_efficiency  0.515065\n",
       "predator_loss_rate   0.224842\n",
       "prey_birth_rate      0.209811\n",
       "predation_rate       0.050283"
      ],
      "text/html": [
       "<div>\n",
       "<style scoped>\n",
       "    .dataframe tbody tr th:only-of-type {\n",
       "        vertical-align: middle;\n",
       "    }\n",
       "\n",
       "    .dataframe tbody tr th {\n",
       "        vertical-align: top;\n",
       "    }\n",
       "\n",
       "    .dataframe thead th {\n",
       "        text-align: right;\n",
       "    }\n",
       "</style>\n",
       "<table border=\"1\" class=\"dataframe\">\n",
       "  <thead>\n",
       "    <tr style=\"text-align: right;\">\n",
       "      <th></th>\n",
       "      <th>1</th>\n",
       "    </tr>\n",
       "    <tr>\n",
       "      <th>0</th>\n",
       "      <th></th>\n",
       "    </tr>\n",
       "  </thead>\n",
       "  <tbody>\n",
       "    <tr>\n",
       "      <th>predator_efficiency</th>\n",
       "      <td>0.515065</td>\n",
       "    </tr>\n",
       "    <tr>\n",
       "      <th>predator_loss_rate</th>\n",
       "      <td>0.224842</td>\n",
       "    </tr>\n",
       "    <tr>\n",
       "      <th>prey_birth_rate</th>\n",
       "      <td>0.209811</td>\n",
       "    </tr>\n",
       "    <tr>\n",
       "      <th>predation_rate</th>\n",
       "      <td>0.050283</td>\n",
       "    </tr>\n",
       "  </tbody>\n",
       "</table>\n",
       "</div>"
      ]
     },
     "execution_count": 15,
     "metadata": {},
     "output_type": "execute_result"
    }
   ],
   "execution_count": 15
  },
  {
   "cell_type": "code",
   "metadata": {
    "ExecuteTime": {
     "end_time": "2025-05-22T12:58:11.106936Z",
     "start_time": "2025-05-22T12:56:48.098253Z"
    }
   },
   "source": [
    "combined_scores = []\n",
    "for j in range(100, experiments_sobol.shape[0], 100):\n",
    "    scores = feature_scoring.get_ex_feature_scores(experiments_sobol.iloc[0:j, :],\n",
    "                                                   prey_mean_sobol[0:j],\n",
    "                                                   max_features=0.6,\n",
    "                                                   mode=RuleInductionType.REGRESSION)[0]\n",
    "    scores.columns = [j]\n",
    "    combined_scores.append(scores)"
   ],
   "outputs": [],
   "execution_count": 16
  },
  {
   "cell_type": "code",
   "metadata": {
    "ExecuteTime": {
     "end_time": "2025-05-22T12:58:11.507259Z",
     "start_time": "2025-05-22T12:58:11.449702Z"
    }
   },
   "source": [
    "combined_scores = pd.concat(combined_scores, axis=1, sort=True)"
   ],
   "outputs": [],
   "execution_count": 17
  },
  {
   "cell_type": "code",
   "metadata": {
    "ExecuteTime": {
     "end_time": "2025-05-22T12:58:12.133098Z",
     "start_time": "2025-05-22T12:58:11.523891Z"
    }
   },
   "source": [
    "fig, ax = plt.subplots(1)\n",
    "\n",
    "combined_scores.T.plot(ax=ax)\n",
    "ax.legend(bbox_to_anchor=(1,1))\n",
    "ax.set_xlabel('Samples')\n",
    "ax.set_ylabel('feature scores')\n",
    "plt.show()"
   ],
   "outputs": [
    {
     "data": {
      "text/plain": [
       "<Figure size 640x480 with 1 Axes>"
      ],
      "image/png": "[encoded data removed]"
     },
     "metadata": {},
     "output_type": "display_data"
    }
   ],
   "execution_count": 18
  },
  {
   "cell_type": "markdown",
   "metadata": {
    "jupyter": {
     "outputs_hidden": false
    }
   },
   "source": [
    "This figure is similar to the convergence analysis for Sobol and here to we see convergence after roughly 4000 samples"
   ]
  },
  {
   "cell_type": "markdown",
   "metadata": {
    "jupyter": {
     "outputs_hidden": false
    }
   },
   "source": [
    "#### Concluding remarks\n",
    "This assignment has shown how to perform global sensitivity analysis using linear regression, Sobol, and extra-trees feature scoring. Of these three, Sobol and extra trees are the preferred methods because of their ability to deal with nonlinear effects. Sobol is the gold standard, but requires a very large number of computational experiments. Extra trees is often a convenient alternative that requires fever runs for comparable results."
   ]
  },
  {
   "cell_type": "code",
   "execution_count": null,
   "metadata": {},
   "outputs": [],
   "source": []
  }
 ],
 "metadata": {
  "kernelspec": {
   "display_name": "Python 3",
   "language": "python",
   "name": "python3"
  },
  "language_info": {
   "codemirror_mode": {
    "name": "ipython",
    "version": 3
   },
   "file_extension": ".py",
   "mimetype": "text/x-python",
   "name": "python",
   "nbconvert_exporter": "python",
   "pygments_lexer": "ipython3",
   "version": "3.8.1"
  }
 },
 "nbformat": 4,
 "nbformat_minor": 4
}
