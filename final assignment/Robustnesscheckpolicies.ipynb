{
 "cells": [
  {
   "cell_type": "code",
   "id": "ba0c51f3",
   "metadata": {
    "ExecuteTime": {
     "end_time": "2025-06-11T12:45:53.681722Z",
     "start_time": "2025-06-11T12:45:52.981559Z"
    }
   },
   "source": [
    "import pandas as pd\n",
    "\n",
    "def evaluate_robustness(df, policy_id_col, scenario_id_col, performance_cols, satisficing_thresholds):\n",
    "    grouped = df.groupby(policy_id_col)\n",
    "    results = []\n",
    "\n",
    "    # Prepare rank matrix\n",
    "    rank_dfs = {}\n",
    "    for col in performance_cols:\n",
    "        rank_df = df.copy()\n",
    "        rank_df['Rank'] = rank_df.groupby(scenario_id_col)[col].rank(method='min')\n",
    "        rank_dfs[col] = rank_df[[policy_id_col, scenario_id_col, 'Rank']]\n",
    "\n",
    "    for policy, group in grouped:\n",
    "        metrics = {'Policy': policy}\n",
    "\n",
    "        for col in performance_cols:\n",
    "            values = group[col]\n",
    "\n",
    "            metrics[f'{col} Mean'] = values.mean()\n",
    "            metrics[f'{col} Std'] = values.std()\n",
    "            metrics[f'{col} CV'] = values.std() / values.mean() if values.mean() != 0 else float('inf')\n",
    "\n",
    "            # Regret analysis\n",
    "            scenario_best = df.groupby(scenario_id_col)[col].min()\n",
    "            joined = group[[scenario_id_col, col]].merge(scenario_best.rename('Best'), on=scenario_id_col)\n",
    "            joined['Regret'] = joined[col] - joined['Best']\n",
    "\n",
    "            metrics[f'{col} Max Regret'] = joined['Regret'].max()\n",
    "            metrics[f'{col} Mean Regret'] = joined['Regret'].mean()\n",
    "\n",
    "            # Rank consistency\n",
    "            policy_ranks = rank_dfs[col][rank_dfs[col][policy_id_col] == policy]['Rank']\n",
    "            metrics[f'{col} Rank Std'] = policy_ranks.std()\n",
    "\n",
    "        # Satisficing check\n",
    "        satisficing_count = 0\n",
    "        for _, row in group.iterrows():\n",
    "            if all(row[c] <= satisficing_thresholds[c] for c in satisficing_thresholds):\n",
    "                satisficing_count += 1\n",
    "\n",
    "        metrics['Satisficing Count'] = satisficing_count\n",
    "        metrics['Total Scenarios'] = len(group)\n",
    "\n",
    "        results.append(metrics)\n",
    "\n",
    "    robustness_df = pd.DataFrame(results)\n",
    "    return robustness_df\n",
    "\n",
    "# === LOAD & PREPARE DATA ===\n",
    "\n",
    "# Load the CSV\n",
    "df_2 = pd.read_csv(r'C:\\Users\\merel\\PycharmProjects\\EPA141A\\final assignment\\Robustness results\\policy_1_df.csv')\n",
    "df=pd.read_csv(r'C:\\Users\\merel\\PycharmProjects\\EPA141A\\final assignment\\Robustness results\\3_policies.csv')\n",
    "# Add 'Total Costs' column\n",
    "df['Total Costs'] = (\n",
    "    df['Expected Annual Damage'] +\n",
    "    df['Dike Investment Costs'] +\n",
    "    df['RfR Investment Costs'] +\n",
    "    df['Evacuation Costs']\n",
    ")\n",
    "\n",
    "# Define the performance columns\n",
    "performance_columns = [\n",
    "    'Expected Annual Damage',\n",
    "    'Dike Investment Costs',\n",
    "    'RfR Investment Costs',\n",
    "    'Evacuation Costs',\n",
    "    'Expected Number of Deaths',\n",
    "    'Total Costs'\n",
    "]\n",
    "\n",
    "# Define satisficing thresholds (adjust to your preferences)\n",
    "thresholds = {\n",
    "    'Expected Annual Damage': 1e7,\n",
    "    'Dike Investment Costs': 1e8,\n",
    "    'RfR Investment Costs': 1e7,\n",
    "    'Evacuation Costs': 1e6,\n",
    "    'Expected Number of Deaths': 5,\n",
    "    'Total Costs': 1.5e8\n",
    "}\n",
    "\n",
    "# Run the robustness analysis\n",
    "robustness_summary = evaluate_robustness(\n",
    "    df,\n",
    "    policy_id_col='policy',\n",
    "    scenario_id_col='scenario',\n",
    "    performance_cols=performance_columns,\n",
    "    satisficing_thresholds=thresholds\n",
    ")\n",
    "\n",
    "# Save the results\n",
    "robustness_summary.to_csv(r'C:\\Users\\merel\\PycharmProjects\\EPA141A\\final assignment\\Robustness results\\3_policies_robustness.csv')\n",
    "print(\"✅ Robustness summary saved as '3_policies_robustness.csv'\")\n"
   ],
   "outputs": [
    {
     "name": "stdout",
     "output_type": "stream",
     "text": [
      "✅ Robustness summary saved as '3_policies_robustness.csv'\n"
     ]
    }
   ],
   "execution_count": 2
  },
  {
   "metadata": {
    "ExecuteTime": {
     "end_time": "2025-06-11T10:34:51.703903Z",
     "start_time": "2025-06-11T10:34:51.581985Z"
    }
   },
   "cell_type": "code",
   "source": [
    "df_2=pd.read_csv(r'C:\\Users\\merel\\PycharmProjects\\EPA141A\\final assignment\\results\\robustness_test_dataframe_8-6-25.csv')\n",
    "df_2.columns"
   ],
   "id": "e17e53a56f7e8656",
   "outputs": [
    {
     "data": {
      "text/plain": [
       "Index(['A.0_ID flood wave shape', 'A.1_Bmax', 'A.1_Brate', 'A.1_pfail',\n",
       "       'A.2_Bmax', 'A.2_Brate', 'A.2_pfail', 'A.3_Bmax', 'A.3_Brate',\n",
       "       'A.3_pfail', 'A.4_Bmax', 'A.4_Brate', 'A.4_pfail', 'A.5_Bmax',\n",
       "       'A.5_Brate', 'A.5_pfail', 'discount rate 0', 'discount rate 1',\n",
       "       'discount rate 2', '0_RfR 0', '0_RfR 1', '0_RfR 2', '1_RfR 0',\n",
       "       '1_RfR 1', '1_RfR 2', '2_RfR 0', '2_RfR 1', '2_RfR 2', '3_RfR 0',\n",
       "       '3_RfR 1', '3_RfR 2', '4_RfR 0', '4_RfR 1', '4_RfR 2',\n",
       "       'EWS_DaysToThreat', 'A.1_DikeIncrease 0', 'A.1_DikeIncrease 1',\n",
       "       'A.1_DikeIncrease 2', 'A.2_DikeIncrease 0', 'A.2_DikeIncrease 1',\n",
       "       'A.2_DikeIncrease 2', 'A.3_DikeIncrease 0', 'A.3_DikeIncrease 1',\n",
       "       'A.3_DikeIncrease 2', 'A.4_DikeIncrease 0', 'A.4_DikeIncrease 1',\n",
       "       'A.4_DikeIncrease 2', 'A.5_DikeIncrease 0', 'A.5_DikeIncrease 1',\n",
       "       'A.5_DikeIncrease 2', 'scenario', 'policy', 'model',\n",
       "       'Expected Annual Damage', 'Dike Investment Costs',\n",
       "       'RfR Investment Costs', 'Evacuation Costs',\n",
       "       'Expected Number of Deaths'],\n",
       "      dtype='object')"
      ]
     },
     "execution_count": 21,
     "metadata": {},
     "output_type": "execute_result"
    }
   ],
   "execution_count": 21
  },
  {
   "metadata": {
    "ExecuteTime": {
     "end_time": "2025-06-11T10:32:36.221832Z",
     "start_time": "2025-06-11T10:32:36.214508Z"
    }
   },
   "cell_type": "code",
   "source": "df.columns",
   "id": "8a10de12d4439ce9",
   "outputs": [
    {
     "data": {
      "text/plain": [
       "Index(['Unnamed: 0', 'A.0_ID flood wave shape', 'A.1_Bmax', 'A.1_Brate',\n",
       "       'A.1_pfail', 'A.2_Bmax', 'A.2_Brate', 'A.2_pfail', 'A.3_Bmax',\n",
       "       'A.3_Brate', 'A.3_pfail', 'A.4_Bmax', 'A.4_Brate', 'A.4_pfail',\n",
       "       'A.5_Bmax', 'A.5_Brate', 'A.5_pfail', 'discount rate 0',\n",
       "       'discount rate 1', 'discount rate 2', '0_RfR 0', '0_RfR 1', '0_RfR 2',\n",
       "       '1_RfR 0', '1_RfR 1', '1_RfR 2', '2_RfR 0', '2_RfR 1', '2_RfR 2',\n",
       "       '3_RfR 0', '3_RfR 1', '3_RfR 2', '4_RfR 0', '4_RfR 1', '4_RfR 2',\n",
       "       'EWS_DaysToThreat', 'A.1_DikeIncrease 0', 'A.1_DikeIncrease 1',\n",
       "       'A.1_DikeIncrease 2', 'A.2_DikeIncrease 0', 'A.2_DikeIncrease 1',\n",
       "       'A.2_DikeIncrease 2', 'A.3_DikeIncrease 0', 'A.3_DikeIncrease 1',\n",
       "       'A.3_DikeIncrease 2', 'A.4_DikeIncrease 0', 'A.4_DikeIncrease 1',\n",
       "       'A.4_DikeIncrease 2', 'A.5_DikeIncrease 0', 'A.5_DikeIncrease 1',\n",
       "       'A.5_DikeIncrease 2', 'scenario', 'policy', 'model',\n",
       "       'Expected Annual Damage', 'Dike Investment Costs',\n",
       "       'RfR Investment Costs', 'Evacuation Costs', 'Expected Number of Deaths',\n",
       "       'Total investments', 'Total Costs'],\n",
       "      dtype='object')"
      ]
     },
     "execution_count": 17,
     "metadata": {},
     "output_type": "execute_result"
    }
   ],
   "execution_count": 17
  },
  {
   "metadata": {},
   "cell_type": "code",
   "outputs": [],
   "execution_count": null,
   "source": "",
   "id": "cbfd3a2882581578"
  }
 ],
 "metadata": {
  "kernelspec": {
   "display_name": ".venv",
   "language": "python",
   "name": "python3"
  },
  "language_info": {
   "codemirror_mode": {
    "name": "ipython",
    "version": 3
   },
   "file_extension": ".py",
   "mimetype": "text/x-python",
   "name": "python",
   "nbconvert_exporter": "python",
   "pygments_lexer": "ipython3",
   "version": "3.12.0"
  }
 },
 "nbformat": 4,
 "nbformat_minor": 5
}
