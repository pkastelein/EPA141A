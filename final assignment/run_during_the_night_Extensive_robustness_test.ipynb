{
 "cells": [
  {
   "metadata": {},
   "cell_type": "markdown",
   "source": "# Alles runnen totdat je CODE MEREL ziet, dan het blokje runnen met jouw naam!",
   "id": "fb6097f87db1ba3c"
  },
  {
   "cell_type": "code",
   "id": "initial_id",
   "metadata": {
    "collapsed": true,
    "ExecuteTime": {
     "end_time": "2025-06-16T21:27:57.347668Z",
     "start_time": "2025-06-16T21:27:55.264398Z"
    }
   },
   "source": [
    "import numpy as np\n",
    "import scipy as sp\n",
    "import pandas as pd\n",
    "import matplotlib.pyplot as plt\n",
    "import seaborn as sns\n",
    "import networkx as nx\n",
    "import os\n",
    "\n",
    "from ema_workbench import (\n",
    "    Model,\n",
    "    Policy,\n",
    "    ema_logging,\n",
    "    SequentialEvaluator,\n",
    "    MultiprocessingEvaluator,\n",
    "    Samplers,\n",
    ")\n",
    "from dike_model_function import DikeNetwork  # @UnresolvedImport\n",
    "from problem_formulation import get_model_for_problem_formulation, sum_over, sum_over_time\n",
    "\n",
    "# Define the folder path and get list of files\n",
    "folder_name = \"selected_policies_round_1\"\n",
    "file_list = os.listdir(folder_name)\n",
    "\n",
    "# Initialize empty lists to hold dataframes for policies_20 and policies_21\n",
    "policies_20_dfs = []\n",
    "policies_21_dfs = []\n",
    "\n",
    "for file in file_list:\n",
    "    if file.endswith('.csv'):\n",
    "        # Read the CSV\n",
    "        df = pd.read_csv(os.path.join(folder_name, file), nrows=1)\n",
    "\n",
    "        # Check if file name contains \"_20_\" or \"_21_\" and add sliced df accordingly\n",
    "        if '_20_' in file:\n",
    "            # Take rows 20 to 50 by index (i.e. iloc[19:50])\n",
    "            policies_20_dfs.append(df)\n",
    "        elif '_21_' in file:\n",
    "            policies_21_dfs.append(df)\n",
    "\n",
    "\n",
    "policies_20_df = pd.concat(policies_20_dfs, ignore_index=True).iloc[:, 19:50]\n",
    "policies_21_df = pd.concat(policies_21_dfs, ignore_index=True).iloc[:, 19:50]"
   ],
   "outputs": [
    {
     "name": "stderr",
     "output_type": "stream",
     "text": [
      "C:\\Users\\merel\\AppData\\Local\\Programs\\Python\\Python313\\Lib\\site-packages\\ema_workbench\\em_framework\\__init__.py:101: UserWarning: ipyparallel not installed - IpyparalleEvaluator not available\n",
      "  warnings.warn(\"ipyparallel not installed - IpyparalleEvaluator not available\")\n"
     ]
    }
   ],
   "execution_count": 1
  },
  {
   "metadata": {
    "ExecuteTime": {
     "end_time": "2025-06-16T21:27:57.378548Z",
     "start_time": "2025-06-16T21:27:57.372925Z"
    }
   },
   "cell_type": "code",
   "source": [
    "from ema_workbench import Policy\n",
    "\n",
    "policies_20 = []\n",
    "\n",
    "for idx, row in policies_20_df.iterrows():\n",
    "    # Convert the row (pandas Series) to a dictionary: lever_name -> lever_value\n",
    "    lever_values = row.to_dict()\n",
    "\n",
    "    # Create a unique policy name, e.g. \"policy_20_row_0\"\n",
    "    policy_name = f\"policy_20_row_{idx}\"\n",
    "\n",
    "    # Create the Policy object\n",
    "    policy = Policy(policy_name, **lever_values)\n",
    "\n",
    "    # Append to the list\n",
    "    policies_20.append(policy)\n",
    "\n",
    "policies_21 = []\n",
    "\n",
    "for idx, row in policies_21_df.iterrows():\n",
    "    # Convert the row (pandas Series) to a dictionary: lever_name -> lever_value\n",
    "    lever_values = row.to_dict()\n",
    "\n",
    "    # Create a unique policy name, e.g. \"policy_20_row_0\"\n",
    "    policy_name = f\"policy_21_row_{idx}\"\n",
    "\n",
    "    # Create the Policy object\n",
    "    policy = Policy(policy_name, **lever_values)\n",
    "\n",
    "    # Append to the list\n",
    "    policies_21.append(policy)\n",
    "\n"
   ],
   "id": "9408a003fcb443c3",
   "outputs": [],
   "execution_count": 2
  },
  {
   "metadata": {
    "ExecuteTime": {
     "end_time": "2025-06-16T21:27:57.395335Z",
     "start_time": "2025-06-16T21:27:57.390323Z"
    }
   },
   "cell_type": "code",
   "source": [
    "import os\n",
    "from datetime import datetime\n",
    "import pandas as pd\n",
    "\n",
    "def save_experiments_and_outcomes(name, experiments, outcomes, folder_name=\"robustness_results\"):\n",
    "    \"\"\"\n",
    "    Saves the experiments and outcomes to CSV files in the specified folder,\n",
    "    with filenames that include a custom name and timestamp.\n",
    "\n",
    "    Parameters:\n",
    "    - name (str): Custom label for the output files (e.g., 'policy6_seed20').\n",
    "    - experiments (pd.DataFrame): The experiments DataFrame.\n",
    "    - outcomes (dict): The outcomes dictionary from the EMA Workbench.\n",
    "    - folder_name (str): The name of the folder where files will be saved. Default is \"results\".\n",
    "    \"\"\"\n",
    "    # Get timestamp\n",
    "    current_date = datetime.now().strftime('%Y-%m-%d')\n",
    "\n",
    "    # Ensure folder exists\n",
    "    os.makedirs(folder_name, exist_ok=True)\n",
    "\n",
    "    # Define file paths\n",
    "    exp_path = os.path.join(folder_name, f'{name}_robustness_100000_experiments_{current_date}.csv')\n",
    "    out_path = os.path.join(folder_name, f'{name}_robustness_100000_outcomes_{current_date}.csv')\n",
    "\n",
    "    # Save experiments\n",
    "    experiments.to_csv(exp_path, index=False)\n",
    "\n",
    "    # Flatten outcomes and save\n",
    "    flattened_data = {key: value.flatten() for key, value in outcomes.items()}\n",
    "    df_outcomes = pd.DataFrame(flattened_data)\n",
    "    df_outcomes.to_csv(out_path, index=False)\n",
    "\n",
    "    print(f\"Saved experiments and outcomes as '{name}' in '{folder_name}' (timestamp: {current_date})\")\n"
   ],
   "id": "9cea05f5eeae4b",
   "outputs": [],
   "execution_count": 3
  },
  {
   "metadata": {},
   "cell_type": "markdown",
   "source": "# CODE MEREL",
   "id": "712cc2c308350b35"
  },
  {
   "metadata": {
    "ExecuteTime": {
     "end_time": "2025-06-17T00:36:10.056039Z",
     "start_time": "2025-06-16T21:27:57.645159Z"
    }
   },
   "cell_type": "code",
   "source": [
    "n_scenarios = 100000\n",
    "np.random.seed(21)\n",
    "policy = policies_20[0]\n",
    "\n",
    "# Load your model and define parameters\n",
    "dike_model, planning_steps = get_model_for_problem_formulation(2)\n",
    "\n",
    "with MultiprocessingEvaluator(dike_model) as evaluator:\n",
    "    results = evaluator.perform_experiments(\n",
    "        scenarios=n_scenarios,\n",
    "        policies=policy,\n",
    "        uncertainty_sampling=Samplers.LHS\n",
    "    )\n",
    "\n",
    "experiments, outcomes = results\n",
    "save_experiments_and_outcomes('policy_6_s20', experiments, outcomes)\n"
   ],
   "id": "126c2a6ec94372f0",
   "outputs": [
    {
     "name": "stderr",
     "output_type": "stream",
     "text": [
      "100%|████████████████████████████████| 100000/100000 [3:07:42<00:00,  8.88it/s]\n"
     ]
    },
    {
     "name": "stdout",
     "output_type": "stream",
     "text": [
      "Saved experiments and outcomes as 'policy_6_s20' in 'robustness_results' (timestamp: 2025-06-17)\n"
     ]
    }
   ],
   "execution_count": 4
  },
  {
   "metadata": {},
   "cell_type": "markdown",
   "source": "# CODE TWAN",
   "id": "389a61a1858ab785"
  },
  {
   "metadata": {
    "ExecuteTime": {
     "end_time": "2025-06-16T21:22:57.151762Z",
     "start_time": "2025-06-16T21:22:08.626330Z"
    }
   },
   "cell_type": "code",
   "source": [
    "n_scenarios = 100000\n",
    "np.random.seed(21)\n",
    "policy = policies_20[1]\n",
    "\n",
    "# Load your model and define parameters\n",
    "dike_model, planning_steps = get_model_for_problem_formulation(2)\n",
    "\n",
    "with MultiprocessingEvaluator(dike_model) as evaluator:\n",
    "    results = evaluator.perform_experiments(\n",
    "        scenarios=n_scenarios,\n",
    "        policies=policy,\n",
    "        uncertainty_sampling=Samplers.LHS\n",
    "    )\n",
    "\n",
    "experiments, outcomes = results\n",
    "save_experiments_and_outcomes('policy_7_s20', experiments, outcomes)\n"
   ],
   "id": "ede1418cdcae95e9",
   "outputs": [
    {
     "name": "stderr",
     "output_type": "stream",
     "text": [
      "100%|████████████████████████████████████████████| 1/1 [00:00<00:00,  2.00it/s]\n"
     ]
    },
    {
     "name": "stdout",
     "output_type": "stream",
     "text": [
      "Saved experiments and outcomes as 'policy_7_s20' in 'robustness_results' (timestamp: 2025-06-16)\n"
     ]
    }
   ],
   "execution_count": 5
  },
  {
   "metadata": {},
   "cell_type": "markdown",
   "source": "# CODE JESSE",
   "id": "26897d93cd0db99a"
  },
  {
   "metadata": {
    "ExecuteTime": {
     "end_time": "2025-06-16T21:23:45.244863Z",
     "start_time": "2025-06-16T21:22:57.231926Z"
    }
   },
   "cell_type": "code",
   "source": [
    "n_scenarios = 100000\n",
    "np.random.seed(21)\n",
    "policy = policies_21[0]\n",
    "\n",
    "# Load your model and define parameters\n",
    "dike_model, planning_steps = get_model_for_problem_formulation(2)\n",
    "\n",
    "with MultiprocessingEvaluator(dike_model) as evaluator:\n",
    "    results = evaluator.perform_experiments(\n",
    "        scenarios=n_scenarios,\n",
    "        policies=policy,\n",
    "        uncertainty_sampling=Samplers.LHS\n",
    "    )\n",
    "\n",
    "experiments, outcomes = results\n",
    "save_experiments_and_outcomes('policy_6_s21', experiments, outcomes)\n"
   ],
   "id": "818a152c8a069930",
   "outputs": [
    {
     "name": "stderr",
     "output_type": "stream",
     "text": [
      "100%|████████████████████████████████████████████| 1/1 [00:00<00:00,  1.56it/s]\n"
     ]
    },
    {
     "name": "stdout",
     "output_type": "stream",
     "text": [
      "Saved experiments and outcomes as 'policy_6_s21' in 'robustness_results' (timestamp: 2025-06-16)\n"
     ]
    }
   ],
   "execution_count": 6
  },
  {
   "metadata": {},
   "cell_type": "markdown",
   "source": "# CODE PIEN",
   "id": "c616a2caf7508c03"
  },
  {
   "metadata": {
    "ExecuteTime": {
     "end_time": "2025-06-16T21:24:32.309093Z",
     "start_time": "2025-06-16T21:23:45.448129Z"
    }
   },
   "cell_type": "code",
   "source": [
    "n_scenarios = 100000\n",
    "np.random.seed(21)\n",
    "policy = policies_21[1]\n",
    "\n",
    "# Load your model and define parameters\n",
    "dike_model, planning_steps = get_model_for_problem_formulation(2)\n",
    "\n",
    "with MultiprocessingEvaluator(dike_model) as evaluator:\n",
    "    results = evaluator.perform_experiments(\n",
    "        scenarios=n_scenarios,\n",
    "        policies=policy,\n",
    "        uncertainty_sampling=Samplers.LHS\n",
    "    )\n",
    "\n",
    "experiments, outcomes = results\n",
    "save_experiments_and_outcomes('policy_7_s21', experiments, outcomes)\n"
   ],
   "id": "3067f0a03d8da624",
   "outputs": [
    {
     "name": "stderr",
     "output_type": "stream",
     "text": [
      "100%|████████████████████████████████████████████| 1/1 [00:00<00:00,  1.66it/s]\n"
     ]
    },
    {
     "name": "stdout",
     "output_type": "stream",
     "text": [
      "Saved experiments and outcomes as 'policy_7_s21' in 'robustness_results' (timestamp: 2025-06-16)\n"
     ]
    }
   ],
   "execution_count": 7
  }
 ],
 "metadata": {
  "kernelspec": {
   "display_name": "Python 3",
   "language": "python",
   "name": "python3"
  },
  "language_info": {
   "codemirror_mode": {
    "name": "ipython",
    "version": 2
   },
   "file_extension": ".py",
   "mimetype": "text/x-python",
   "name": "python",
   "nbconvert_exporter": "python",
   "pygments_lexer": "ipython2",
   "version": "2.7.6"
  }
 },
 "nbformat": 4,
 "nbformat_minor": 5
}
