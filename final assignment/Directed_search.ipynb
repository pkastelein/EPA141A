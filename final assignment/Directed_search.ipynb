{
 "cells": [
  {
   "cell_type": "markdown",
   "id": "6c2f1884",
   "metadata": {},
   "source": [
    "Here I will try to implement Multi objective evolutionary Optimization\n",
    "\n",
    "Notes\n",
    "problem formulations 4 and 5 rely on ArrayOutcomes and thus cannot straightforwardly\n",
    "be used in optimizations\n",
    "zeggen ze in de problem_formulation. \n",
    "\n",
    "\n",
    "Dus ik kies 2, want mij boeit het niet wie de problemen ervaart.\n",
    "        Daar hebben ze als standaard dat alle dingen geminimaliseerd worden, wat mij prima lijkt. Dan kiezen we gwn de opties waar er relatief hoge rftr projecten zijn"
   ]
  },
  {
   "cell_type": "code",
   "execution_count": 1,
   "id": "901441d4",
   "metadata": {},
   "outputs": [],
   "source": [
    "import numpy as np\n",
    "import scipy as sp\n",
    "import pandas as pd\n",
    "import matplotlib.pyplot as plt\n",
    "import seaborn as sns\n",
    "import networkx as nx\n",
    "\n",
    "from ema_workbench import (\n",
    "    Model,\n",
    "    Policy,\n",
    "    ema_logging,\n",
    "    SequentialEvaluator,\n",
    "    MultiprocessingEvaluator,\n",
    "    Samplers,\n",
    ")\n",
    "from dike_model_function import DikeNetwork  # @UnresolvedImport\n",
    "from problem_formulation import get_model_for_problem_formulation, sum_over, sum_over_time\n",
    "dike_model, planning_steps = get_model_for_problem_formulation(2)\n",
    "\n",
    "from ema_workbench import (Model, RealParameter, ScalarOutcome,\n",
    "                           MultiprocessingEvaluator, ema_logging,\n",
    "                           Constant)"
   ]
  },
  {
   "cell_type": "markdown",
   "id": "e2243ae4",
   "metadata": {},
   "source": [
    "VGM zijn dus in 2, er vijf uitkomsten, nm . Ze worden allemaal geminimaliseerd. Bij mij komen er geen resultaten uit, ook als ik hem een half uur run."
   ]
  },
  {
   "cell_type": "code",
   "execution_count": null,
   "id": "fb305c90",
   "metadata": {},
   "outputs": [
    {
     "name": "stderr",
     "output_type": "stream",
     "text": [
      "  0%|                                                  | 0/100 [00:00<?, ?it/s]"
     ]
    }
   ],
   "source": [
    "with MultiprocessingEvaluator(dike_model) as evaluator:\n",
    "    results = evaluator.optimize(nfe=100, epsilons=[0.1, 0.1, 0.1,0.1,0.1])"
   ]
  },
  {
   "cell_type": "code",
   "execution_count": null,
   "id": "265a4f93",
   "metadata": {},
   "outputs": [
    {
     "data": {
      "text/html": [
       "<div>\n",
       "<style scoped>\n",
       "    .dataframe tbody tr th:only-of-type {\n",
       "        vertical-align: middle;\n",
       "    }\n",
       "\n",
       "    .dataframe tbody tr th {\n",
       "        vertical-align: top;\n",
       "    }\n",
       "\n",
       "    .dataframe thead th {\n",
       "        text-align: right;\n",
       "    }\n",
       "</style>\n",
       "<table border=\"1\" class=\"dataframe\">\n",
       "  <thead>\n",
       "    <tr style=\"text-align: right;\">\n",
       "      <th></th>\n",
       "      <th>Expected Annual Damage</th>\n",
       "      <th>Dike Investment Costs</th>\n",
       "      <th>RfR Investment Costs</th>\n",
       "      <th>Evacuation Costs</th>\n",
       "      <th>Expected Number of Deaths</th>\n",
       "    </tr>\n",
       "  </thead>\n",
       "  <tbody>\n",
       "    <tr>\n",
       "      <th>0</th>\n",
       "      <td>0.0</td>\n",
       "      <td>6.074743e+08</td>\n",
       "      <td>916200000.0</td>\n",
       "      <td>0.0</td>\n",
       "      <td>0.0</td>\n",
       "    </tr>\n",
       "  </tbody>\n",
       "</table>\n",
       "</div>"
      ],
      "text/plain": [
       "   Expected Annual Damage  Dike Investment Costs  RfR Investment Costs  \\\n",
       "0                     0.0           6.074743e+08           916200000.0   \n",
       "\n",
       "   Evacuation Costs  Expected Number of Deaths  \n",
       "0               0.0                        0.0  "
      ]
     },
     "execution_count": 5,
     "metadata": {},
     "output_type": "execute_result"
    }
   ],
   "source": [
    "experiments, outcomes = results\n",
    "outcomes = pd.DataFrame(outcomes)\n",
    "outcomes.head()"
   ]
  },
  {
   "cell_type": "code",
   "execution_count": null,
   "id": "ad181c61",
   "metadata": {},
   "outputs": [],
   "source": [
    "print(outcomes.columns)"
   ]
  }
 ],
 "metadata": {
  "kernelspec": {
   "display_name": "Python 3",
   "language": "python",
   "name": "python3"
  },
  "language_info": {
   "codemirror_mode": {
    "name": "ipython",
    "version": 3
   },
   "file_extension": ".py",
   "mimetype": "text/x-python",
   "name": "python",
   "nbconvert_exporter": "python",
   "pygments_lexer": "ipython3",
   "version": "3.13.0"
  }
 },
 "nbformat": 4,
 "nbformat_minor": 5
}
