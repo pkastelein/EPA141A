{
 "cells": [
  {
   "cell_type": "markdown",
   "id": "0ae1c6b8",
   "metadata": {},
   "source": [
    "Allemaal dit deel runnen, daarna je eigen deel runnen. KLIK NIET RUN ALLLL!!!!!!"
   ]
  },
  {
   "cell_type": "code",
   "execution_count": 1,
   "id": "8c80cf76",
   "metadata": {},
   "outputs": [],
   "source": [
    "import numpy as np\n",
    "import scipy as sp\n",
    "import pandas as pd\n",
    "import matplotlib.pyplot as plt\n",
    "import seaborn as sns\n",
    "import networkx as nx\n",
    "\n",
    "from ema_workbench import (\n",
    "    Model,\n",
    "    Policy,\n",
    "    ema_logging,\n",
    "    SequentialEvaluator,\n",
    "    MultiprocessingEvaluator,\n",
    "    Samplers,\n",
    ")\n",
    "from dike_model_function import DikeNetwork  # @UnresolvedImport\n",
    "from problem_formulation import get_model_for_problem_formulation, sum_over, sum_over_time\n",
    "dike_model, planning_steps = get_model_for_problem_formulation(5)\n",
    "\n"
   ]
  },
  {
   "cell_type": "markdown",
   "id": "42c5ab3e",
   "metadata": {},
   "source": [
    "hello"
   ]
  },
  {
   "cell_type": "markdown",
   "id": "220e3679",
   "metadata": {},
   "source": [
    "Hier goed je eigen deel selecteren.Je hoort dus een van de drie blokjes maar te kiezen"
   ]
  },
  {
   "cell_type": "markdown",
   "id": "2b6c51b3",
   "metadata": {},
   "source": [
    "Twan"
   ]
  },
  {
   "cell_type": "code",
   "execution_count": 1,
   "id": "7324982c",
   "metadata": {},
   "outputs": [],
   "source": [
    "n_scenarios = 1000\n",
    "n_policies = 5"
   ]
  },
  {
   "cell_type": "code",
   "execution_count": null,
   "id": "f4b423f7",
   "metadata": {},
   "outputs": [
    {
     "name": "stderr",
     "output_type": "stream",
     "text": [
      "c:\\Users\\twand\\AppData\\Local\\Programs\\Python\\Python313\\Lib\\site-packages\\scipy\\stats\\_qmc.py:958: UserWarning: The balance properties of Sobol' points require n to be a power of 2.\n",
      "  sample = self._random(n, workers=workers)\n",
      "  0%|                                   | 135/200000 [00:32<8:33:35,  6.49it/s]"
     ]
    }
   ],
   "source": [
    "# running the model through EMA workbench\n",
    "with MultiprocessingEvaluator(dike_model) as evaluator:\n",
    "    results = evaluator.perform_experiments(scenarios=n_scenarios, policies=n_policies, uncertainty_sampling=Samplers.SOBOL, lever_sampling=Samplers.LHS)"
   ]
  },
  {
   "cell_type": "markdown",
   "id": "954636d4",
   "metadata": {},
   "source": [
    "Pien"
   ]
  },
  {
   "cell_type": "code",
   "execution_count": null,
   "id": "038a2b70",
   "metadata": {},
   "outputs": [],
   "source": [
    "n_scenarios = 5\n",
    "n_policies = 1000"
   ]
  },
  {
   "cell_type": "code",
   "execution_count": null,
   "id": "527b7a49",
   "metadata": {},
   "outputs": [
    {
     "name": "stderr",
     "output_type": "stream",
     "text": [
      "100%|██████████████████████████████████████| 2560/2560 [05:36<00:00,  7.61it/s]\n"
     ]
    }
   ],
   "source": [
    "# running the model through EMA workbench\n",
    "with MultiprocessingEvaluator(dike_model) as evaluator:\n",
    "    results = evaluator.perform_experiments(scenarios=n_scenarios, policies=n_policies, uncertainty_sampling=Samplers.LHS, lever_sampling=Samplers.SOBOL)"
   ]
  },
  {
   "cell_type": "markdown",
   "id": "945da076",
   "metadata": {},
   "source": [
    "Allemaal dit deel runnen nadat je alleen je eigen deel hebt geselecteerd"
   ]
  },
  {
   "cell_type": "code",
   "execution_count": 12,
   "id": "1c9b74ab",
   "metadata": {},
   "outputs": [],
   "source": [
    "experiments, outcomes = results"
   ]
  },
  {
   "cell_type": "code",
   "execution_count": null,
   "id": "5e78ee21",
   "metadata": {},
   "outputs": [
    {
     "name": "stdout",
     "output_type": "stream",
     "text": [
      "Experiments and outcomes saved in the 'results' folder with date 2025-06-02_17-05.\n"
     ]
    }
   ],
   "source": [
    "import os\n",
    "from datetime import datetime\n",
    "\n",
    "# Get the current date in YYYY-MM-DD_HH-MM format\n",
    "current_date = datetime.now().strftime('%Y-%m-%d_%H-%M')\n",
    "\n",
    "# Define the folder path\n",
    "folder_name = \"results\"\n",
    "if not os.path.exists(folder_name):\n",
    "    os.makedirs(folder_name)  # Create the folder if it doesn't exist\n",
    "\n",
    "# Save experiments DataFrame to a CSV file in the folder\n",
    "experiments.to_csv(os.path.join(folder_name, f'SOBOL_experiments_{current_date}.csv'), index=False)\n",
    "\n",
    "# Save outcomes DataFrame to a CSV file in the folder\n",
    "df_outcomes = pd.DataFrame(outcomes)\n",
    "df_outcomes.to_csv(os.path.join(folder_name, f'SOBOL_outcomes_{current_date}.csv'), index=False)\n",
    "\n",
    "print(f\"Experiments and outcomes saved in the '{folder_name}' folder with date {current_date}.\")"
   ]
  },
  {
   "cell_type": "markdown",
   "id": "f5eff6ec",
   "metadata": {},
   "source": [
    "Verander de naam zodat SOBOL oid erin zit"
   ]
  }
 ],
 "metadata": {
  "kernelspec": {
   "display_name": "Python 3",
   "language": "python",
   "name": "python3"
  },
  "language_info": {
   "codemirror_mode": {
    "name": "ipython",
    "version": 3
   },
   "file_extension": ".py",
   "mimetype": "text/x-python",
   "name": "python",
   "nbconvert_exporter": "python",
   "pygments_lexer": "ipython3",
   "version": "3.13.0"
  }
 },
 "nbformat": 4,
 "nbformat_minor": 5
}
