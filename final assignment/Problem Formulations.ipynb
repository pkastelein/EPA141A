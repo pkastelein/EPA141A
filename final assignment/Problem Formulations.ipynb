{
 "cells": [
  {
   "cell_type": "code",
   "execution_count": 7,
   "metadata": {
    "ExecuteTime": {
     "end_time": "2025-06-02T08:27:37.390724Z",
     "start_time": "2025-06-02T08:27:37.385736Z"
    }
   },
   "outputs": [],
   "source": [
    "import numpy as np\n",
    "import scipy as sp\n",
    "import pandas as pd\n",
    "import matplotlib.pyplot as plt\n",
    "import seaborn as sns\n",
    "import networkx as nx"
   ]
  },
  {
   "cell_type": "code",
   "execution_count": 8,
   "metadata": {
    "ExecuteTime": {
     "end_time": "2025-06-02T08:27:37.725490Z",
     "start_time": "2025-06-02T08:27:37.719466Z"
    }
   },
   "outputs": [
    {
     "name": "stdout",
     "output_type": "stream",
     "text": [
      "2.2.3\n",
      "3.4.2\n"
     ]
    }
   ],
   "source": [
    "# make sure pandas is version 1.0 or higher\n",
    "# make sure networkx is verion 2.4 or higher\n",
    "print(pd.__version__)\n",
    "print(nx.__version__)"
   ]
  },
  {
   "cell_type": "code",
   "execution_count": 14,
   "metadata": {
    "ExecuteTime": {
     "end_time": "2025-06-02T08:27:38.010283Z",
     "start_time": "2025-06-02T08:27:38.005036Z"
    }
   },
   "outputs": [],
   "source": [
    "from ema_workbench import (\n",
    "    Model,\n",
    "    Policy,\n",
    "    ema_logging,\n",
    "    SequentialEvaluator,\n",
    "    MultiprocessingEvaluator,\n",
    ")\n",
    "from dike_model_function import DikeNetwork  # @UnresolvedImport\n",
    "from problem_formulation import get_model_for_problem_formulation, sum_over, sum_over_time"
   ]
  },
  {
   "cell_type": "code",
   "execution_count": 15,
   "metadata": {
    "ExecuteTime": {
     "end_time": "2025-06-02T08:27:38.612040Z",
     "start_time": "2025-06-02T08:27:38.315811Z"
    }
   },
   "outputs": [],
   "source": [
    "ema_logging.log_to_stderr(ema_logging.INFO)\n",
    "\n",
    "# choose problem formulation number, between 0-5\n",
    "# each problem formulation has its own list of outcomes\n",
    "dike_model, planning_steps = get_model_for_problem_formulation(3)"
   ]
  },
  {
   "cell_type": "code",
   "execution_count": 59,
   "metadata": {
    "ExecuteTime": {
     "end_time": "2025-06-02T08:27:38.735815Z",
     "start_time": "2025-06-02T08:27:38.719738Z"
    }
   },
   "outputs": [
    {
     "name": "stdout",
     "output_type": "stream",
     "text": [
      "CategoricalParameter('discount rate 0', [0, 1, 2, 3])\n",
      "CategoricalParameter('discount rate 1', [0, 1, 2, 3])\n",
      "CategoricalParameter('discount rate 2', [0, 1, 2, 3])\n",
      "IntegerParameter('A.0_ID flood wave shape', 0, 132, resolution=None, default=None, variable_name=['A.0_ID flood wave shape'], pff=False)\n",
      "RealParameter('A.1_Bmax', 30, 350, resolution=None, default=None, variable_name=['A.1_Bmax'], pff=False)\n",
      "RealParameter('A.1_pfail', 0, 1, resolution=None, default=None, variable_name=['A.1_pfail'], pff=False)\n",
      "CategoricalParameter('A.1_Brate', [0, 1, 2])\n",
      "RealParameter('A.2_Bmax', 30, 350, resolution=None, default=None, variable_name=['A.2_Bmax'], pff=False)\n",
      "RealParameter('A.2_pfail', 0, 1, resolution=None, default=None, variable_name=['A.2_pfail'], pff=False)\n",
      "CategoricalParameter('A.2_Brate', [0, 1, 2])\n",
      "RealParameter('A.3_Bmax', 30, 350, resolution=None, default=None, variable_name=['A.3_Bmax'], pff=False)\n",
      "RealParameter('A.3_pfail', 0, 1, resolution=None, default=None, variable_name=['A.3_pfail'], pff=False)\n",
      "CategoricalParameter('A.3_Brate', [0, 1, 2])\n",
      "RealParameter('A.4_Bmax', 30, 350, resolution=None, default=None, variable_name=['A.4_Bmax'], pff=False)\n",
      "RealParameter('A.4_pfail', 0, 1, resolution=None, default=None, variable_name=['A.4_pfail'], pff=False)\n",
      "CategoricalParameter('A.4_Brate', [0, 1, 2])\n",
      "RealParameter('A.5_Bmax', 30, 350, resolution=None, default=None, variable_name=['A.5_Bmax'], pff=False)\n",
      "RealParameter('A.5_pfail', 0, 1, resolution=None, default=None, variable_name=['A.5_pfail'], pff=False)\n",
      "CategoricalParameter('A.5_Brate', [0, 1, 2])\n"
     ]
    }
   ],
   "source": [
    "# enlisting uncertainties, their types (RealParameter/IntegerParameter/CategoricalParameter), lower boundary, and upper boundary\n",
    "import copy\n",
    "\n",
    "for unc in dike_model.uncertainties:\n",
    "    print(repr(unc))\n",
    "\n",
    "uncertainties = copy.deepcopy(dike_model.uncertainties)"
   ]
  },
  {
   "cell_type": "code",
   "execution_count": 60,
   "metadata": {
    "ExecuteTime": {
     "end_time": "2025-06-02T08:27:39.035617Z",
     "start_time": "2025-06-02T08:27:39.016366Z"
    }
   },
   "outputs": [
    {
     "name": "stdout",
     "output_type": "stream",
     "text": [
      "IntegerParameter('0_RfR 0', 0, 1, resolution=None, default=None, variable_name=['0_RfR 0'], pff=False)\n",
      "IntegerParameter('0_RfR 1', 0, 1, resolution=None, default=None, variable_name=['0_RfR 1'], pff=False)\n",
      "IntegerParameter('0_RfR 2', 0, 1, resolution=None, default=None, variable_name=['0_RfR 2'], pff=False)\n",
      "IntegerParameter('1_RfR 0', 0, 1, resolution=None, default=None, variable_name=['1_RfR 0'], pff=False)\n",
      "IntegerParameter('1_RfR 1', 0, 1, resolution=None, default=None, variable_name=['1_RfR 1'], pff=False)\n",
      "IntegerParameter('1_RfR 2', 0, 1, resolution=None, default=None, variable_name=['1_RfR 2'], pff=False)\n",
      "IntegerParameter('2_RfR 0', 0, 1, resolution=None, default=None, variable_name=['2_RfR 0'], pff=False)\n",
      "IntegerParameter('2_RfR 1', 0, 1, resolution=None, default=None, variable_name=['2_RfR 1'], pff=False)\n",
      "IntegerParameter('2_RfR 2', 0, 1, resolution=None, default=None, variable_name=['2_RfR 2'], pff=False)\n",
      "IntegerParameter('3_RfR 0', 0, 1, resolution=None, default=None, variable_name=['3_RfR 0'], pff=False)\n",
      "IntegerParameter('3_RfR 1', 0, 1, resolution=None, default=None, variable_name=['3_RfR 1'], pff=False)\n",
      "IntegerParameter('3_RfR 2', 0, 1, resolution=None, default=None, variable_name=['3_RfR 2'], pff=False)\n",
      "IntegerParameter('4_RfR 0', 0, 1, resolution=None, default=None, variable_name=['4_RfR 0'], pff=False)\n",
      "IntegerParameter('4_RfR 1', 0, 1, resolution=None, default=None, variable_name=['4_RfR 1'], pff=False)\n",
      "IntegerParameter('4_RfR 2', 0, 1, resolution=None, default=None, variable_name=['4_RfR 2'], pff=False)\n",
      "IntegerParameter('EWS_DaysToThreat', 0, 4, resolution=None, default=None, variable_name=['EWS_DaysToThreat'], pff=False)\n",
      "IntegerParameter('A.1_DikeIncrease 0', 0, 10, resolution=None, default=None, variable_name=['A.1_DikeIncrease 0'], pff=False)\n",
      "IntegerParameter('A.1_DikeIncrease 1', 0, 10, resolution=None, default=None, variable_name=['A.1_DikeIncrease 1'], pff=False)\n",
      "IntegerParameter('A.1_DikeIncrease 2', 0, 10, resolution=None, default=None, variable_name=['A.1_DikeIncrease 2'], pff=False)\n",
      "IntegerParameter('A.2_DikeIncrease 0', 0, 10, resolution=None, default=None, variable_name=['A.2_DikeIncrease 0'], pff=False)\n",
      "IntegerParameter('A.2_DikeIncrease 1', 0, 10, resolution=None, default=None, variable_name=['A.2_DikeIncrease 1'], pff=False)\n",
      "IntegerParameter('A.2_DikeIncrease 2', 0, 10, resolution=None, default=None, variable_name=['A.2_DikeIncrease 2'], pff=False)\n",
      "IntegerParameter('A.3_DikeIncrease 0', 0, 10, resolution=None, default=None, variable_name=['A.3_DikeIncrease 0'], pff=False)\n",
      "IntegerParameter('A.3_DikeIncrease 1', 0, 10, resolution=None, default=None, variable_name=['A.3_DikeIncrease 1'], pff=False)\n",
      "IntegerParameter('A.3_DikeIncrease 2', 0, 10, resolution=None, default=None, variable_name=['A.3_DikeIncrease 2'], pff=False)\n",
      "IntegerParameter('A.4_DikeIncrease 0', 0, 10, resolution=None, default=None, variable_name=['A.4_DikeIncrease 0'], pff=False)\n",
      "IntegerParameter('A.4_DikeIncrease 1', 0, 10, resolution=None, default=None, variable_name=['A.4_DikeIncrease 1'], pff=False)\n",
      "IntegerParameter('A.4_DikeIncrease 2', 0, 10, resolution=None, default=None, variable_name=['A.4_DikeIncrease 2'], pff=False)\n",
      "IntegerParameter('A.5_DikeIncrease 0', 0, 10, resolution=None, default=None, variable_name=['A.5_DikeIncrease 0'], pff=False)\n",
      "IntegerParameter('A.5_DikeIncrease 1', 0, 10, resolution=None, default=None, variable_name=['A.5_DikeIncrease 1'], pff=False)\n",
      "IntegerParameter('A.5_DikeIncrease 2', 0, 10, resolution=None, default=None, variable_name=['A.5_DikeIncrease 2'], pff=False)\n"
     ]
    }
   ],
   "source": [
    "# enlisting policy levers, their types (RealParameter/IntegerParameter), lower boundary, and upper boundary\n",
    "for policy in dike_model.levers:\n",
    "    print(repr(policy))\n",
    "\n",
    "levers = copy.deepcopy(dike_model.levers)"
   ]
  },
  {
   "cell_type": "code",
   "execution_count": 61,
   "metadata": {
    "ExecuteTime": {
     "end_time": "2025-06-02T08:27:39.401763Z",
     "start_time": "2025-06-02T08:27:39.396219Z"
    }
   },
   "outputs": [
    {
     "name": "stdout",
     "output_type": "stream",
     "text": [
      "ScalarOutcome('A.1 Total Costs', variable_name=('A.1_Expected Annual Damage', 'A.1_Dike Investment Costs'), function=<function sum_over at 0x000001BC0037D8A0>)\n",
      "ScalarOutcome('A.1_Expected Number of Deaths', variable_name=('A.1_Expected Number of Deaths',), function=<function sum_over at 0x000001BC0037D8A0>)\n",
      "ScalarOutcome('A.2 Total Costs', variable_name=('A.2_Expected Annual Damage', 'A.2_Dike Investment Costs'), function=<function sum_over at 0x000001BC0037D8A0>)\n",
      "ScalarOutcome('A.2_Expected Number of Deaths', variable_name=('A.2_Expected Number of Deaths',), function=<function sum_over at 0x000001BC0037D8A0>)\n",
      "ScalarOutcome('A.3 Total Costs', variable_name=('A.3_Expected Annual Damage', 'A.3_Dike Investment Costs'), function=<function sum_over at 0x000001BC0037D8A0>)\n",
      "ScalarOutcome('A.3_Expected Number of Deaths', variable_name=('A.3_Expected Number of Deaths',), function=<function sum_over at 0x000001BC0037D8A0>)\n",
      "ScalarOutcome('A.4 Total Costs', variable_name=('A.4_Expected Annual Damage', 'A.4_Dike Investment Costs'), function=<function sum_over at 0x000001BC0037D8A0>)\n",
      "ScalarOutcome('A.4_Expected Number of Deaths', variable_name=('A.4_Expected Number of Deaths',), function=<function sum_over at 0x000001BC0037D8A0>)\n",
      "ScalarOutcome('A.5 Total Costs', variable_name=('A.5_Expected Annual Damage', 'A.5_Dike Investment Costs'), function=<function sum_over at 0x000001BC0037D8A0>)\n",
      "ScalarOutcome('A.5_Expected Number of Deaths', variable_name=('A.5_Expected Number of Deaths',), function=<function sum_over at 0x000001BC0037D8A0>)\n",
      "ScalarOutcome('RfR Total Costs', variable_name=('RfR Total Costs',), function=<function sum_over at 0x000001BC0037D8A0>)\n",
      "ScalarOutcome('Expected Evacuation Costs', variable_name=('Expected Evacuation Costs',), function=<function sum_over at 0x000001BC0037D8A0>)\n"
     ]
    }
   ],
   "source": [
    "# enlisting outcomes\n",
    "for outcome in dike_model.outcomes:\n",
    "    print(repr(outcome))"
   ]
  },
  {
   "cell_type": "code",
   "execution_count": 62,
   "metadata": {
    "ExecuteTime": {
     "end_time": "2025-06-02T08:28:42.006258Z",
     "start_time": "2025-06-02T08:27:39.715011Z"
    }
   },
   "outputs": [
    {
     "name": "stderr",
     "output_type": "stream",
     "text": [
      "[MainProcess/INFO] pool started with 12 workers\n",
      "[MainProcess/INFO] performing 20 scenarios * 5 policies * 1 model(s) = 100 experiments\n",
      "100%|████████████████████████████████████████| 100/100 [00:18<00:00,  5.49it/s]\n",
      "[MainProcess/INFO] experiments finished\n",
      "[MainProcess/INFO] terminating pool\n"
     ]
    }
   ],
   "source": [
    "# running the model through EMA workbench\n",
    "with MultiprocessingEvaluator(dike_model) as evaluator:\n",
    "    results = evaluator.perform_experiments(scenarios=20, policies=5)"
   ]
  },
  {
   "cell_type": "code",
   "execution_count": 63,
   "metadata": {
    "ExecuteTime": {
     "end_time": "2025-06-02T08:28:42.127823Z",
     "start_time": "2025-06-02T08:28:42.120176Z"
    }
   },
   "outputs": [],
   "source": [
    "# observing the simulation runs\n",
    "experiments, outcomes = results"
   ]
  },
  {
   "cell_type": "code",
   "execution_count": 64,
   "metadata": {
    "ExecuteTime": {
     "end_time": "2025-06-02T08:28:42.219092Z",
     "start_time": "2025-06-02T08:28:42.157046Z"
    }
   },
   "outputs": [
    {
     "data": {
      "text/html": [
       "<div>\n",
       "<style scoped>\n",
       "    .dataframe tbody tr th:only-of-type {\n",
       "        vertical-align: middle;\n",
       "    }\n",
       "\n",
       "    .dataframe tbody tr th {\n",
       "        vertical-align: top;\n",
       "    }\n",
       "\n",
       "    .dataframe thead th {\n",
       "        text-align: right;\n",
       "    }\n",
       "</style>\n",
       "<table border=\"1\" class=\"dataframe\">\n",
       "  <thead>\n",
       "    <tr style=\"text-align: right;\">\n",
       "      <th></th>\n",
       "      <th>A.0_ID flood wave shape</th>\n",
       "      <th>A.1_Bmax</th>\n",
       "      <th>A.1_Brate</th>\n",
       "      <th>A.1_pfail</th>\n",
       "      <th>A.2_Bmax</th>\n",
       "      <th>A.2_Brate</th>\n",
       "      <th>A.2_pfail</th>\n",
       "      <th>A.3_Bmax</th>\n",
       "      <th>A.3_Brate</th>\n",
       "      <th>A.3_pfail</th>\n",
       "      <th>...</th>\n",
       "      <th>A.4_DikeIncrease 0</th>\n",
       "      <th>A.4_DikeIncrease 1</th>\n",
       "      <th>A.4_DikeIncrease 2</th>\n",
       "      <th>A.5_DikeIncrease 0</th>\n",
       "      <th>A.5_DikeIncrease 1</th>\n",
       "      <th>A.5_DikeIncrease 2</th>\n",
       "      <th>EWS_DaysToThreat</th>\n",
       "      <th>scenario</th>\n",
       "      <th>policy</th>\n",
       "      <th>model</th>\n",
       "    </tr>\n",
       "  </thead>\n",
       "  <tbody>\n",
       "    <tr>\n",
       "      <th>0</th>\n",
       "      <td>128</td>\n",
       "      <td>241.308404</td>\n",
       "      <td>1.5</td>\n",
       "      <td>0.937493</td>\n",
       "      <td>34.436584</td>\n",
       "      <td>1.0</td>\n",
       "      <td>0.506706</td>\n",
       "      <td>168.859252</td>\n",
       "      <td>10.0</td>\n",
       "      <td>0.836989</td>\n",
       "      <td>...</td>\n",
       "      <td>8</td>\n",
       "      <td>0</td>\n",
       "      <td>5</td>\n",
       "      <td>3</td>\n",
       "      <td>0</td>\n",
       "      <td>2</td>\n",
       "      <td>2</td>\n",
       "      <td>121081</td>\n",
       "      <td>121076</td>\n",
       "      <td>dikesnet</td>\n",
       "    </tr>\n",
       "    <tr>\n",
       "      <th>1</th>\n",
       "      <td>52</td>\n",
       "      <td>324.903397</td>\n",
       "      <td>1.0</td>\n",
       "      <td>0.068462</td>\n",
       "      <td>252.354958</td>\n",
       "      <td>10.0</td>\n",
       "      <td>0.884698</td>\n",
       "      <td>207.485634</td>\n",
       "      <td>1.0</td>\n",
       "      <td>0.656061</td>\n",
       "      <td>...</td>\n",
       "      <td>8</td>\n",
       "      <td>0</td>\n",
       "      <td>5</td>\n",
       "      <td>3</td>\n",
       "      <td>0</td>\n",
       "      <td>2</td>\n",
       "      <td>2</td>\n",
       "      <td>121082</td>\n",
       "      <td>121076</td>\n",
       "      <td>dikesnet</td>\n",
       "    </tr>\n",
       "    <tr>\n",
       "      <th>2</th>\n",
       "      <td>17</td>\n",
       "      <td>277.066835</td>\n",
       "      <td>1.0</td>\n",
       "      <td>0.376904</td>\n",
       "      <td>175.108842</td>\n",
       "      <td>10.0</td>\n",
       "      <td>0.972241</td>\n",
       "      <td>174.764979</td>\n",
       "      <td>1.5</td>\n",
       "      <td>0.586020</td>\n",
       "      <td>...</td>\n",
       "      <td>8</td>\n",
       "      <td>0</td>\n",
       "      <td>5</td>\n",
       "      <td>3</td>\n",
       "      <td>0</td>\n",
       "      <td>2</td>\n",
       "      <td>2</td>\n",
       "      <td>121083</td>\n",
       "      <td>121076</td>\n",
       "      <td>dikesnet</td>\n",
       "    </tr>\n",
       "    <tr>\n",
       "      <th>3</th>\n",
       "      <td>118</td>\n",
       "      <td>216.945699</td>\n",
       "      <td>10.0</td>\n",
       "      <td>0.787221</td>\n",
       "      <td>70.515402</td>\n",
       "      <td>1.5</td>\n",
       "      <td>0.903228</td>\n",
       "      <td>337.847849</td>\n",
       "      <td>1.0</td>\n",
       "      <td>0.892243</td>\n",
       "      <td>...</td>\n",
       "      <td>8</td>\n",
       "      <td>0</td>\n",
       "      <td>5</td>\n",
       "      <td>3</td>\n",
       "      <td>0</td>\n",
       "      <td>2</td>\n",
       "      <td>2</td>\n",
       "      <td>121084</td>\n",
       "      <td>121076</td>\n",
       "      <td>dikesnet</td>\n",
       "    </tr>\n",
       "    <tr>\n",
       "      <th>4</th>\n",
       "      <td>32</td>\n",
       "      <td>348.019629</td>\n",
       "      <td>10.0</td>\n",
       "      <td>0.000891</td>\n",
       "      <td>163.276140</td>\n",
       "      <td>1.5</td>\n",
       "      <td>0.032283</td>\n",
       "      <td>282.985952</td>\n",
       "      <td>1.0</td>\n",
       "      <td>0.508986</td>\n",
       "      <td>...</td>\n",
       "      <td>8</td>\n",
       "      <td>0</td>\n",
       "      <td>5</td>\n",
       "      <td>3</td>\n",
       "      <td>0</td>\n",
       "      <td>2</td>\n",
       "      <td>2</td>\n",
       "      <td>121085</td>\n",
       "      <td>121076</td>\n",
       "      <td>dikesnet</td>\n",
       "    </tr>\n",
       "    <tr>\n",
       "      <th>...</th>\n",
       "      <td>...</td>\n",
       "      <td>...</td>\n",
       "      <td>...</td>\n",
       "      <td>...</td>\n",
       "      <td>...</td>\n",
       "      <td>...</td>\n",
       "      <td>...</td>\n",
       "      <td>...</td>\n",
       "      <td>...</td>\n",
       "      <td>...</td>\n",
       "      <td>...</td>\n",
       "      <td>...</td>\n",
       "      <td>...</td>\n",
       "      <td>...</td>\n",
       "      <td>...</td>\n",
       "      <td>...</td>\n",
       "      <td>...</td>\n",
       "      <td>...</td>\n",
       "      <td>...</td>\n",
       "      <td>...</td>\n",
       "      <td>...</td>\n",
       "    </tr>\n",
       "    <tr>\n",
       "      <th>95</th>\n",
       "      <td>96</td>\n",
       "      <td>179.301281</td>\n",
       "      <td>1.0</td>\n",
       "      <td>0.112610</td>\n",
       "      <td>218.470941</td>\n",
       "      <td>1.0</td>\n",
       "      <td>0.085677</td>\n",
       "      <td>256.448430</td>\n",
       "      <td>10.0</td>\n",
       "      <td>0.736932</td>\n",
       "      <td>...</td>\n",
       "      <td>9</td>\n",
       "      <td>10</td>\n",
       "      <td>2</td>\n",
       "      <td>7</td>\n",
       "      <td>9</td>\n",
       "      <td>1</td>\n",
       "      <td>4</td>\n",
       "      <td>121096</td>\n",
       "      <td>121080</td>\n",
       "      <td>dikesnet</td>\n",
       "    </tr>\n",
       "    <tr>\n",
       "      <th>96</th>\n",
       "      <td>86</td>\n",
       "      <td>60.396352</td>\n",
       "      <td>10.0</td>\n",
       "      <td>0.161866</td>\n",
       "      <td>308.966883</td>\n",
       "      <td>1.0</td>\n",
       "      <td>0.753113</td>\n",
       "      <td>303.681175</td>\n",
       "      <td>1.0</td>\n",
       "      <td>0.076656</td>\n",
       "      <td>...</td>\n",
       "      <td>9</td>\n",
       "      <td>10</td>\n",
       "      <td>2</td>\n",
       "      <td>7</td>\n",
       "      <td>9</td>\n",
       "      <td>1</td>\n",
       "      <td>4</td>\n",
       "      <td>121097</td>\n",
       "      <td>121080</td>\n",
       "      <td>dikesnet</td>\n",
       "    </tr>\n",
       "    <tr>\n",
       "      <th>97</th>\n",
       "      <td>72</td>\n",
       "      <td>269.193140</td>\n",
       "      <td>1.5</td>\n",
       "      <td>0.878689</td>\n",
       "      <td>130.875337</td>\n",
       "      <td>10.0</td>\n",
       "      <td>0.706440</td>\n",
       "      <td>80.374842</td>\n",
       "      <td>1.5</td>\n",
       "      <td>0.181204</td>\n",
       "      <td>...</td>\n",
       "      <td>9</td>\n",
       "      <td>10</td>\n",
       "      <td>2</td>\n",
       "      <td>7</td>\n",
       "      <td>9</td>\n",
       "      <td>1</td>\n",
       "      <td>4</td>\n",
       "      <td>121098</td>\n",
       "      <td>121080</td>\n",
       "      <td>dikesnet</td>\n",
       "    </tr>\n",
       "    <tr>\n",
       "      <th>98</th>\n",
       "      <td>123</td>\n",
       "      <td>171.232693</td>\n",
       "      <td>1.5</td>\n",
       "      <td>0.445293</td>\n",
       "      <td>328.875168</td>\n",
       "      <td>1.0</td>\n",
       "      <td>0.110696</td>\n",
       "      <td>128.718076</td>\n",
       "      <td>10.0</td>\n",
       "      <td>0.960837</td>\n",
       "      <td>...</td>\n",
       "      <td>9</td>\n",
       "      <td>10</td>\n",
       "      <td>2</td>\n",
       "      <td>7</td>\n",
       "      <td>9</td>\n",
       "      <td>1</td>\n",
       "      <td>4</td>\n",
       "      <td>121099</td>\n",
       "      <td>121080</td>\n",
       "      <td>dikesnet</td>\n",
       "    </tr>\n",
       "    <tr>\n",
       "      <th>99</th>\n",
       "      <td>89</td>\n",
       "      <td>301.275128</td>\n",
       "      <td>1.5</td>\n",
       "      <td>0.323682</td>\n",
       "      <td>345.928418</td>\n",
       "      <td>1.5</td>\n",
       "      <td>0.825217</td>\n",
       "      <td>156.841095</td>\n",
       "      <td>1.0</td>\n",
       "      <td>0.921298</td>\n",
       "      <td>...</td>\n",
       "      <td>9</td>\n",
       "      <td>10</td>\n",
       "      <td>2</td>\n",
       "      <td>7</td>\n",
       "      <td>9</td>\n",
       "      <td>1</td>\n",
       "      <td>4</td>\n",
       "      <td>121100</td>\n",
       "      <td>121080</td>\n",
       "      <td>dikesnet</td>\n",
       "    </tr>\n",
       "  </tbody>\n",
       "</table>\n",
       "<p>100 rows × 53 columns</p>\n",
       "</div>"
      ],
      "text/plain": [
       "    A.0_ID flood wave shape    A.1_Bmax A.1_Brate  A.1_pfail    A.2_Bmax  \\\n",
       "0                       128  241.308404       1.5   0.937493   34.436584   \n",
       "1                        52  324.903397       1.0   0.068462  252.354958   \n",
       "2                        17  277.066835       1.0   0.376904  175.108842   \n",
       "3                       118  216.945699      10.0   0.787221   70.515402   \n",
       "4                        32  348.019629      10.0   0.000891  163.276140   \n",
       "..                      ...         ...       ...        ...         ...   \n",
       "95                       96  179.301281       1.0   0.112610  218.470941   \n",
       "96                       86   60.396352      10.0   0.161866  308.966883   \n",
       "97                       72  269.193140       1.5   0.878689  130.875337   \n",
       "98                      123  171.232693       1.5   0.445293  328.875168   \n",
       "99                       89  301.275128       1.5   0.323682  345.928418   \n",
       "\n",
       "   A.2_Brate  A.2_pfail    A.3_Bmax A.3_Brate  A.3_pfail  ...  \\\n",
       "0        1.0   0.506706  168.859252      10.0   0.836989  ...   \n",
       "1       10.0   0.884698  207.485634       1.0   0.656061  ...   \n",
       "2       10.0   0.972241  174.764979       1.5   0.586020  ...   \n",
       "3        1.5   0.903228  337.847849       1.0   0.892243  ...   \n",
       "4        1.5   0.032283  282.985952       1.0   0.508986  ...   \n",
       "..       ...        ...         ...       ...        ...  ...   \n",
       "95       1.0   0.085677  256.448430      10.0   0.736932  ...   \n",
       "96       1.0   0.753113  303.681175       1.0   0.076656  ...   \n",
       "97      10.0   0.706440   80.374842       1.5   0.181204  ...   \n",
       "98       1.0   0.110696  128.718076      10.0   0.960837  ...   \n",
       "99       1.5   0.825217  156.841095       1.0   0.921298  ...   \n",
       "\n",
       "    A.4_DikeIncrease 0 A.4_DikeIncrease 1  A.4_DikeIncrease 2  \\\n",
       "0                    8                  0                   5   \n",
       "1                    8                  0                   5   \n",
       "2                    8                  0                   5   \n",
       "3                    8                  0                   5   \n",
       "4                    8                  0                   5   \n",
       "..                 ...                ...                 ...   \n",
       "95                   9                 10                   2   \n",
       "96                   9                 10                   2   \n",
       "97                   9                 10                   2   \n",
       "98                   9                 10                   2   \n",
       "99                   9                 10                   2   \n",
       "\n",
       "    A.5_DikeIncrease 0 A.5_DikeIncrease 1  A.5_DikeIncrease 2  \\\n",
       "0                    3                  0                   2   \n",
       "1                    3                  0                   2   \n",
       "2                    3                  0                   2   \n",
       "3                    3                  0                   2   \n",
       "4                    3                  0                   2   \n",
       "..                 ...                ...                 ...   \n",
       "95                   7                  9                   1   \n",
       "96                   7                  9                   1   \n",
       "97                   7                  9                   1   \n",
       "98                   7                  9                   1   \n",
       "99                   7                  9                   1   \n",
       "\n",
       "   EWS_DaysToThreat scenario  policy     model  \n",
       "0                 2   121081  121076  dikesnet  \n",
       "1                 2   121082  121076  dikesnet  \n",
       "2                 2   121083  121076  dikesnet  \n",
       "3                 2   121084  121076  dikesnet  \n",
       "4                 2   121085  121076  dikesnet  \n",
       "..              ...      ...     ...       ...  \n",
       "95                4   121096  121080  dikesnet  \n",
       "96                4   121097  121080  dikesnet  \n",
       "97                4   121098  121080  dikesnet  \n",
       "98                4   121099  121080  dikesnet  \n",
       "99                4   121100  121080  dikesnet  \n",
       "\n",
       "[100 rows x 53 columns]"
      ]
     },
     "execution_count": 64,
     "metadata": {},
     "output_type": "execute_result"
    }
   ],
   "source": [
    "experiments"
   ]
  },
  {
   "cell_type": "code",
   "execution_count": 65,
   "metadata": {
    "ExecuteTime": {
     "end_time": "2025-06-02T08:28:42.549881Z",
     "start_time": "2025-06-02T08:28:42.541906Z"
    }
   },
   "outputs": [],
   "source": [
    "# only works because we have scalar outcomes\n",
    "df=pd.DataFrame(outcomes)"
   ]
  },
  {
   "cell_type": "code",
   "execution_count": 66,
   "metadata": {
    "ExecuteTime": {
     "end_time": "2025-06-02T08:28:42.721747Z",
     "start_time": "2025-06-02T08:28:42.708273Z"
    }
   },
   "outputs": [],
   "source": [
    "df['Total Deaths']=df['A.1_Expected Number of Deaths']+df['A.2_Expected Number of Deaths']+df['A.3_Expected Number of Deaths']+df['A.4_Expected Number of Deaths']+df['A.5_Expected Number of Deaths']"
   ]
  },
  {
   "cell_type": "code",
   "execution_count": 67,
   "metadata": {
    "ExecuteTime": {
     "end_time": "2025-06-02T08:28:43.580154Z",
     "start_time": "2025-06-02T08:28:43.131425Z"
    }
   },
   "outputs": [
    {
     "data": {
      "image/png": "[encoded data removed]",
      "text/plain": [
       "<Figure size 800x600 with 1 Axes>"
      ]
     },
     "metadata": {},
     "output_type": "display_data"
    }
   ],
   "source": [
    "# Scatter plot\n",
    "plt.figure(figsize=(8, 6))\n",
    "plt.scatter(df['RfR Total Costs'], df['Total Deaths'], c='blue', alpha=0.7)\n",
    "plt.xlabel('RfR Total Costs')\n",
    "plt.ylabel('total deaths')\n",
    "plt.title('RfR Costs vs total deaths')\n",
    "plt.grid(True)\n",
    "plt.show()"
   ]
  },
  {
   "cell_type": "code",
   "execution_count": 68,
   "metadata": {
    "ExecuteTime": {
     "end_time": "2025-06-02T08:28:43.657530Z",
     "start_time": "2025-06-02T08:28:43.589961Z"
    }
   },
   "outputs": [
    {
     "data": {
      "text/html": [
       "<div>\n",
       "<style scoped>\n",
       "    .dataframe tbody tr th:only-of-type {\n",
       "        vertical-align: middle;\n",
       "    }\n",
       "\n",
       "    .dataframe tbody tr th {\n",
       "        vertical-align: top;\n",
       "    }\n",
       "\n",
       "    .dataframe thead th {\n",
       "        text-align: right;\n",
       "    }\n",
       "</style>\n",
       "<table border=\"1\" class=\"dataframe\">\n",
       "  <thead>\n",
       "    <tr style=\"text-align: right;\">\n",
       "      <th></th>\n",
       "      <th>A.0_ID flood wave shape</th>\n",
       "      <th>A.1_Bmax</th>\n",
       "      <th>A.1_Brate</th>\n",
       "      <th>A.1_pfail</th>\n",
       "      <th>A.2_Bmax</th>\n",
       "      <th>A.2_Brate</th>\n",
       "      <th>A.2_pfail</th>\n",
       "      <th>A.3_Bmax</th>\n",
       "      <th>A.3_Brate</th>\n",
       "      <th>A.3_pfail</th>\n",
       "      <th>...</th>\n",
       "      <th>A.4_DikeIncrease 0</th>\n",
       "      <th>A.4_DikeIncrease 1</th>\n",
       "      <th>A.4_DikeIncrease 2</th>\n",
       "      <th>A.5_DikeIncrease 0</th>\n",
       "      <th>A.5_DikeIncrease 1</th>\n",
       "      <th>A.5_DikeIncrease 2</th>\n",
       "      <th>EWS_DaysToThreat</th>\n",
       "      <th>scenario</th>\n",
       "      <th>policy</th>\n",
       "      <th>model</th>\n",
       "    </tr>\n",
       "  </thead>\n",
       "  <tbody>\n",
       "    <tr>\n",
       "      <th>0</th>\n",
       "      <td>128</td>\n",
       "      <td>241.308404</td>\n",
       "      <td>1.5</td>\n",
       "      <td>0.937493</td>\n",
       "      <td>34.436584</td>\n",
       "      <td>1.0</td>\n",
       "      <td>0.506706</td>\n",
       "      <td>168.859252</td>\n",
       "      <td>10.0</td>\n",
       "      <td>0.836989</td>\n",
       "      <td>...</td>\n",
       "      <td>8</td>\n",
       "      <td>0</td>\n",
       "      <td>5</td>\n",
       "      <td>3</td>\n",
       "      <td>0</td>\n",
       "      <td>2</td>\n",
       "      <td>2</td>\n",
       "      <td>121081</td>\n",
       "      <td>121076</td>\n",
       "      <td>dikesnet</td>\n",
       "    </tr>\n",
       "    <tr>\n",
       "      <th>1</th>\n",
       "      <td>52</td>\n",
       "      <td>324.903397</td>\n",
       "      <td>1.0</td>\n",
       "      <td>0.068462</td>\n",
       "      <td>252.354958</td>\n",
       "      <td>10.0</td>\n",
       "      <td>0.884698</td>\n",
       "      <td>207.485634</td>\n",
       "      <td>1.0</td>\n",
       "      <td>0.656061</td>\n",
       "      <td>...</td>\n",
       "      <td>8</td>\n",
       "      <td>0</td>\n",
       "      <td>5</td>\n",
       "      <td>3</td>\n",
       "      <td>0</td>\n",
       "      <td>2</td>\n",
       "      <td>2</td>\n",
       "      <td>121082</td>\n",
       "      <td>121076</td>\n",
       "      <td>dikesnet</td>\n",
       "    </tr>\n",
       "    <tr>\n",
       "      <th>2</th>\n",
       "      <td>17</td>\n",
       "      <td>277.066835</td>\n",
       "      <td>1.0</td>\n",
       "      <td>0.376904</td>\n",
       "      <td>175.108842</td>\n",
       "      <td>10.0</td>\n",
       "      <td>0.972241</td>\n",
       "      <td>174.764979</td>\n",
       "      <td>1.5</td>\n",
       "      <td>0.586020</td>\n",
       "      <td>...</td>\n",
       "      <td>8</td>\n",
       "      <td>0</td>\n",
       "      <td>5</td>\n",
       "      <td>3</td>\n",
       "      <td>0</td>\n",
       "      <td>2</td>\n",
       "      <td>2</td>\n",
       "      <td>121083</td>\n",
       "      <td>121076</td>\n",
       "      <td>dikesnet</td>\n",
       "    </tr>\n",
       "    <tr>\n",
       "      <th>3</th>\n",
       "      <td>118</td>\n",
       "      <td>216.945699</td>\n",
       "      <td>10.0</td>\n",
       "      <td>0.787221</td>\n",
       "      <td>70.515402</td>\n",
       "      <td>1.5</td>\n",
       "      <td>0.903228</td>\n",
       "      <td>337.847849</td>\n",
       "      <td>1.0</td>\n",
       "      <td>0.892243</td>\n",
       "      <td>...</td>\n",
       "      <td>8</td>\n",
       "      <td>0</td>\n",
       "      <td>5</td>\n",
       "      <td>3</td>\n",
       "      <td>0</td>\n",
       "      <td>2</td>\n",
       "      <td>2</td>\n",
       "      <td>121084</td>\n",
       "      <td>121076</td>\n",
       "      <td>dikesnet</td>\n",
       "    </tr>\n",
       "    <tr>\n",
       "      <th>4</th>\n",
       "      <td>32</td>\n",
       "      <td>348.019629</td>\n",
       "      <td>10.0</td>\n",
       "      <td>0.000891</td>\n",
       "      <td>163.276140</td>\n",
       "      <td>1.5</td>\n",
       "      <td>0.032283</td>\n",
       "      <td>282.985952</td>\n",
       "      <td>1.0</td>\n",
       "      <td>0.508986</td>\n",
       "      <td>...</td>\n",
       "      <td>8</td>\n",
       "      <td>0</td>\n",
       "      <td>5</td>\n",
       "      <td>3</td>\n",
       "      <td>0</td>\n",
       "      <td>2</td>\n",
       "      <td>2</td>\n",
       "      <td>121085</td>\n",
       "      <td>121076</td>\n",
       "      <td>dikesnet</td>\n",
       "    </tr>\n",
       "    <tr>\n",
       "      <th>...</th>\n",
       "      <td>...</td>\n",
       "      <td>...</td>\n",
       "      <td>...</td>\n",
       "      <td>...</td>\n",
       "      <td>...</td>\n",
       "      <td>...</td>\n",
       "      <td>...</td>\n",
       "      <td>...</td>\n",
       "      <td>...</td>\n",
       "      <td>...</td>\n",
       "      <td>...</td>\n",
       "      <td>...</td>\n",
       "      <td>...</td>\n",
       "      <td>...</td>\n",
       "      <td>...</td>\n",
       "      <td>...</td>\n",
       "      <td>...</td>\n",
       "      <td>...</td>\n",
       "      <td>...</td>\n",
       "      <td>...</td>\n",
       "      <td>...</td>\n",
       "    </tr>\n",
       "    <tr>\n",
       "      <th>95</th>\n",
       "      <td>96</td>\n",
       "      <td>179.301281</td>\n",
       "      <td>1.0</td>\n",
       "      <td>0.112610</td>\n",
       "      <td>218.470941</td>\n",
       "      <td>1.0</td>\n",
       "      <td>0.085677</td>\n",
       "      <td>256.448430</td>\n",
       "      <td>10.0</td>\n",
       "      <td>0.736932</td>\n",
       "      <td>...</td>\n",
       "      <td>9</td>\n",
       "      <td>10</td>\n",
       "      <td>2</td>\n",
       "      <td>7</td>\n",
       "      <td>9</td>\n",
       "      <td>1</td>\n",
       "      <td>4</td>\n",
       "      <td>121096</td>\n",
       "      <td>121080</td>\n",
       "      <td>dikesnet</td>\n",
       "    </tr>\n",
       "    <tr>\n",
       "      <th>96</th>\n",
       "      <td>86</td>\n",
       "      <td>60.396352</td>\n",
       "      <td>10.0</td>\n",
       "      <td>0.161866</td>\n",
       "      <td>308.966883</td>\n",
       "      <td>1.0</td>\n",
       "      <td>0.753113</td>\n",
       "      <td>303.681175</td>\n",
       "      <td>1.0</td>\n",
       "      <td>0.076656</td>\n",
       "      <td>...</td>\n",
       "      <td>9</td>\n",
       "      <td>10</td>\n",
       "      <td>2</td>\n",
       "      <td>7</td>\n",
       "      <td>9</td>\n",
       "      <td>1</td>\n",
       "      <td>4</td>\n",
       "      <td>121097</td>\n",
       "      <td>121080</td>\n",
       "      <td>dikesnet</td>\n",
       "    </tr>\n",
       "    <tr>\n",
       "      <th>97</th>\n",
       "      <td>72</td>\n",
       "      <td>269.193140</td>\n",
       "      <td>1.5</td>\n",
       "      <td>0.878689</td>\n",
       "      <td>130.875337</td>\n",
       "      <td>10.0</td>\n",
       "      <td>0.706440</td>\n",
       "      <td>80.374842</td>\n",
       "      <td>1.5</td>\n",
       "      <td>0.181204</td>\n",
       "      <td>...</td>\n",
       "      <td>9</td>\n",
       "      <td>10</td>\n",
       "      <td>2</td>\n",
       "      <td>7</td>\n",
       "      <td>9</td>\n",
       "      <td>1</td>\n",
       "      <td>4</td>\n",
       "      <td>121098</td>\n",
       "      <td>121080</td>\n",
       "      <td>dikesnet</td>\n",
       "    </tr>\n",
       "    <tr>\n",
       "      <th>98</th>\n",
       "      <td>123</td>\n",
       "      <td>171.232693</td>\n",
       "      <td>1.5</td>\n",
       "      <td>0.445293</td>\n",
       "      <td>328.875168</td>\n",
       "      <td>1.0</td>\n",
       "      <td>0.110696</td>\n",
       "      <td>128.718076</td>\n",
       "      <td>10.0</td>\n",
       "      <td>0.960837</td>\n",
       "      <td>...</td>\n",
       "      <td>9</td>\n",
       "      <td>10</td>\n",
       "      <td>2</td>\n",
       "      <td>7</td>\n",
       "      <td>9</td>\n",
       "      <td>1</td>\n",
       "      <td>4</td>\n",
       "      <td>121099</td>\n",
       "      <td>121080</td>\n",
       "      <td>dikesnet</td>\n",
       "    </tr>\n",
       "    <tr>\n",
       "      <th>99</th>\n",
       "      <td>89</td>\n",
       "      <td>301.275128</td>\n",
       "      <td>1.5</td>\n",
       "      <td>0.323682</td>\n",
       "      <td>345.928418</td>\n",
       "      <td>1.5</td>\n",
       "      <td>0.825217</td>\n",
       "      <td>156.841095</td>\n",
       "      <td>1.0</td>\n",
       "      <td>0.921298</td>\n",
       "      <td>...</td>\n",
       "      <td>9</td>\n",
       "      <td>10</td>\n",
       "      <td>2</td>\n",
       "      <td>7</td>\n",
       "      <td>9</td>\n",
       "      <td>1</td>\n",
       "      <td>4</td>\n",
       "      <td>121100</td>\n",
       "      <td>121080</td>\n",
       "      <td>dikesnet</td>\n",
       "    </tr>\n",
       "  </tbody>\n",
       "</table>\n",
       "<p>100 rows × 53 columns</p>\n",
       "</div>"
      ],
      "text/plain": [
       "    A.0_ID flood wave shape    A.1_Bmax A.1_Brate  A.1_pfail    A.2_Bmax  \\\n",
       "0                       128  241.308404       1.5   0.937493   34.436584   \n",
       "1                        52  324.903397       1.0   0.068462  252.354958   \n",
       "2                        17  277.066835       1.0   0.376904  175.108842   \n",
       "3                       118  216.945699      10.0   0.787221   70.515402   \n",
       "4                        32  348.019629      10.0   0.000891  163.276140   \n",
       "..                      ...         ...       ...        ...         ...   \n",
       "95                       96  179.301281       1.0   0.112610  218.470941   \n",
       "96                       86   60.396352      10.0   0.161866  308.966883   \n",
       "97                       72  269.193140       1.5   0.878689  130.875337   \n",
       "98                      123  171.232693       1.5   0.445293  328.875168   \n",
       "99                       89  301.275128       1.5   0.323682  345.928418   \n",
       "\n",
       "   A.2_Brate  A.2_pfail    A.3_Bmax A.3_Brate  A.3_pfail  ...  \\\n",
       "0        1.0   0.506706  168.859252      10.0   0.836989  ...   \n",
       "1       10.0   0.884698  207.485634       1.0   0.656061  ...   \n",
       "2       10.0   0.972241  174.764979       1.5   0.586020  ...   \n",
       "3        1.5   0.903228  337.847849       1.0   0.892243  ...   \n",
       "4        1.5   0.032283  282.985952       1.0   0.508986  ...   \n",
       "..       ...        ...         ...       ...        ...  ...   \n",
       "95       1.0   0.085677  256.448430      10.0   0.736932  ...   \n",
       "96       1.0   0.753113  303.681175       1.0   0.076656  ...   \n",
       "97      10.0   0.706440   80.374842       1.5   0.181204  ...   \n",
       "98       1.0   0.110696  128.718076      10.0   0.960837  ...   \n",
       "99       1.5   0.825217  156.841095       1.0   0.921298  ...   \n",
       "\n",
       "    A.4_DikeIncrease 0 A.4_DikeIncrease 1  A.4_DikeIncrease 2  \\\n",
       "0                    8                  0                   5   \n",
       "1                    8                  0                   5   \n",
       "2                    8                  0                   5   \n",
       "3                    8                  0                   5   \n",
       "4                    8                  0                   5   \n",
       "..                 ...                ...                 ...   \n",
       "95                   9                 10                   2   \n",
       "96                   9                 10                   2   \n",
       "97                   9                 10                   2   \n",
       "98                   9                 10                   2   \n",
       "99                   9                 10                   2   \n",
       "\n",
       "    A.5_DikeIncrease 0 A.5_DikeIncrease 1  A.5_DikeIncrease 2  \\\n",
       "0                    3                  0                   2   \n",
       "1                    3                  0                   2   \n",
       "2                    3                  0                   2   \n",
       "3                    3                  0                   2   \n",
       "4                    3                  0                   2   \n",
       "..                 ...                ...                 ...   \n",
       "95                   7                  9                   1   \n",
       "96                   7                  9                   1   \n",
       "97                   7                  9                   1   \n",
       "98                   7                  9                   1   \n",
       "99                   7                  9                   1   \n",
       "\n",
       "   EWS_DaysToThreat scenario  policy     model  \n",
       "0                 2   121081  121076  dikesnet  \n",
       "1                 2   121082  121076  dikesnet  \n",
       "2                 2   121083  121076  dikesnet  \n",
       "3                 2   121084  121076  dikesnet  \n",
       "4                 2   121085  121076  dikesnet  \n",
       "..              ...      ...     ...       ...  \n",
       "95                4   121096  121080  dikesnet  \n",
       "96                4   121097  121080  dikesnet  \n",
       "97                4   121098  121080  dikesnet  \n",
       "98                4   121099  121080  dikesnet  \n",
       "99                4   121100  121080  dikesnet  \n",
       "\n",
       "[100 rows x 53 columns]"
      ]
     },
     "execution_count": 68,
     "metadata": {},
     "output_type": "execute_result"
    }
   ],
   "source": [
    "experiments"
   ]
  },
  {
   "cell_type": "code",
   "execution_count": 69,
   "metadata": {
    "ExecuteTime": {
     "end_time": "2025-06-02T08:28:47.720866Z",
     "start_time": "2025-06-02T08:28:43.874779Z"
    }
   },
   "outputs": [
    {
     "name": "stderr",
     "output_type": "stream",
     "text": [
      "[MainProcess/INFO] column model dropped from analysis because it has only one category\n",
      "[MainProcess/INFO] 100 points remaining, containing 71 cases of interest\n",
      "[MainProcess/INFO] mean: 1.0, mass: 0.42, coverage: 0.5915492957746479, density: 1.0 restricted_dimensions: 4\n"
     ]
    },
    {
     "data": {
      "image/png": "[encoded data removed]",
      "text/plain": [
       "<Figure size 640x480 with 2 Axes>"
      ]
     },
     "metadata": {},
     "output_type": "display_data"
    }
   ],
   "source": [
    "from ema_workbench.analysis import prim\n",
    "import matplotlib.pyplot as plt\n",
    "from ema_workbench.analysis import pairs_plotting\n",
    "\n",
    "\n",
    "# x = input variables\n",
    "x = experiments\n",
    "\n",
    "# y = numeric outcome values\n",
    "threshold_value = 0.01\n",
    "best_cases = df['Total Deaths']<threshold_value\n",
    "\n",
    "# initialize PRIM\n",
    "prim_alg = prim.Prim(x, best_cases, threshold=threshold_value)\n",
    "\n",
    "# search for box\n",
    "box= prim_alg.find_box()\n",
    "\n",
    "# show trade-offs between coverage and density\n",
    "box.show_tradeoff()\n",
    "plt.show()\n"
   ]
  },
  {
   "cell_type": "code",
   "execution_count": 70,
   "metadata": {
    "ExecuteTime": {
     "end_time": "2025-06-02T08:28:49.082785Z",
     "start_time": "2025-06-02T08:28:47.822514Z"
    }
   },
   "outputs": [
    {
     "data": {
      "image/png": "[encoded data removed]",
      "text/plain": [
       "<Figure size 640x480 with 1 Axes>"
      ]
     },
     "execution_count": 70,
     "metadata": {},
     "output_type": "execute_result"
    },
    {
     "data": {
      "image/png": "[encoded data removed]",
      "text/plain": [
       "<Figure size 640x480 with 1 Axes>"
      ]
     },
     "metadata": {},
     "output_type": "display_data"
    }
   ],
   "source": [
    "plt.show()\n",
    "box.show_ppt()\n"
   ]
  },
  {
   "cell_type": "code",
   "execution_count": 71,
   "metadata": {
    "ExecuteTime": {
     "end_time": "2025-06-02T08:28:49.411998Z",
     "start_time": "2025-06-02T08:28:49.095625Z"
    }
   },
   "outputs": [
    {
     "data": {
      "image/png": "[encoded data removed]",
      "text/plain": [
       "<Figure size 640x480 with 1 Axes>"
      ]
     },
     "metadata": {},
     "output_type": "display_data"
    }
   ],
   "source": [
    "box.inspect(style='graph')\n",
    "plt.show()"
   ]
  },
  {
   "cell_type": "code",
   "execution_count": 72,
   "metadata": {
    "ExecuteTime": {
     "end_time": "2025-06-02T08:28:49.536571Z",
     "start_time": "2025-06-02T08:28:49.522276Z"
    }
   },
   "outputs": [
    {
     "name": "stdout",
     "output_type": "stream",
     "text": [
      "False\n",
      "A.1 Total Costs                  0\n",
      "A.1_Expected Number of Deaths    0\n",
      "A.2 Total Costs                  0\n",
      "A.2_Expected Number of Deaths    0\n",
      "A.3 Total Costs                  0\n",
      "A.3_Expected Number of Deaths    0\n",
      "A.4 Total Costs                  0\n",
      "A.4_Expected Number of Deaths    0\n",
      "A.5 Total Costs                  0\n",
      "A.5_Expected Number of Deaths    0\n",
      "RfR Total Costs                  0\n",
      "Expected Evacuation Costs        0\n",
      "Total Deaths                     0\n",
      "dtype: int64\n"
     ]
    }
   ],
   "source": [
    "# Check if any NaN values exist\n",
    "print(df.isna().any().any())\n",
    "\n",
    "# Count NaN values per column\n",
    "print(df.isna().sum())"
   ]
  },
  {
   "cell_type": "code",
   "execution_count": 73,
   "metadata": {
    "ExecuteTime": {
     "end_time": "2025-06-02T08:28:52.128519Z",
     "start_time": "2025-06-02T08:28:49.633936Z"
    }
   },
   "outputs": [
    {
     "name": "stderr",
     "output_type": "stream",
     "text": [
      "[MainProcess/INFO] model dropped from analysis because only a single category\n"
     ]
    },
    {
     "data": {
      "image/png": "[encoded data removed]",
      "text/plain": [
       "<Figure size 1000x1000 with 4 Axes>"
      ]
     },
     "execution_count": 73,
     "metadata": {},
     "output_type": "execute_result"
    },
    {
     "data": {
      "image/png": "[encoded data removed]",
      "text/plain": [
       "<Figure size 1000x1000 with 4 Axes>"
      ]
     },
     "metadata": {},
     "output_type": "display_data"
    }
   ],
   "source": [
    "from ema_workbench.analysis import dimensional_stacking\n",
    "best_cases_array=best_cases.to_numpy()\n",
    "dimensional_stacking.create_pivot_plot(experiments, best_cases_array)\n",
    "\n"
   ]
  },
  {
   "cell_type": "code",
   "execution_count": 10,
   "metadata": {
    "ExecuteTime": {
     "end_time": "2025-06-02T08:28:52.269290Z",
     "start_time": "2025-06-02T08:28:52.253823Z"
    }
   },
   "outputs": [],
   "source": [
    "%matplotlib inline\n",
    "import numpy as np\n",
    "import pandas as pd\n",
    "\n",
    "import matplotlib.pyplot as plt\n",
    "import seaborn as sns\n",
    "sns.set_style('white')\n",
    "\n",
    "from ema_workbench import (Model, RealParameter, TimeSeriesOutcome,\n",
    "                           perform_experiments, ema_logging,Policy)\n",
    "\n",
    "from ema_workbench import Samplers\n",
    "\n",
    "from ema_workbench.analysis import feature_scoring\n",
    "from ema_workbench.analysis.scenario_discovery_util import RuleInductionType\n",
    "from ema_workbench.em_framework.salib_samplers import get_SALib_problem\n",
    "\n",
    "from SALib.analyze import sobol"
   ]
  },
  {
   "cell_type": "code",
   "execution_count": 75,
   "metadata": {
    "ExecuteTime": {
     "end_time": "2025-06-02T08:28:52.504377Z",
     "start_time": "2025-06-02T08:28:52.494001Z"
    }
   },
   "outputs": [
    {
     "name": "stdout",
     "output_type": "stream",
     "text": [
      "{'num_vars': 19, 'names': ['A.0_ID flood wave shape', 'A.1_Bmax', 'A.1_Brate', 'A.1_pfail', 'A.2_Bmax', 'A.2_Brate', 'A.2_pfail', 'A.3_Bmax', 'A.3_Brate', 'A.3_pfail', 'A.4_Bmax', 'A.4_Brate', 'A.4_pfail', 'A.5_Bmax', 'A.5_Brate', 'A.5_pfail', 'discount rate 0', 'discount rate 1', 'discount rate 2'], 'bounds': [(0, 133), (30, 350), (0, 3), (0, 1), (30, 350), (0, 3), (0, 1), (30, 350), (0, 3), (0, 1), (30, 350), (0, 3), (0, 1), (30, 350), (0, 3), (0, 1), (0, 4), (0, 4), (0, 4)]}\n"
     ]
    }
   ],
   "source": [
    "problem = get_SALib_problem(dike_model. uncertainties)\n",
    "print(problem)"
   ]
  },
  {
   "cell_type": "code",
   "execution_count": 11,
   "metadata": {
    "ExecuteTime": {
     "start_time": "2025-06-02T08:28:52.678477Z"
    },
    "jupyter": {
     "is_executing": true
    }
   },
   "outputs": [
    {
     "ename": "NameError",
     "evalue": "name 'dike_model' is not defined",
     "output_type": "error",
     "traceback": [
      "\u001b[1;31m---------------------------------------------------------------------------\u001b[0m",
      "\u001b[1;31mNameError\u001b[0m                                 Traceback (most recent call last)",
      "Cell \u001b[1;32mIn[11], line 3\u001b[0m\n\u001b[0;32m      1\u001b[0m n_exp \u001b[38;5;241m=\u001b[39m \u001b[38;5;241m10\u001b[39m\n\u001b[0;32m      2\u001b[0m n_policies \u001b[38;5;241m=\u001b[39m \u001b[38;5;241m10\u001b[39m\n\u001b[1;32m----> 3\u001b[0m \u001b[38;5;28;01mwith\u001b[39;00m SequentialEvaluator(\u001b[43mdike_model\u001b[49m) \u001b[38;5;28;01mas\u001b[39;00m evaluator:\n\u001b[0;32m      4\u001b[0m     results \u001b[38;5;241m=\u001b[39m evaluator\u001b[38;5;241m.\u001b[39mperform_experiments(scenarios\u001b[38;5;241m=\u001b[39mn_exp, uncertainty_sampling\u001b[38;5;241m=\u001b[39mSamplers\u001b[38;5;241m.\u001b[39mSOBOL, policies\u001b[38;5;241m=\u001b[39mn_policies)\n",
      "\u001b[1;31mNameError\u001b[0m: name 'dike_model' is not defined"
     ]
    }
   ],
   "source": [
    "n_exp = 10\n",
    "n_policies = 10\n",
    "with SequentialEvaluator(dike_model) as evaluator:\n",
    "    results = evaluator.perform_experiments(scenarios=n_exp, uncertainty_sampling=Samplers.SOBOL, policies=n_policies)"
   ]
  },
  {
   "cell_type": "markdown",
   "metadata": {},
   "source": [
    "## Deel van Twan"
   ]
  },
  {
   "cell_type": "code",
   "execution_count": 49,
   "metadata": {},
   "outputs": [],
   "source": [
    "import random\n",
    "from ema_workbench import Policy\n",
    "\n",
    "# Function to create a dictionary with all levers set to default (0)\n",
    "def get_do_nothing_dict():\n",
    "    return {l.name: 0 for l in dike_model.levers}\n",
    "\n",
    "# Function to generate policies with random lever changes\n",
    "def generate_random_policies(num_policies, lever_changes_per_policy=1):\n",
    "    policies = []\n",
    "    lever_names = [l.name for l in dike_model.levers]  # Get all lever names\n",
    "\n",
    "    for i in range(num_policies):\n",
    "        # Start with the default policy\n",
    "        policy_dict = get_do_nothing_dict()\n",
    "        \n",
    "        # Randomly select one lever to change\n",
    "        \n",
    "        for levers in range(lever_changes_per_policy):\n",
    "            random_lever = random.choice(lever_names)\n",
    "            #print(random_lever)\n",
    "            # Assign a random value based on the lever type\n",
    "            if \"RfR\" in random_lever:\n",
    "                policy_dict[random_lever] = random.choice([0, 1])  # RfR can only be 0 or 1\n",
    "            elif \"DikeIncrease\" in random_lever:\n",
    "                policy_dict[random_lever] = random.randint(0, 10)  # DikeIncrease can be between 0 and 10\n",
    "            elif \"EWS_DaysToThreat\" in random_lever:\n",
    "                policy_dict[random_lever] = random.randint(0, 4)  # EWS_DaysToThreat can be between 0 and 4\n",
    "            \n",
    "            # Create the policy and add it to the list\n",
    "        policies.append(Policy(f\"Policy {i}\", **policy_dict))\n",
    "            \n",
    "    \n",
    "    return policies\n",
    "\n",
    "\n"
   ]
  },
  {
   "cell_type": "code",
   "execution_count": 50,
   "metadata": {},
   "outputs": [],
   "source": [
    "n_policies = 10\n",
    "n_scenarios = 10\n",
    "n_changes = 10\n",
    "\n",
    "# Generate a list of policies with random lever changes\n",
    "policies = generate_random_policies(n_policies, n_changes)\n",
    "\n",
    "#for policy in policies:\n",
    "    #print(policy.name, policy)\n"
   ]
  },
  {
   "cell_type": "code",
   "execution_count": 28,
   "metadata": {},
   "outputs": [
    {
     "name": "stderr",
     "output_type": "stream",
     "text": [
      "[MainProcess/INFO] pool started with 8 workers\n",
      "[MainProcess/INFO] performing 10 scenarios * 10 policies * 1 model(s) = 100 experiments\n",
      "100%|████████████████████████████████████████| 100/100 [00:48<00:00,  2.05it/s]\n",
      "[MainProcess/INFO] experiments finished\n",
      "[MainProcess/INFO] terminating pool\n"
     ]
    }
   ],
   "source": [
    "# running the model through EMA workbench\n",
    "with MultiprocessingEvaluator(dike_model) as evaluator:\n",
    "    results_normal = evaluator.perform_experiments(scenarios=n_scenarios, policies=policies)\n"
   ]
  },
  {
   "cell_type": "code",
   "execution_count": 56,
   "metadata": {},
   "outputs": [],
   "source": [
    "experiments, outcomes = results_normal\n",
    "# Convert outcomes to DataFrame\n",
    "df_normal = pd.DataFrame(outcomes)\n"
   ]
  },
  {
   "cell_type": "code",
   "execution_count": 61,
   "metadata": {},
   "outputs": [
    {
     "data": {
      "text/html": [
       "<div>\n",
       "<style scoped>\n",
       "    .dataframe tbody tr th:only-of-type {\n",
       "        vertical-align: middle;\n",
       "    }\n",
       "\n",
       "    .dataframe tbody tr th {\n",
       "        vertical-align: top;\n",
       "    }\n",
       "\n",
       "    .dataframe thead th {\n",
       "        text-align: right;\n",
       "    }\n",
       "</style>\n",
       "<table border=\"1\" class=\"dataframe\">\n",
       "  <thead>\n",
       "    <tr style=\"text-align: right;\">\n",
       "      <th></th>\n",
       "      <th>A.0_ID flood wave shape</th>\n",
       "      <th>A.1_Bmax</th>\n",
       "      <th>A.1_Brate</th>\n",
       "      <th>A.1_pfail</th>\n",
       "      <th>A.2_Bmax</th>\n",
       "      <th>A.2_Brate</th>\n",
       "      <th>A.2_pfail</th>\n",
       "      <th>A.3_Bmax</th>\n",
       "      <th>A.3_Brate</th>\n",
       "      <th>A.3_pfail</th>\n",
       "      <th>...</th>\n",
       "      <th>A.3_DikeIncrease 2</th>\n",
       "      <th>A.4_DikeIncrease 0</th>\n",
       "      <th>A.4_DikeIncrease 1</th>\n",
       "      <th>A.4_DikeIncrease 2</th>\n",
       "      <th>A.5_DikeIncrease 0</th>\n",
       "      <th>A.5_DikeIncrease 1</th>\n",
       "      <th>A.5_DikeIncrease 2</th>\n",
       "      <th>scenario</th>\n",
       "      <th>policy</th>\n",
       "      <th>model</th>\n",
       "    </tr>\n",
       "  </thead>\n",
       "  <tbody>\n",
       "    <tr>\n",
       "      <th>0</th>\n",
       "      <td>94</td>\n",
       "      <td>250.023520</td>\n",
       "      <td>1.0</td>\n",
       "      <td>0.891547</td>\n",
       "      <td>329.331398</td>\n",
       "      <td>1.0</td>\n",
       "      <td>0.627512</td>\n",
       "      <td>81.908229</td>\n",
       "      <td>10.0</td>\n",
       "      <td>0.421516</td>\n",
       "      <td>...</td>\n",
       "      <td>0</td>\n",
       "      <td>0</td>\n",
       "      <td>0</td>\n",
       "      <td>0</td>\n",
       "      <td>0</td>\n",
       "      <td>0</td>\n",
       "      <td>0</td>\n",
       "      <td>10</td>\n",
       "      <td>Policy 0</td>\n",
       "      <td>dikesnet</td>\n",
       "    </tr>\n",
       "    <tr>\n",
       "      <th>1</th>\n",
       "      <td>27</td>\n",
       "      <td>279.458603</td>\n",
       "      <td>1.5</td>\n",
       "      <td>0.298548</td>\n",
       "      <td>122.810733</td>\n",
       "      <td>1.0</td>\n",
       "      <td>0.302922</td>\n",
       "      <td>159.514451</td>\n",
       "      <td>1.5</td>\n",
       "      <td>0.632061</td>\n",
       "      <td>...</td>\n",
       "      <td>0</td>\n",
       "      <td>0</td>\n",
       "      <td>0</td>\n",
       "      <td>0</td>\n",
       "      <td>0</td>\n",
       "      <td>0</td>\n",
       "      <td>0</td>\n",
       "      <td>11</td>\n",
       "      <td>Policy 0</td>\n",
       "      <td>dikesnet</td>\n",
       "    </tr>\n",
       "    <tr>\n",
       "      <th>2</th>\n",
       "      <td>66</td>\n",
       "      <td>292.225696</td>\n",
       "      <td>10.0</td>\n",
       "      <td>0.147436</td>\n",
       "      <td>281.405525</td>\n",
       "      <td>1.5</td>\n",
       "      <td>0.590149</td>\n",
       "      <td>263.915143</td>\n",
       "      <td>1.0</td>\n",
       "      <td>0.732106</td>\n",
       "      <td>...</td>\n",
       "      <td>0</td>\n",
       "      <td>0</td>\n",
       "      <td>0</td>\n",
       "      <td>0</td>\n",
       "      <td>0</td>\n",
       "      <td>0</td>\n",
       "      <td>0</td>\n",
       "      <td>12</td>\n",
       "      <td>Policy 0</td>\n",
       "      <td>dikesnet</td>\n",
       "    </tr>\n",
       "    <tr>\n",
       "      <th>3</th>\n",
       "      <td>84</td>\n",
       "      <td>115.695361</td>\n",
       "      <td>1.5</td>\n",
       "      <td>0.739272</td>\n",
       "      <td>310.927627</td>\n",
       "      <td>1.5</td>\n",
       "      <td>0.700070</td>\n",
       "      <td>205.240014</td>\n",
       "      <td>1.0</td>\n",
       "      <td>0.547553</td>\n",
       "      <td>...</td>\n",
       "      <td>0</td>\n",
       "      <td>0</td>\n",
       "      <td>0</td>\n",
       "      <td>0</td>\n",
       "      <td>0</td>\n",
       "      <td>0</td>\n",
       "      <td>0</td>\n",
       "      <td>13</td>\n",
       "      <td>Policy 0</td>\n",
       "      <td>dikesnet</td>\n",
       "    </tr>\n",
       "    <tr>\n",
       "      <th>4</th>\n",
       "      <td>43</td>\n",
       "      <td>64.455071</td>\n",
       "      <td>1.5</td>\n",
       "      <td>0.663021</td>\n",
       "      <td>179.288126</td>\n",
       "      <td>1.5</td>\n",
       "      <td>0.165718</td>\n",
       "      <td>123.860309</td>\n",
       "      <td>10.0</td>\n",
       "      <td>0.810964</td>\n",
       "      <td>...</td>\n",
       "      <td>0</td>\n",
       "      <td>0</td>\n",
       "      <td>0</td>\n",
       "      <td>0</td>\n",
       "      <td>0</td>\n",
       "      <td>0</td>\n",
       "      <td>0</td>\n",
       "      <td>14</td>\n",
       "      <td>Policy 0</td>\n",
       "      <td>dikesnet</td>\n",
       "    </tr>\n",
       "    <tr>\n",
       "      <th>...</th>\n",
       "      <td>...</td>\n",
       "      <td>...</td>\n",
       "      <td>...</td>\n",
       "      <td>...</td>\n",
       "      <td>...</td>\n",
       "      <td>...</td>\n",
       "      <td>...</td>\n",
       "      <td>...</td>\n",
       "      <td>...</td>\n",
       "      <td>...</td>\n",
       "      <td>...</td>\n",
       "      <td>...</td>\n",
       "      <td>...</td>\n",
       "      <td>...</td>\n",
       "      <td>...</td>\n",
       "      <td>...</td>\n",
       "      <td>...</td>\n",
       "      <td>...</td>\n",
       "      <td>...</td>\n",
       "      <td>...</td>\n",
       "      <td>...</td>\n",
       "    </tr>\n",
       "    <tr>\n",
       "      <th>95</th>\n",
       "      <td>22</td>\n",
       "      <td>342.497996</td>\n",
       "      <td>1.0</td>\n",
       "      <td>0.061200</td>\n",
       "      <td>199.861085</td>\n",
       "      <td>1.0</td>\n",
       "      <td>0.406012</td>\n",
       "      <td>339.576274</td>\n",
       "      <td>10.0</td>\n",
       "      <td>0.916559</td>\n",
       "      <td>...</td>\n",
       "      <td>0</td>\n",
       "      <td>0</td>\n",
       "      <td>0</td>\n",
       "      <td>0</td>\n",
       "      <td>4</td>\n",
       "      <td>1</td>\n",
       "      <td>0</td>\n",
       "      <td>15</td>\n",
       "      <td>Policy 9</td>\n",
       "      <td>dikesnet</td>\n",
       "    </tr>\n",
       "    <tr>\n",
       "      <th>96</th>\n",
       "      <td>114</td>\n",
       "      <td>190.906822</td>\n",
       "      <td>1.0</td>\n",
       "      <td>0.961153</td>\n",
       "      <td>240.410524</td>\n",
       "      <td>10.0</td>\n",
       "      <td>0.949191</td>\n",
       "      <td>59.140502</td>\n",
       "      <td>1.5</td>\n",
       "      <td>0.374980</td>\n",
       "      <td>...</td>\n",
       "      <td>0</td>\n",
       "      <td>0</td>\n",
       "      <td>0</td>\n",
       "      <td>0</td>\n",
       "      <td>4</td>\n",
       "      <td>1</td>\n",
       "      <td>0</td>\n",
       "      <td>16</td>\n",
       "      <td>Policy 9</td>\n",
       "      <td>dikesnet</td>\n",
       "    </tr>\n",
       "    <tr>\n",
       "      <th>97</th>\n",
       "      <td>12</td>\n",
       "      <td>135.898559</td>\n",
       "      <td>10.0</td>\n",
       "      <td>0.393407</td>\n",
       "      <td>145.316796</td>\n",
       "      <td>1.5</td>\n",
       "      <td>0.834791</td>\n",
       "      <td>305.996897</td>\n",
       "      <td>10.0</td>\n",
       "      <td>0.274493</td>\n",
       "      <td>...</td>\n",
       "      <td>0</td>\n",
       "      <td>0</td>\n",
       "      <td>0</td>\n",
       "      <td>0</td>\n",
       "      <td>4</td>\n",
       "      <td>1</td>\n",
       "      <td>0</td>\n",
       "      <td>17</td>\n",
       "      <td>Policy 9</td>\n",
       "      <td>dikesnet</td>\n",
       "    </tr>\n",
       "    <tr>\n",
       "      <th>98</th>\n",
       "      <td>54</td>\n",
       "      <td>54.045053</td>\n",
       "      <td>10.0</td>\n",
       "      <td>0.559823</td>\n",
       "      <td>67.479237</td>\n",
       "      <td>10.0</td>\n",
       "      <td>0.094446</td>\n",
       "      <td>238.164320</td>\n",
       "      <td>1.0</td>\n",
       "      <td>0.185536</td>\n",
       "      <td>...</td>\n",
       "      <td>0</td>\n",
       "      <td>0</td>\n",
       "      <td>0</td>\n",
       "      <td>0</td>\n",
       "      <td>4</td>\n",
       "      <td>1</td>\n",
       "      <td>0</td>\n",
       "      <td>18</td>\n",
       "      <td>Policy 9</td>\n",
       "      <td>dikesnet</td>\n",
       "    </tr>\n",
       "    <tr>\n",
       "      <th>99</th>\n",
       "      <td>124</td>\n",
       "      <td>164.512800</td>\n",
       "      <td>1.5</td>\n",
       "      <td>0.440775</td>\n",
       "      <td>52.573747</td>\n",
       "      <td>10.0</td>\n",
       "      <td>0.285395</td>\n",
       "      <td>140.134222</td>\n",
       "      <td>1.0</td>\n",
       "      <td>0.030661</td>\n",
       "      <td>...</td>\n",
       "      <td>0</td>\n",
       "      <td>0</td>\n",
       "      <td>0</td>\n",
       "      <td>0</td>\n",
       "      <td>4</td>\n",
       "      <td>1</td>\n",
       "      <td>0</td>\n",
       "      <td>19</td>\n",
       "      <td>Policy 9</td>\n",
       "      <td>dikesnet</td>\n",
       "    </tr>\n",
       "  </tbody>\n",
       "</table>\n",
       "<p>100 rows × 53 columns</p>\n",
       "</div>"
      ],
      "text/plain": [
       "    A.0_ID flood wave shape    A.1_Bmax A.1_Brate  A.1_pfail    A.2_Bmax  \\\n",
       "0                        94  250.023520       1.0   0.891547  329.331398   \n",
       "1                        27  279.458603       1.5   0.298548  122.810733   \n",
       "2                        66  292.225696      10.0   0.147436  281.405525   \n",
       "3                        84  115.695361       1.5   0.739272  310.927627   \n",
       "4                        43   64.455071       1.5   0.663021  179.288126   \n",
       "..                      ...         ...       ...        ...         ...   \n",
       "95                       22  342.497996       1.0   0.061200  199.861085   \n",
       "96                      114  190.906822       1.0   0.961153  240.410524   \n",
       "97                       12  135.898559      10.0   0.393407  145.316796   \n",
       "98                       54   54.045053      10.0   0.559823   67.479237   \n",
       "99                      124  164.512800       1.5   0.440775   52.573747   \n",
       "\n",
       "   A.2_Brate  A.2_pfail    A.3_Bmax A.3_Brate  A.3_pfail  ...  \\\n",
       "0        1.0   0.627512   81.908229      10.0   0.421516  ...   \n",
       "1        1.0   0.302922  159.514451       1.5   0.632061  ...   \n",
       "2        1.5   0.590149  263.915143       1.0   0.732106  ...   \n",
       "3        1.5   0.700070  205.240014       1.0   0.547553  ...   \n",
       "4        1.5   0.165718  123.860309      10.0   0.810964  ...   \n",
       "..       ...        ...         ...       ...        ...  ...   \n",
       "95       1.0   0.406012  339.576274      10.0   0.916559  ...   \n",
       "96      10.0   0.949191   59.140502       1.5   0.374980  ...   \n",
       "97       1.5   0.834791  305.996897      10.0   0.274493  ...   \n",
       "98      10.0   0.094446  238.164320       1.0   0.185536  ...   \n",
       "99      10.0   0.285395  140.134222       1.0   0.030661  ...   \n",
       "\n",
       "    A.3_DikeIncrease 2 A.4_DikeIncrease 0  A.4_DikeIncrease 1  \\\n",
       "0                    0                  0                   0   \n",
       "1                    0                  0                   0   \n",
       "2                    0                  0                   0   \n",
       "3                    0                  0                   0   \n",
       "4                    0                  0                   0   \n",
       "..                 ...                ...                 ...   \n",
       "95                   0                  0                   0   \n",
       "96                   0                  0                   0   \n",
       "97                   0                  0                   0   \n",
       "98                   0                  0                   0   \n",
       "99                   0                  0                   0   \n",
       "\n",
       "    A.4_DikeIncrease 2 A.5_DikeIncrease 0  A.5_DikeIncrease 1  \\\n",
       "0                    0                  0                   0   \n",
       "1                    0                  0                   0   \n",
       "2                    0                  0                   0   \n",
       "3                    0                  0                   0   \n",
       "4                    0                  0                   0   \n",
       "..                 ...                ...                 ...   \n",
       "95                   0                  4                   1   \n",
       "96                   0                  4                   1   \n",
       "97                   0                  4                   1   \n",
       "98                   0                  4                   1   \n",
       "99                   0                  4                   1   \n",
       "\n",
       "   A.5_DikeIncrease 2 scenario    policy     model  \n",
       "0                   0       10  Policy 0  dikesnet  \n",
       "1                   0       11  Policy 0  dikesnet  \n",
       "2                   0       12  Policy 0  dikesnet  \n",
       "3                   0       13  Policy 0  dikesnet  \n",
       "4                   0       14  Policy 0  dikesnet  \n",
       "..                ...      ...       ...       ...  \n",
       "95                  0       15  Policy 9  dikesnet  \n",
       "96                  0       16  Policy 9  dikesnet  \n",
       "97                  0       17  Policy 9  dikesnet  \n",
       "98                  0       18  Policy 9  dikesnet  \n",
       "99                  0       19  Policy 9  dikesnet  \n",
       "\n",
       "[100 rows x 53 columns]"
      ]
     },
     "execution_count": 61,
     "metadata": {},
     "output_type": "execute_result"
    }
   ],
   "source": [
    "experiments"
   ]
  },
  {
   "cell_type": "code",
   "execution_count": null,
   "metadata": {},
   "outputs": [
    {
     "name": "stdout",
     "output_type": "stream",
     "text": [
      "Experiments and outcomes saved in the 'results' folder with date 2025-06-02.\n"
     ]
    }
   ],
   "source": [
    "import os\n",
    "from datetime import datetime\n",
    "\n",
    "# Where to source from (change to results_sobol later)\n",
    "experiments, outcomes= results_normal\n",
    "\n",
    "\n",
    "# Get the current date in YYYY-MM-DD format\n",
    "current_date = datetime.now().strftime('%Y-%m-%d')\n",
    "\n",
    "# Define the folder path\n",
    "folder_name = \"results\"\n",
    "if not os.path.exists(folder_name):\n",
    "    os.makedirs(folder_name)  # Create the folder if it doesn't exist\n",
    "\n",
    "# Save experiments DataFrame to a CSV file in the folder\n",
    "experiments.to_csv(os.path.join(folder_name, f'experiments_{current_date}.csv'), index=False)\n",
    "\n",
    "# Save outcomes DataFrame to a CSV file in the folder\n",
    "df_outcomes = pd.DataFrame(outcomes)\n",
    "df_outcomes.to_csv(os.path.join(folder_name, f'outcomes_{current_date}.csv'), index=False)\n",
    "\n",
    "print(f\"Experiments and outcomes saved in the '{folder_name}' folder with date {current_date}.\")"
   ]
  },
  {
   "cell_type": "markdown",
   "metadata": {},
   "source": [
    "You can also skip the two above using the produced results"
   ]
  },
  {
   "cell_type": "code",
   "execution_count": 65,
   "metadata": {},
   "outputs": [
    {
     "name": "stdout",
     "output_type": "stream",
     "text": [
      "DataFrames recreated from stored CSV files.\n"
     ]
    }
   ],
   "source": [
    "import pandas as pd\n",
    "\n",
    "# Define the folder path and file names\n",
    "folder_name = \"results\"\n",
    "current_date = \"2025-06-02\"  # Replace with the exact date if needed\n",
    "\n",
    "# Load the experiments DataFrame\n",
    "experiments = pd.read_csv(f\"{folder_name}/experiments_{current_date}.csv\")\n",
    "\n",
    "# Load the outcomes DataFrame\n",
    "outcomes = pd.read_csv(f\"{folder_name}/outcomes_{current_date}.csv\")\n",
    "\n",
    "print(\"DataFrames recreated from stored CSV files.\")"
   ]
  },
  {
   "cell_type": "code",
   "execution_count": 66,
   "metadata": {},
   "outputs": [],
   "source": [
    "x = experiments\n",
    "x = x.drop(['scenario', 'policy', 'model'], axis = 1 )\n",
    "x_levers = x.iloc[:, -31:]\n",
    "x_uncertainties = x.iloc[:, 0:-31]\n"
   ]
  },
  {
   "cell_type": "code",
   "execution_count": 67,
   "metadata": {},
   "outputs": [
    {
     "name": "stdout",
     "output_type": "stream",
     "text": [
      "0.5743893887064797\n"
     ]
    }
   ],
   "source": [
    "outcomes_deaths = pd.DataFrame(outcomes).iloc[:, 1:-2:2]  # Convert to DataFrame and select odd-indexed columns\n",
    "outcomes_deaths['Total_Deaths'] = outcomes_deaths.sum(axis=1)\n",
    "y = outcomes_deaths['Total_Deaths']\n",
    "y_mean = y.mean()\n",
    "print(y_mean)\n",
    "y = y<y_mean"
   ]
  },
  {
   "cell_type": "markdown",
   "metadata": {},
   "source": [
    "You can change x_levers to x_uncertainties (or the other way around) below to do a different PRIM"
   ]
  },
  {
   "cell_type": "code",
   "execution_count": 70,
   "metadata": {},
   "outputs": [
    {
     "name": "stderr",
     "output_type": "stream",
     "text": [
      "[MainProcess/INFO] 100 points remaining, containing 68 cases of interest\n"
     ]
    },
    {
     "name": "stderr",
     "output_type": "stream",
     "text": [
      "[MainProcess/INFO] mean: 1.0, mass: 0.2, coverage: 0.29411764705882354, density: 1.0 restricted_dimensions: 5\n"
     ]
    }
   ],
   "source": [
    "from ema_workbench.analysis import prim\n",
    "from ema_workbench import ema_logging\n",
    "ema_logging.log_to_stderr(ema_logging.INFO)\n",
    "\n",
    "prim_alg = prim.Prim(x_uncertainties, y, threshold=0.8, peel_alpha=0.1)\n",
    "box1 = prim_alg.find_box()"
   ]
  },
  {
   "cell_type": "code",
   "execution_count": 71,
   "metadata": {},
   "outputs": [
    {
     "data": {
      "image/png": "[encoded data removed]",
      "text/plain": [
       "<Figure size 640x480 with 2 Axes>"
      ]
     },
     "metadata": {},
     "output_type": "display_data"
    }
   ],
   "source": [
    "import matplotlib.pyplot as plt\n",
    " \n",
    "box1.show_tradeoff(annotated=True)\n",
    "plt.show()"
   ]
  },
  {
   "cell_type": "code",
   "execution_count": 72,
   "metadata": {},
   "outputs": [
    {
     "data": {
      "image/png": "[encoded data removed]",
      "text/plain": [
       "<Figure size 640x480 with 1 Axes>"
      ]
     },
     "metadata": {},
     "output_type": "display_data"
    }
   ],
   "source": [
    "point = 5 # change\n",
    "box1.inspect(point, style='graph')\n",
    "plt.show()"
   ]
  },
  {
   "cell_type": "code",
   "execution_count": 73,
   "metadata": {},
   "outputs": [
    {
     "data": {
      "image/png": "[encoded data removed]",
      "text/plain": [
       "<Figure size 1000x1000 with 4 Axes>"
      ]
     },
     "metadata": {},
     "output_type": "display_data"
    }
   ],
   "source": [
    "from ema_workbench.analysis import dimensional_stacking\n",
    "from matplotlib import pyplot as plt\n",
    "y = outcomes_deaths['Total_Deaths']\n",
    "y_discretized = pd.cut(y, bins=5, labels=False)  # Equal-width bins\n",
    "y_discretized = y_discretized.to_numpy()\n",
    "\n",
    "dimensional_stacking.create_pivot_plot(x_levers, y_discretized, 2, nbins=5)\n",
    "plt.show()"
   ]
  },
  {
   "cell_type": "markdown",
   "metadata": {},
   "source": [
    "## Deel van Merel dat vgm nog niet helemaal werkt"
   ]
  },
  {
   "cell_type": "code",
   "execution_count": null,
   "metadata": {},
   "outputs": [],
   "source": [
    "\n",
    "prey_final_sobol = outcomes_sobol['prey'][:,0,-1]\n",
    "prey_mean_sobol = np.mean(outcomes_sobol['prey'][:,0,:],axis=1)\n",
    "prey_std_sobol = np.std(outcomes_sobol['prey'][:,0,:],axis=1)\n",
    "\n",
    "Si = sobol.analyze(problem, prey_mean_sobol, calc_second_order=True, print_to_console=True)"
   ]
  },
  {
   "cell_type": "code",
   "execution_count": null,
   "metadata": {},
   "outputs": [],
   "source": [
    "# defining specific policies\n",
    "# for example, policy 1 is about extra protection in upper boundary\n",
    "# policy 2 is about extra protection in lower boundary\n",
    "# policy 3 is extra protection in random locations\n",
    "\n",
    "def get_do_nothing_dict():\n",
    "    return {l.name: 0 for l in dike_model.levers}\n",
    "\n",
    "\n",
    "policies = [\n",
    "    Policy(\n",
    "        \"policy 1\",\n",
    "        **dict(\n",
    "            get_do_nothing_dict(),\n",
    "            **{\"3_RfR 0\": 1, \"3_RfR 1\": 0, \"3_RfR 2\": 0, \"4_RfR 0\": 1, \"4_RfR 1\":0, \"4_RfR 2\":0,  \"A.3_DikeIncrease 0\": 5}\n",
    "        )\n",
    "    ),\n",
    "    Policy(\n",
    "        \"policy 2\",\n",
    "        **dict(\n",
    "            get_do_nothing_dict(),\n",
    "            **{\"3_RfR 0\": 1, \"3_RfR 1\": 0, \"3_RfR 2\": 0, \"4_RfR 0\": 1, \"4_RfR 1\":0, \"4_RfR 2\":0, \"2_RfR 0\": 1, \"2_RfR 1\":0, \"2_RfR 2\":0, \"A.3_DikeIncrease 0\": 5}\n",
    "        )\n",
    "    ),\n",
    "\n",
    "    Policy(\n",
    "        \"policy 3\",\n",
    "        **dict(\n",
    "        get_do_nothing_dict(),\n",
    "            **{ \"4_RfR 0\": 1, \"4_RfR 1\":0, \"4_RfR 2\":0,  \"A.3_DikeIncrease 0\": 5}\n",
    "        )\n",
    "    ),\n",
    "]"
   ]
  },
  {
   "cell_type": "code",
   "execution_count": null,
   "metadata": {},
   "outputs": [],
   "source": [
    "# pass the policies list to EMA workbench experiment runs\n",
    "n_scenarios = 100\n",
    "with MultiprocessingEvaluator(dike_model) as evaluator:\n",
    "    results = evaluator.perform_experiments(n_scenarios, policies)"
   ]
  },
  {
   "cell_type": "code",
   "execution_count": null,
   "metadata": {},
   "outputs": [],
   "source": [
    "experiments1, outcomes1 = results"
   ]
  },
  {
   "cell_type": "code",
   "execution_count": null,
   "metadata": {},
   "outputs": [],
   "source": [
    "experiments1"
   ]
  },
  {
   "cell_type": "code",
   "execution_count": null,
   "metadata": {},
   "outputs": [],
   "source": [
    "df_outcomes=pd.DataFrame(outcomes1)\n",
    "df_experiments=pd.DataFrame(experiments1)"
   ]
  },
  {
   "cell_type": "code",
   "execution_count": null,
   "metadata": {},
   "outputs": [],
   "source": [
    "df_outcomes['Total Deaths']=df_outcomes['A.1_Expected Number of Deaths']+df_outcomes['A.2_Expected Number of Deaths']+df_outcomes['A.3_Expected Number of Deaths']+df_outcomes['A.4_Expected Number of Deaths']+df_outcomes['A.5_Expected Number of Deaths']"
   ]
  },
  {
   "cell_type": "code",
   "execution_count": null,
   "metadata": {},
   "outputs": [],
   "source": [
    "experiments\n",
    "\n",
    "from ema_workbench.analysis import prim\n",
    "import matplotlib.pyplot as plt\n",
    "from ema_workbench.analysis import pairs_plotting\n",
    "\n",
    "# x = input variables\n",
    "x = experiments1\n",
    "\n",
    "# y = numeric outcome values\n",
    "threshold_value = 0.1\n",
    "best_cases = df_outcomes['Total Deaths'] < threshold_value\n",
    "\n",
    "# initialize PRIM\n",
    "prim_alg = prim.Prim(x, best_cases, threshold=threshold_value)\n",
    "\n",
    "# search for box\n",
    "box = prim_alg.find_box()\n",
    "\n",
    "# show trade-offs between coverage and density\n",
    "box.show_tradeoff()\n",
    "plt.show()\n"
   ]
  },
  {
   "cell_type": "code",
   "execution_count": null,
   "metadata": {},
   "outputs": [],
   "source": [
    "# Sample using Sobol sequences (use a power of 2 for efficiency)\n",
    "from SALib.sample.saltelli import sample\n",
    "# Generate samples\n",
    "param_values = sample(problem, 512, calc_second_order=False)  # 512 is base sample size\n",
    "\n",
    "# Run experiments\n",
    "experiments, outcomes = perform_experiments(dike_model, scenarios=param_values)\n",
    "\n",
    "# Extract the outcome of interest\n",
    "Y = outcomes['Total Deaths']\n",
    "\n",
    "# Sobol sensitivity analysis\n",
    "Si = sobol.analyze(problem, Y, calc_second_order=False)\n"
   ]
  },
  {
   "cell_type": "code",
   "execution_count": null,
   "metadata": {},
   "outputs": [],
   "source": [
    "from ema_workbench.analysis import prim\n",
    "import matplotlib.pyplot as plt\n",
    "from ema_workbench.analysis import pairs_plotting\n",
    "\n",
    "# List of policies\n",
    "policies = ['policy 1', 'policy 2', 'policy 3']\n",
    "\n",
    "# Set threshold for filtering best cases\n",
    "threshold_value = 0.1\n",
    "\n",
    "for policy in policies:\n",
    "    print(f\"\\nRunning PRIM for {policy}...\")\n",
    "\n",
    "    # Filter data for the current policy\n",
    "    x = experiments1[experiments1['policy'] == policy]\n",
    "    y = df_outcomes.loc[x.index]  # ensure outcome matches filtered experiments\n",
    "\n",
    "    # Define best cases based on outcome threshold\n",
    "    best_cases = y['Total Deaths'] < threshold_value\n",
    "\n",
    "    # Initialize PRIM\n",
    "    prim_alg = prim.Prim(x, best_cases, threshold=threshold_value)\n",
    "\n",
    "    # Search for box\n",
    "    box = prim_alg.find_box()\n",
    "\n",
    "    # Show trade-offs between coverage and density\n",
    "    box.show_tradeoff()\n",
    "    plt.title(f\"Trade-off for {policy}\")\n",
    "    plt.show()\n",
    "\n",
    "    # Optional: inspect the box\n",
    "    # box.inspect()\n",
    "    # box.inspect(style='graph')\n"
   ]
  },
  {
   "cell_type": "code",
   "execution_count": null,
   "metadata": {},
   "outputs": [],
   "source": [
    "from ema_workbench.analysis import prim, dimensional_stacking\n",
    "import matplotlib.pyplot as plt\n",
    "from ema_workbench.analysis import pairs_plotting\n",
    "\n",
    "# List of policies\n",
    "policies = ['policy 1', 'policy 2', 'policy 3']\n",
    "\n",
    "# Set threshold for filtering best cases\n",
    "threshold_value = 0.1\n",
    "\n",
    "for policy in policies:\n",
    "    print(f\"\\nRunning PRIM for {policy}...\")\n",
    "\n",
    "    # Filter data for the current policy\n",
    "    x = experiments1[experiments1['policy'] == policy]\n",
    "    y = df_outcomes.loc[x.index]  # Ensure alignment of outcomes with filtered experiments\n",
    "\n",
    "    # Define best cases based on outcome threshold\n",
    "    best_cases = y['Total Deaths'] < threshold_value\n",
    "\n",
    "    # Run PRIM\n",
    "    prim_alg = prim.Prim(x, best_cases, threshold=threshold_value)\n",
    "    box = prim_alg.find_box()\n",
    "\n",
    "    # Show trade-off plot\n",
    "    box.show_tradeoff()\n",
    "    plt.title(f\"Trade-off for {policy}\")\n",
    "    plt.show()\n",
    "\n",
    "    # Create dimensional stacking plot for best cases\n",
    "    if best_cases.any():\n",
    "        print(f\"Creating dimensional stacking plot for {policy}...\")\n",
    "        dimensional_stacking.create_pivot_plot(x[best_cases], x[best_cases].to_numpy())\n",
    "        plt.title(f\"Dimensional Stacking - {policy}\")\n",
    "        plt.show()\n"
   ]
  },
  {
   "cell_type": "code",
   "execution_count": null,
   "metadata": {},
   "outputs": [],
   "source": [
    "plt.show()\n",
    "box.show_ppt()"
   ]
  },
  {
   "cell_type": "code",
   "execution_count": null,
   "metadata": {},
   "outputs": [],
   "source": [
    "box.inspect(style='graph')\n",
    "plt.show()"
   ]
  },
  {
   "cell_type": "code",
   "execution_count": null,
   "metadata": {},
   "outputs": [],
   "source": [
    "from ema_workbench.analysis import dimensional_stacking\n",
    "import matplotlib.pyplot as plt\n",
    "\n",
    "# Loop through each policy and create a pivot plot\n",
    "for policy_name in ['Policy 1', 'Policy 2', 'Policy 3']:\n",
    "    # Filter x for the current policy\n",
    "    policy_mask = x['policy'] == policy_name\n",
    "    if policy_mask.sum() > 0:\n",
    "        print(f\"Plotting for {policy_name}\")\n",
    "        # Subset the best_cases DataFrame to match the filtered x\n",
    "        policy_cases_array = best_cases[policy_mask].to_numpy()\n",
    "        # Subset the corresponding x rows\n",
    "        policy_x = x[policy_mask]\n",
    "        # Create the pivot plot\n",
    "        dimensional_stacking.create_pivot_plot(policy_x, policy_cases_array)\n",
    "        plt.title(policy_name)\n",
    "        plt.show()\n"
   ]
  },
  {
   "cell_type": "code",
   "execution_count": null,
   "metadata": {},
   "outputs": [],
   "source": [
    "# Scatter plot\n",
    "plt.figure(figsize=(8, 6))\n",
    "plt.scatter(df_outcomes['RfR Total Costs'], df_outcomes['Total Deaths'], c='blue', alpha=0.7)\n",
    "plt.xlabel('RfR Total Costs')\n",
    "plt.ylabel('total deaths')\n",
    "plt.title('RfR Costs vs total deaths')\n",
    "plt.grid(True)\n",
    "plt.show()"
   ]
  },
  {
   "cell_type": "code",
   "execution_count": null,
   "metadata": {},
   "outputs": [],
   "source": []
  },
  {
   "cell_type": "code",
   "execution_count": null,
   "metadata": {},
   "outputs": [],
   "source": []
  },
  {
   "cell_type": "code",
   "execution_count": null,
   "metadata": {
    "pycharm": {
     "name": "#%%"
    }
   },
   "outputs": [],
   "source": []
  }
 ],
 "metadata": {
  "kernelspec": {
   "display_name": "Python 3",
   "language": "python",
   "name": "python3"
  },
  "language_info": {
   "codemirror_mode": {
    "name": "ipython",
    "version": 3
   },
   "file_extension": ".py",
   "mimetype": "text/x-python",
   "name": "python",
   "nbconvert_exporter": "python",
   "pygments_lexer": "ipython3",
   "version": "3.13.0"
  }
 },
 "nbformat": 4,
 "nbformat_minor": 4
}
