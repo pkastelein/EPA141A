{
 "cells": [
  {
   "cell_type": "code",
   "metadata": {
    "ExecuteTime": {
     "end_time": "2025-06-02T08:27:37.390724Z",
     "start_time": "2025-06-02T08:27:37.385736Z"
    }
   },
   "source": [
    "import numpy as np\n",
    "import scipy as sp\n",
    "import pandas as pd\n",
    "import matplotlib.pyplot as plt\n",
    "import seaborn as sns\n",
    "import networkx as nx"
   ],
   "outputs": [],
   "execution_count": 55
  },
  {
   "cell_type": "code",
   "metadata": {
    "ExecuteTime": {
     "end_time": "2025-06-02T08:27:37.725490Z",
     "start_time": "2025-06-02T08:27:37.719466Z"
    }
   },
   "source": [
    "# make sure pandas is version 1.0 or higher\n",
    "# make sure networkx is verion 2.4 or higher\n",
    "print(pd.__version__)\n",
    "print(nx.__version__)"
   ],
   "outputs": [
    {
     "name": "stdout",
     "output_type": "stream",
     "text": [
      "2.2.3\n",
      "3.5rc0\n"
     ]
    }
   ],
   "execution_count": 56
  },
  {
   "metadata": {
    "ExecuteTime": {
     "end_time": "2025-06-02T08:27:38.010283Z",
     "start_time": "2025-06-02T08:27:38.005036Z"
    }
   },
   "cell_type": "code",
   "source": [
    "from ema_workbench import (\n",
    "    Model,\n",
    "    Policy,\n",
    "    ema_logging,\n",
    "    SequentialEvaluator,\n",
    "    MultiprocessingEvaluator,\n",
    ")\n",
    "from dike_model_function import DikeNetwork  # @UnresolvedImport\n",
    "from problem_formulation import get_model_for_problem_formulation, sum_over, sum_over_time"
   ],
   "outputs": [],
   "execution_count": 57
  },
  {
   "metadata": {
    "ExecuteTime": {
     "end_time": "2025-06-02T08:27:38.612040Z",
     "start_time": "2025-06-02T08:27:38.315811Z"
    }
   },
   "cell_type": "code",
   "source": [
    "ema_logging.log_to_stderr(ema_logging.INFO)\n",
    "\n",
    "# choose problem formulation number, between 0-5\n",
    "# each problem formulation has its own list of outcomes\n",
    "dike_model, planning_steps = get_model_for_problem_formulation(3)"
   ],
   "outputs": [],
   "execution_count": 58
  },
  {
   "metadata": {
    "ExecuteTime": {
     "end_time": "2025-06-02T08:27:38.735815Z",
     "start_time": "2025-06-02T08:27:38.719738Z"
    }
   },
   "cell_type": "code",
   "source": [
    "# enlisting uncertainties, their types (RealParameter/IntegerParameter/CategoricalParameter), lower boundary, and upper boundary\n",
    "import copy\n",
    "\n",
    "for unc in dike_model.uncertainties:\n",
    "    print(repr(unc))\n",
    "\n",
    "uncertainties = copy.deepcopy(dike_model.uncertainties)"
   ],
   "outputs": [
    {
     "name": "stdout",
     "output_type": "stream",
     "text": [
      "CategoricalParameter('discount rate 0', [0, 1, 2, 3])\n",
      "CategoricalParameter('discount rate 1', [0, 1, 2, 3])\n",
      "CategoricalParameter('discount rate 2', [0, 1, 2, 3])\n",
      "IntegerParameter('A.0_ID flood wave shape', 0, 132, resolution=None, default=None, variable_name=['A.0_ID flood wave shape'], pff=False)\n",
      "RealParameter('A.1_Bmax', 30, 350, resolution=None, default=None, variable_name=['A.1_Bmax'], pff=False)\n",
      "RealParameter('A.1_pfail', 0, 1, resolution=None, default=None, variable_name=['A.1_pfail'], pff=False)\n",
      "CategoricalParameter('A.1_Brate', [0, 1, 2])\n",
      "RealParameter('A.2_Bmax', 30, 350, resolution=None, default=None, variable_name=['A.2_Bmax'], pff=False)\n",
      "RealParameter('A.2_pfail', 0, 1, resolution=None, default=None, variable_name=['A.2_pfail'], pff=False)\n",
      "CategoricalParameter('A.2_Brate', [0, 1, 2])\n",
      "RealParameter('A.3_Bmax', 30, 350, resolution=None, default=None, variable_name=['A.3_Bmax'], pff=False)\n",
      "RealParameter('A.3_pfail', 0, 1, resolution=None, default=None, variable_name=['A.3_pfail'], pff=False)\n",
      "CategoricalParameter('A.3_Brate', [0, 1, 2])\n",
      "RealParameter('A.4_Bmax', 30, 350, resolution=None, default=None, variable_name=['A.4_Bmax'], pff=False)\n",
      "RealParameter('A.4_pfail', 0, 1, resolution=None, default=None, variable_name=['A.4_pfail'], pff=False)\n",
      "CategoricalParameter('A.4_Brate', [0, 1, 2])\n",
      "RealParameter('A.5_Bmax', 30, 350, resolution=None, default=None, variable_name=['A.5_Bmax'], pff=False)\n",
      "RealParameter('A.5_pfail', 0, 1, resolution=None, default=None, variable_name=['A.5_pfail'], pff=False)\n",
      "CategoricalParameter('A.5_Brate', [0, 1, 2])\n"
     ]
    }
   ],
   "execution_count": 59
  },
  {
   "metadata": {
    "ExecuteTime": {
     "end_time": "2025-06-02T08:27:39.035617Z",
     "start_time": "2025-06-02T08:27:39.016366Z"
    }
   },
   "cell_type": "code",
   "source": [
    "# enlisting policy levers, their types (RealParameter/IntegerParameter), lower boundary, and upper boundary\n",
    "for policy in dike_model.levers:\n",
    "    print(repr(policy))\n",
    "\n",
    "levers = copy.deepcopy(dike_model.levers)"
   ],
   "outputs": [
    {
     "name": "stdout",
     "output_type": "stream",
     "text": [
      "IntegerParameter('0_RfR 0', 0, 1, resolution=None, default=None, variable_name=['0_RfR 0'], pff=False)\n",
      "IntegerParameter('0_RfR 1', 0, 1, resolution=None, default=None, variable_name=['0_RfR 1'], pff=False)\n",
      "IntegerParameter('0_RfR 2', 0, 1, resolution=None, default=None, variable_name=['0_RfR 2'], pff=False)\n",
      "IntegerParameter('1_RfR 0', 0, 1, resolution=None, default=None, variable_name=['1_RfR 0'], pff=False)\n",
      "IntegerParameter('1_RfR 1', 0, 1, resolution=None, default=None, variable_name=['1_RfR 1'], pff=False)\n",
      "IntegerParameter('1_RfR 2', 0, 1, resolution=None, default=None, variable_name=['1_RfR 2'], pff=False)\n",
      "IntegerParameter('2_RfR 0', 0, 1, resolution=None, default=None, variable_name=['2_RfR 0'], pff=False)\n",
      "IntegerParameter('2_RfR 1', 0, 1, resolution=None, default=None, variable_name=['2_RfR 1'], pff=False)\n",
      "IntegerParameter('2_RfR 2', 0, 1, resolution=None, default=None, variable_name=['2_RfR 2'], pff=False)\n",
      "IntegerParameter('3_RfR 0', 0, 1, resolution=None, default=None, variable_name=['3_RfR 0'], pff=False)\n",
      "IntegerParameter('3_RfR 1', 0, 1, resolution=None, default=None, variable_name=['3_RfR 1'], pff=False)\n",
      "IntegerParameter('3_RfR 2', 0, 1, resolution=None, default=None, variable_name=['3_RfR 2'], pff=False)\n",
      "IntegerParameter('4_RfR 0', 0, 1, resolution=None, default=None, variable_name=['4_RfR 0'], pff=False)\n",
      "IntegerParameter('4_RfR 1', 0, 1, resolution=None, default=None, variable_name=['4_RfR 1'], pff=False)\n",
      "IntegerParameter('4_RfR 2', 0, 1, resolution=None, default=None, variable_name=['4_RfR 2'], pff=False)\n",
      "IntegerParameter('EWS_DaysToThreat', 0, 4, resolution=None, default=None, variable_name=['EWS_DaysToThreat'], pff=False)\n",
      "IntegerParameter('A.1_DikeIncrease 0', 0, 10, resolution=None, default=None, variable_name=['A.1_DikeIncrease 0'], pff=False)\n",
      "IntegerParameter('A.1_DikeIncrease 1', 0, 10, resolution=None, default=None, variable_name=['A.1_DikeIncrease 1'], pff=False)\n",
      "IntegerParameter('A.1_DikeIncrease 2', 0, 10, resolution=None, default=None, variable_name=['A.1_DikeIncrease 2'], pff=False)\n",
      "IntegerParameter('A.2_DikeIncrease 0', 0, 10, resolution=None, default=None, variable_name=['A.2_DikeIncrease 0'], pff=False)\n",
      "IntegerParameter('A.2_DikeIncrease 1', 0, 10, resolution=None, default=None, variable_name=['A.2_DikeIncrease 1'], pff=False)\n",
      "IntegerParameter('A.2_DikeIncrease 2', 0, 10, resolution=None, default=None, variable_name=['A.2_DikeIncrease 2'], pff=False)\n",
      "IntegerParameter('A.3_DikeIncrease 0', 0, 10, resolution=None, default=None, variable_name=['A.3_DikeIncrease 0'], pff=False)\n",
      "IntegerParameter('A.3_DikeIncrease 1', 0, 10, resolution=None, default=None, variable_name=['A.3_DikeIncrease 1'], pff=False)\n",
      "IntegerParameter('A.3_DikeIncrease 2', 0, 10, resolution=None, default=None, variable_name=['A.3_DikeIncrease 2'], pff=False)\n",
      "IntegerParameter('A.4_DikeIncrease 0', 0, 10, resolution=None, default=None, variable_name=['A.4_DikeIncrease 0'], pff=False)\n",
      "IntegerParameter('A.4_DikeIncrease 1', 0, 10, resolution=None, default=None, variable_name=['A.4_DikeIncrease 1'], pff=False)\n",
      "IntegerParameter('A.4_DikeIncrease 2', 0, 10, resolution=None, default=None, variable_name=['A.4_DikeIncrease 2'], pff=False)\n",
      "IntegerParameter('A.5_DikeIncrease 0', 0, 10, resolution=None, default=None, variable_name=['A.5_DikeIncrease 0'], pff=False)\n",
      "IntegerParameter('A.5_DikeIncrease 1', 0, 10, resolution=None, default=None, variable_name=['A.5_DikeIncrease 1'], pff=False)\n",
      "IntegerParameter('A.5_DikeIncrease 2', 0, 10, resolution=None, default=None, variable_name=['A.5_DikeIncrease 2'], pff=False)\n"
     ]
    }
   ],
   "execution_count": 60
  },
  {
   "metadata": {
    "ExecuteTime": {
     "end_time": "2025-06-02T08:27:39.401763Z",
     "start_time": "2025-06-02T08:27:39.396219Z"
    }
   },
   "cell_type": "code",
   "source": [
    "# enlisting outcomes\n",
    "for outcome in dike_model.outcomes:\n",
    "    print(repr(outcome))"
   ],
   "outputs": [
    {
     "name": "stdout",
     "output_type": "stream",
     "text": [
      "ScalarOutcome('A.1 Total Costs', variable_name=('A.1_Expected Annual Damage', 'A.1_Dike Investment Costs'), function=<function sum_over at 0x000001BC0037D8A0>)\n",
      "ScalarOutcome('A.1_Expected Number of Deaths', variable_name=('A.1_Expected Number of Deaths',), function=<function sum_over at 0x000001BC0037D8A0>)\n",
      "ScalarOutcome('A.2 Total Costs', variable_name=('A.2_Expected Annual Damage', 'A.2_Dike Investment Costs'), function=<function sum_over at 0x000001BC0037D8A0>)\n",
      "ScalarOutcome('A.2_Expected Number of Deaths', variable_name=('A.2_Expected Number of Deaths',), function=<function sum_over at 0x000001BC0037D8A0>)\n",
      "ScalarOutcome('A.3 Total Costs', variable_name=('A.3_Expected Annual Damage', 'A.3_Dike Investment Costs'), function=<function sum_over at 0x000001BC0037D8A0>)\n",
      "ScalarOutcome('A.3_Expected Number of Deaths', variable_name=('A.3_Expected Number of Deaths',), function=<function sum_over at 0x000001BC0037D8A0>)\n",
      "ScalarOutcome('A.4 Total Costs', variable_name=('A.4_Expected Annual Damage', 'A.4_Dike Investment Costs'), function=<function sum_over at 0x000001BC0037D8A0>)\n",
      "ScalarOutcome('A.4_Expected Number of Deaths', variable_name=('A.4_Expected Number of Deaths',), function=<function sum_over at 0x000001BC0037D8A0>)\n",
      "ScalarOutcome('A.5 Total Costs', variable_name=('A.5_Expected Annual Damage', 'A.5_Dike Investment Costs'), function=<function sum_over at 0x000001BC0037D8A0>)\n",
      "ScalarOutcome('A.5_Expected Number of Deaths', variable_name=('A.5_Expected Number of Deaths',), function=<function sum_over at 0x000001BC0037D8A0>)\n",
      "ScalarOutcome('RfR Total Costs', variable_name=('RfR Total Costs',), function=<function sum_over at 0x000001BC0037D8A0>)\n",
      "ScalarOutcome('Expected Evacuation Costs', variable_name=('Expected Evacuation Costs',), function=<function sum_over at 0x000001BC0037D8A0>)\n"
     ]
    }
   ],
   "execution_count": 61
  },
  {
   "metadata": {
    "ExecuteTime": {
     "end_time": "2025-06-02T08:28:42.006258Z",
     "start_time": "2025-06-02T08:27:39.715011Z"
    }
   },
   "cell_type": "code",
   "source": [
    "# running the model through EMA workbench\n",
    "with MultiprocessingEvaluator(dike_model) as evaluator:\n",
    "    results = evaluator.perform_experiments(scenarios=20, policies=5)"
   ],
   "outputs": [
    {
     "name": "stderr",
     "output_type": "stream",
     "text": [
      "[MainProcess/INFO] pool started with 12 workers\n",
      "[MainProcess/INFO] performing 20 scenarios * 5 policies * 1 model(s) = 100 experiments\n",
      "100%|████████████████████████████████████████| 100/100 [00:18<00:00,  5.49it/s]\n",
      "[MainProcess/INFO] experiments finished\n",
      "[MainProcess/INFO] terminating pool\n"
     ]
    }
   ],
   "execution_count": 62
  },
  {
   "metadata": {
    "ExecuteTime": {
     "end_time": "2025-06-02T08:28:42.127823Z",
     "start_time": "2025-06-02T08:28:42.120176Z"
    }
   },
   "cell_type": "code",
   "source": [
    "# observing the simulation runs\n",
    "experiments, outcomes = results"
   ],
   "outputs": [],
   "execution_count": 63
  },
  {
   "metadata": {
    "ExecuteTime": {
     "end_time": "2025-06-02T08:28:42.219092Z",
     "start_time": "2025-06-02T08:28:42.157046Z"
    }
   },
   "cell_type": "code",
   "source": "experiments",
   "outputs": [
    {
     "data": {
      "text/plain": [
       "    A.0_ID flood wave shape    A.1_Bmax A.1_Brate  A.1_pfail    A.2_Bmax  \\\n",
       "0                       128  241.308404       1.5   0.937493   34.436584   \n",
       "1                        52  324.903397       1.0   0.068462  252.354958   \n",
       "2                        17  277.066835       1.0   0.376904  175.108842   \n",
       "3                       118  216.945699      10.0   0.787221   70.515402   \n",
       "4                        32  348.019629      10.0   0.000891  163.276140   \n",
       "..                      ...         ...       ...        ...         ...   \n",
       "95                       96  179.301281       1.0   0.112610  218.470941   \n",
       "96                       86   60.396352      10.0   0.161866  308.966883   \n",
       "97                       72  269.193140       1.5   0.878689  130.875337   \n",
       "98                      123  171.232693       1.5   0.445293  328.875168   \n",
       "99                       89  301.275128       1.5   0.323682  345.928418   \n",
       "\n",
       "   A.2_Brate  A.2_pfail    A.3_Bmax A.3_Brate  A.3_pfail  ...  \\\n",
       "0        1.0   0.506706  168.859252      10.0   0.836989  ...   \n",
       "1       10.0   0.884698  207.485634       1.0   0.656061  ...   \n",
       "2       10.0   0.972241  174.764979       1.5   0.586020  ...   \n",
       "3        1.5   0.903228  337.847849       1.0   0.892243  ...   \n",
       "4        1.5   0.032283  282.985952       1.0   0.508986  ...   \n",
       "..       ...        ...         ...       ...        ...  ...   \n",
       "95       1.0   0.085677  256.448430      10.0   0.736932  ...   \n",
       "96       1.0   0.753113  303.681175       1.0   0.076656  ...   \n",
       "97      10.0   0.706440   80.374842       1.5   0.181204  ...   \n",
       "98       1.0   0.110696  128.718076      10.0   0.960837  ...   \n",
       "99       1.5   0.825217  156.841095       1.0   0.921298  ...   \n",
       "\n",
       "    A.4_DikeIncrease 0 A.4_DikeIncrease 1  A.4_DikeIncrease 2  \\\n",
       "0                    8                  0                   5   \n",
       "1                    8                  0                   5   \n",
       "2                    8                  0                   5   \n",
       "3                    8                  0                   5   \n",
       "4                    8                  0                   5   \n",
       "..                 ...                ...                 ...   \n",
       "95                   9                 10                   2   \n",
       "96                   9                 10                   2   \n",
       "97                   9                 10                   2   \n",
       "98                   9                 10                   2   \n",
       "99                   9                 10                   2   \n",
       "\n",
       "    A.5_DikeIncrease 0 A.5_DikeIncrease 1  A.5_DikeIncrease 2  \\\n",
       "0                    3                  0                   2   \n",
       "1                    3                  0                   2   \n",
       "2                    3                  0                   2   \n",
       "3                    3                  0                   2   \n",
       "4                    3                  0                   2   \n",
       "..                 ...                ...                 ...   \n",
       "95                   7                  9                   1   \n",
       "96                   7                  9                   1   \n",
       "97                   7                  9                   1   \n",
       "98                   7                  9                   1   \n",
       "99                   7                  9                   1   \n",
       "\n",
       "   EWS_DaysToThreat scenario  policy     model  \n",
       "0                 2   121081  121076  dikesnet  \n",
       "1                 2   121082  121076  dikesnet  \n",
       "2                 2   121083  121076  dikesnet  \n",
       "3                 2   121084  121076  dikesnet  \n",
       "4                 2   121085  121076  dikesnet  \n",
       "..              ...      ...     ...       ...  \n",
       "95                4   121096  121080  dikesnet  \n",
       "96                4   121097  121080  dikesnet  \n",
       "97                4   121098  121080  dikesnet  \n",
       "98                4   121099  121080  dikesnet  \n",
       "99                4   121100  121080  dikesnet  \n",
       "\n",
       "[100 rows x 53 columns]"
      ],
      "text/html": [
       "<div>\n",
       "<style scoped>\n",
       "    .dataframe tbody tr th:only-of-type {\n",
       "        vertical-align: middle;\n",
       "    }\n",
       "\n",
       "    .dataframe tbody tr th {\n",
       "        vertical-align: top;\n",
       "    }\n",
       "\n",
       "    .dataframe thead th {\n",
       "        text-align: right;\n",
       "    }\n",
       "</style>\n",
       "<table border=\"1\" class=\"dataframe\">\n",
       "  <thead>\n",
       "    <tr style=\"text-align: right;\">\n",
       "      <th></th>\n",
       "      <th>A.0_ID flood wave shape</th>\n",
       "      <th>A.1_Bmax</th>\n",
       "      <th>A.1_Brate</th>\n",
       "      <th>A.1_pfail</th>\n",
       "      <th>A.2_Bmax</th>\n",
       "      <th>A.2_Brate</th>\n",
       "      <th>A.2_pfail</th>\n",
       "      <th>A.3_Bmax</th>\n",
       "      <th>A.3_Brate</th>\n",
       "      <th>A.3_pfail</th>\n",
       "      <th>...</th>\n",
       "      <th>A.4_DikeIncrease 0</th>\n",
       "      <th>A.4_DikeIncrease 1</th>\n",
       "      <th>A.4_DikeIncrease 2</th>\n",
       "      <th>A.5_DikeIncrease 0</th>\n",
       "      <th>A.5_DikeIncrease 1</th>\n",
       "      <th>A.5_DikeIncrease 2</th>\n",
       "      <th>EWS_DaysToThreat</th>\n",
       "      <th>scenario</th>\n",
       "      <th>policy</th>\n",
       "      <th>model</th>\n",
       "    </tr>\n",
       "  </thead>\n",
       "  <tbody>\n",
       "    <tr>\n",
       "      <th>0</th>\n",
       "      <td>128</td>\n",
       "      <td>241.308404</td>\n",
       "      <td>1.5</td>\n",
       "      <td>0.937493</td>\n",
       "      <td>34.436584</td>\n",
       "      <td>1.0</td>\n",
       "      <td>0.506706</td>\n",
       "      <td>168.859252</td>\n",
       "      <td>10.0</td>\n",
       "      <td>0.836989</td>\n",
       "      <td>...</td>\n",
       "      <td>8</td>\n",
       "      <td>0</td>\n",
       "      <td>5</td>\n",
       "      <td>3</td>\n",
       "      <td>0</td>\n",
       "      <td>2</td>\n",
       "      <td>2</td>\n",
       "      <td>121081</td>\n",
       "      <td>121076</td>\n",
       "      <td>dikesnet</td>\n",
       "    </tr>\n",
       "    <tr>\n",
       "      <th>1</th>\n",
       "      <td>52</td>\n",
       "      <td>324.903397</td>\n",
       "      <td>1.0</td>\n",
       "      <td>0.068462</td>\n",
       "      <td>252.354958</td>\n",
       "      <td>10.0</td>\n",
       "      <td>0.884698</td>\n",
       "      <td>207.485634</td>\n",
       "      <td>1.0</td>\n",
       "      <td>0.656061</td>\n",
       "      <td>...</td>\n",
       "      <td>8</td>\n",
       "      <td>0</td>\n",
       "      <td>5</td>\n",
       "      <td>3</td>\n",
       "      <td>0</td>\n",
       "      <td>2</td>\n",
       "      <td>2</td>\n",
       "      <td>121082</td>\n",
       "      <td>121076</td>\n",
       "      <td>dikesnet</td>\n",
       "    </tr>\n",
       "    <tr>\n",
       "      <th>2</th>\n",
       "      <td>17</td>\n",
       "      <td>277.066835</td>\n",
       "      <td>1.0</td>\n",
       "      <td>0.376904</td>\n",
       "      <td>175.108842</td>\n",
       "      <td>10.0</td>\n",
       "      <td>0.972241</td>\n",
       "      <td>174.764979</td>\n",
       "      <td>1.5</td>\n",
       "      <td>0.586020</td>\n",
       "      <td>...</td>\n",
       "      <td>8</td>\n",
       "      <td>0</td>\n",
       "      <td>5</td>\n",
       "      <td>3</td>\n",
       "      <td>0</td>\n",
       "      <td>2</td>\n",
       "      <td>2</td>\n",
       "      <td>121083</td>\n",
       "      <td>121076</td>\n",
       "      <td>dikesnet</td>\n",
       "    </tr>\n",
       "    <tr>\n",
       "      <th>3</th>\n",
       "      <td>118</td>\n",
       "      <td>216.945699</td>\n",
       "      <td>10.0</td>\n",
       "      <td>0.787221</td>\n",
       "      <td>70.515402</td>\n",
       "      <td>1.5</td>\n",
       "      <td>0.903228</td>\n",
       "      <td>337.847849</td>\n",
       "      <td>1.0</td>\n",
       "      <td>0.892243</td>\n",
       "      <td>...</td>\n",
       "      <td>8</td>\n",
       "      <td>0</td>\n",
       "      <td>5</td>\n",
       "      <td>3</td>\n",
       "      <td>0</td>\n",
       "      <td>2</td>\n",
       "      <td>2</td>\n",
       "      <td>121084</td>\n",
       "      <td>121076</td>\n",
       "      <td>dikesnet</td>\n",
       "    </tr>\n",
       "    <tr>\n",
       "      <th>4</th>\n",
       "      <td>32</td>\n",
       "      <td>348.019629</td>\n",
       "      <td>10.0</td>\n",
       "      <td>0.000891</td>\n",
       "      <td>163.276140</td>\n",
       "      <td>1.5</td>\n",
       "      <td>0.032283</td>\n",
       "      <td>282.985952</td>\n",
       "      <td>1.0</td>\n",
       "      <td>0.508986</td>\n",
       "      <td>...</td>\n",
       "      <td>8</td>\n",
       "      <td>0</td>\n",
       "      <td>5</td>\n",
       "      <td>3</td>\n",
       "      <td>0</td>\n",
       "      <td>2</td>\n",
       "      <td>2</td>\n",
       "      <td>121085</td>\n",
       "      <td>121076</td>\n",
       "      <td>dikesnet</td>\n",
       "    </tr>\n",
       "    <tr>\n",
       "      <th>...</th>\n",
       "      <td>...</td>\n",
       "      <td>...</td>\n",
       "      <td>...</td>\n",
       "      <td>...</td>\n",
       "      <td>...</td>\n",
       "      <td>...</td>\n",
       "      <td>...</td>\n",
       "      <td>...</td>\n",
       "      <td>...</td>\n",
       "      <td>...</td>\n",
       "      <td>...</td>\n",
       "      <td>...</td>\n",
       "      <td>...</td>\n",
       "      <td>...</td>\n",
       "      <td>...</td>\n",
       "      <td>...</td>\n",
       "      <td>...</td>\n",
       "      <td>...</td>\n",
       "      <td>...</td>\n",
       "      <td>...</td>\n",
       "      <td>...</td>\n",
       "    </tr>\n",
       "    <tr>\n",
       "      <th>95</th>\n",
       "      <td>96</td>\n",
       "      <td>179.301281</td>\n",
       "      <td>1.0</td>\n",
       "      <td>0.112610</td>\n",
       "      <td>218.470941</td>\n",
       "      <td>1.0</td>\n",
       "      <td>0.085677</td>\n",
       "      <td>256.448430</td>\n",
       "      <td>10.0</td>\n",
       "      <td>0.736932</td>\n",
       "      <td>...</td>\n",
       "      <td>9</td>\n",
       "      <td>10</td>\n",
       "      <td>2</td>\n",
       "      <td>7</td>\n",
       "      <td>9</td>\n",
       "      <td>1</td>\n",
       "      <td>4</td>\n",
       "      <td>121096</td>\n",
       "      <td>121080</td>\n",
       "      <td>dikesnet</td>\n",
       "    </tr>\n",
       "    <tr>\n",
       "      <th>96</th>\n",
       "      <td>86</td>\n",
       "      <td>60.396352</td>\n",
       "      <td>10.0</td>\n",
       "      <td>0.161866</td>\n",
       "      <td>308.966883</td>\n",
       "      <td>1.0</td>\n",
       "      <td>0.753113</td>\n",
       "      <td>303.681175</td>\n",
       "      <td>1.0</td>\n",
       "      <td>0.076656</td>\n",
       "      <td>...</td>\n",
       "      <td>9</td>\n",
       "      <td>10</td>\n",
       "      <td>2</td>\n",
       "      <td>7</td>\n",
       "      <td>9</td>\n",
       "      <td>1</td>\n",
       "      <td>4</td>\n",
       "      <td>121097</td>\n",
       "      <td>121080</td>\n",
       "      <td>dikesnet</td>\n",
       "    </tr>\n",
       "    <tr>\n",
       "      <th>97</th>\n",
       "      <td>72</td>\n",
       "      <td>269.193140</td>\n",
       "      <td>1.5</td>\n",
       "      <td>0.878689</td>\n",
       "      <td>130.875337</td>\n",
       "      <td>10.0</td>\n",
       "      <td>0.706440</td>\n",
       "      <td>80.374842</td>\n",
       "      <td>1.5</td>\n",
       "      <td>0.181204</td>\n",
       "      <td>...</td>\n",
       "      <td>9</td>\n",
       "      <td>10</td>\n",
       "      <td>2</td>\n",
       "      <td>7</td>\n",
       "      <td>9</td>\n",
       "      <td>1</td>\n",
       "      <td>4</td>\n",
       "      <td>121098</td>\n",
       "      <td>121080</td>\n",
       "      <td>dikesnet</td>\n",
       "    </tr>\n",
       "    <tr>\n",
       "      <th>98</th>\n",
       "      <td>123</td>\n",
       "      <td>171.232693</td>\n",
       "      <td>1.5</td>\n",
       "      <td>0.445293</td>\n",
       "      <td>328.875168</td>\n",
       "      <td>1.0</td>\n",
       "      <td>0.110696</td>\n",
       "      <td>128.718076</td>\n",
       "      <td>10.0</td>\n",
       "      <td>0.960837</td>\n",
       "      <td>...</td>\n",
       "      <td>9</td>\n",
       "      <td>10</td>\n",
       "      <td>2</td>\n",
       "      <td>7</td>\n",
       "      <td>9</td>\n",
       "      <td>1</td>\n",
       "      <td>4</td>\n",
       "      <td>121099</td>\n",
       "      <td>121080</td>\n",
       "      <td>dikesnet</td>\n",
       "    </tr>\n",
       "    <tr>\n",
       "      <th>99</th>\n",
       "      <td>89</td>\n",
       "      <td>301.275128</td>\n",
       "      <td>1.5</td>\n",
       "      <td>0.323682</td>\n",
       "      <td>345.928418</td>\n",
       "      <td>1.5</td>\n",
       "      <td>0.825217</td>\n",
       "      <td>156.841095</td>\n",
       "      <td>1.0</td>\n",
       "      <td>0.921298</td>\n",
       "      <td>...</td>\n",
       "      <td>9</td>\n",
       "      <td>10</td>\n",
       "      <td>2</td>\n",
       "      <td>7</td>\n",
       "      <td>9</td>\n",
       "      <td>1</td>\n",
       "      <td>4</td>\n",
       "      <td>121100</td>\n",
       "      <td>121080</td>\n",
       "      <td>dikesnet</td>\n",
       "    </tr>\n",
       "  </tbody>\n",
       "</table>\n",
       "<p>100 rows × 53 columns</p>\n",
       "</div>"
      ]
     },
     "execution_count": 64,
     "metadata": {},
     "output_type": "execute_result"
    }
   ],
   "execution_count": 64
  },
  {
   "metadata": {
    "ExecuteTime": {
     "end_time": "2025-06-02T08:28:42.549881Z",
     "start_time": "2025-06-02T08:28:42.541906Z"
    }
   },
   "cell_type": "code",
   "source": [
    "# only works because we have scalar outcomes\n",
    "df=pd.DataFrame(outcomes)"
   ],
   "outputs": [],
   "execution_count": 65
  },
  {
   "metadata": {
    "ExecuteTime": {
     "end_time": "2025-06-02T08:28:42.721747Z",
     "start_time": "2025-06-02T08:28:42.708273Z"
    }
   },
   "cell_type": "code",
   "source": "df['Total Deaths']=df['A.1_Expected Number of Deaths']+df['A.2_Expected Number of Deaths']+df['A.3_Expected Number of Deaths']+df['A.4_Expected Number of Deaths']+df['A.5_Expected Number of Deaths']",
   "outputs": [],
   "execution_count": 66
  },
  {
   "metadata": {
    "ExecuteTime": {
     "end_time": "2025-06-02T08:28:43.580154Z",
     "start_time": "2025-06-02T08:28:43.131425Z"
    }
   },
   "cell_type": "code",
   "source": [
    "# Scatter plot\n",
    "plt.figure(figsize=(8, 6))\n",
    "plt.scatter(df['RfR Total Costs'], df['Total Deaths'], c='blue', alpha=0.7)\n",
    "plt.xlabel('RfR Total Costs')\n",
    "plt.ylabel('total deaths')\n",
    "plt.title('RfR Costs vs total deaths')\n",
    "plt.grid(True)\n",
    "plt.show()"
   ],
   "outputs": [
    {
     "data": {
      "text/plain": [
       "<Figure size 800x600 with 1 Axes>"
      ],
      "image/png": "[encoded data removed]"
     },
     "metadata": {},
     "output_type": "display_data"
    }
   ],
   "execution_count": 67
  },
  {
   "metadata": {
    "ExecuteTime": {
     "end_time": "2025-06-02T08:28:43.657530Z",
     "start_time": "2025-06-02T08:28:43.589961Z"
    }
   },
   "cell_type": "code",
   "source": "experiments",
   "outputs": [
    {
     "data": {
      "text/plain": [
       "    A.0_ID flood wave shape    A.1_Bmax A.1_Brate  A.1_pfail    A.2_Bmax  \\\n",
       "0                       128  241.308404       1.5   0.937493   34.436584   \n",
       "1                        52  324.903397       1.0   0.068462  252.354958   \n",
       "2                        17  277.066835       1.0   0.376904  175.108842   \n",
       "3                       118  216.945699      10.0   0.787221   70.515402   \n",
       "4                        32  348.019629      10.0   0.000891  163.276140   \n",
       "..                      ...         ...       ...        ...         ...   \n",
       "95                       96  179.301281       1.0   0.112610  218.470941   \n",
       "96                       86   60.396352      10.0   0.161866  308.966883   \n",
       "97                       72  269.193140       1.5   0.878689  130.875337   \n",
       "98                      123  171.232693       1.5   0.445293  328.875168   \n",
       "99                       89  301.275128       1.5   0.323682  345.928418   \n",
       "\n",
       "   A.2_Brate  A.2_pfail    A.3_Bmax A.3_Brate  A.3_pfail  ...  \\\n",
       "0        1.0   0.506706  168.859252      10.0   0.836989  ...   \n",
       "1       10.0   0.884698  207.485634       1.0   0.656061  ...   \n",
       "2       10.0   0.972241  174.764979       1.5   0.586020  ...   \n",
       "3        1.5   0.903228  337.847849       1.0   0.892243  ...   \n",
       "4        1.5   0.032283  282.985952       1.0   0.508986  ...   \n",
       "..       ...        ...         ...       ...        ...  ...   \n",
       "95       1.0   0.085677  256.448430      10.0   0.736932  ...   \n",
       "96       1.0   0.753113  303.681175       1.0   0.076656  ...   \n",
       "97      10.0   0.706440   80.374842       1.5   0.181204  ...   \n",
       "98       1.0   0.110696  128.718076      10.0   0.960837  ...   \n",
       "99       1.5   0.825217  156.841095       1.0   0.921298  ...   \n",
       "\n",
       "    A.4_DikeIncrease 0 A.4_DikeIncrease 1  A.4_DikeIncrease 2  \\\n",
       "0                    8                  0                   5   \n",
       "1                    8                  0                   5   \n",
       "2                    8                  0                   5   \n",
       "3                    8                  0                   5   \n",
       "4                    8                  0                   5   \n",
       "..                 ...                ...                 ...   \n",
       "95                   9                 10                   2   \n",
       "96                   9                 10                   2   \n",
       "97                   9                 10                   2   \n",
       "98                   9                 10                   2   \n",
       "99                   9                 10                   2   \n",
       "\n",
       "    A.5_DikeIncrease 0 A.5_DikeIncrease 1  A.5_DikeIncrease 2  \\\n",
       "0                    3                  0                   2   \n",
       "1                    3                  0                   2   \n",
       "2                    3                  0                   2   \n",
       "3                    3                  0                   2   \n",
       "4                    3                  0                   2   \n",
       "..                 ...                ...                 ...   \n",
       "95                   7                  9                   1   \n",
       "96                   7                  9                   1   \n",
       "97                   7                  9                   1   \n",
       "98                   7                  9                   1   \n",
       "99                   7                  9                   1   \n",
       "\n",
       "   EWS_DaysToThreat scenario  policy     model  \n",
       "0                 2   121081  121076  dikesnet  \n",
       "1                 2   121082  121076  dikesnet  \n",
       "2                 2   121083  121076  dikesnet  \n",
       "3                 2   121084  121076  dikesnet  \n",
       "4                 2   121085  121076  dikesnet  \n",
       "..              ...      ...     ...       ...  \n",
       "95                4   121096  121080  dikesnet  \n",
       "96                4   121097  121080  dikesnet  \n",
       "97                4   121098  121080  dikesnet  \n",
       "98                4   121099  121080  dikesnet  \n",
       "99                4   121100  121080  dikesnet  \n",
       "\n",
       "[100 rows x 53 columns]"
      ],
      "text/html": [
       "<div>\n",
       "<style scoped>\n",
       "    .dataframe tbody tr th:only-of-type {\n",
       "        vertical-align: middle;\n",
       "    }\n",
       "\n",
       "    .dataframe tbody tr th {\n",
       "        vertical-align: top;\n",
       "    }\n",
       "\n",
       "    .dataframe thead th {\n",
       "        text-align: right;\n",
       "    }\n",
       "</style>\n",
       "<table border=\"1\" class=\"dataframe\">\n",
       "  <thead>\n",
       "    <tr style=\"text-align: right;\">\n",
       "      <th></th>\n",
       "      <th>A.0_ID flood wave shape</th>\n",
       "      <th>A.1_Bmax</th>\n",
       "      <th>A.1_Brate</th>\n",
       "      <th>A.1_pfail</th>\n",
       "      <th>A.2_Bmax</th>\n",
       "      <th>A.2_Brate</th>\n",
       "      <th>A.2_pfail</th>\n",
       "      <th>A.3_Bmax</th>\n",
       "      <th>A.3_Brate</th>\n",
       "      <th>A.3_pfail</th>\n",
       "      <th>...</th>\n",
       "      <th>A.4_DikeIncrease 0</th>\n",
       "      <th>A.4_DikeIncrease 1</th>\n",
       "      <th>A.4_DikeIncrease 2</th>\n",
       "      <th>A.5_DikeIncrease 0</th>\n",
       "      <th>A.5_DikeIncrease 1</th>\n",
       "      <th>A.5_DikeIncrease 2</th>\n",
       "      <th>EWS_DaysToThreat</th>\n",
       "      <th>scenario</th>\n",
       "      <th>policy</th>\n",
       "      <th>model</th>\n",
       "    </tr>\n",
       "  </thead>\n",
       "  <tbody>\n",
       "    <tr>\n",
       "      <th>0</th>\n",
       "      <td>128</td>\n",
       "      <td>241.308404</td>\n",
       "      <td>1.5</td>\n",
       "      <td>0.937493</td>\n",
       "      <td>34.436584</td>\n",
       "      <td>1.0</td>\n",
       "      <td>0.506706</td>\n",
       "      <td>168.859252</td>\n",
       "      <td>10.0</td>\n",
       "      <td>0.836989</td>\n",
       "      <td>...</td>\n",
       "      <td>8</td>\n",
       "      <td>0</td>\n",
       "      <td>5</td>\n",
       "      <td>3</td>\n",
       "      <td>0</td>\n",
       "      <td>2</td>\n",
       "      <td>2</td>\n",
       "      <td>121081</td>\n",
       "      <td>121076</td>\n",
       "      <td>dikesnet</td>\n",
       "    </tr>\n",
       "    <tr>\n",
       "      <th>1</th>\n",
       "      <td>52</td>\n",
       "      <td>324.903397</td>\n",
       "      <td>1.0</td>\n",
       "      <td>0.068462</td>\n",
       "      <td>252.354958</td>\n",
       "      <td>10.0</td>\n",
       "      <td>0.884698</td>\n",
       "      <td>207.485634</td>\n",
       "      <td>1.0</td>\n",
       "      <td>0.656061</td>\n",
       "      <td>...</td>\n",
       "      <td>8</td>\n",
       "      <td>0</td>\n",
       "      <td>5</td>\n",
       "      <td>3</td>\n",
       "      <td>0</td>\n",
       "      <td>2</td>\n",
       "      <td>2</td>\n",
       "      <td>121082</td>\n",
       "      <td>121076</td>\n",
       "      <td>dikesnet</td>\n",
       "    </tr>\n",
       "    <tr>\n",
       "      <th>2</th>\n",
       "      <td>17</td>\n",
       "      <td>277.066835</td>\n",
       "      <td>1.0</td>\n",
       "      <td>0.376904</td>\n",
       "      <td>175.108842</td>\n",
       "      <td>10.0</td>\n",
       "      <td>0.972241</td>\n",
       "      <td>174.764979</td>\n",
       "      <td>1.5</td>\n",
       "      <td>0.586020</td>\n",
       "      <td>...</td>\n",
       "      <td>8</td>\n",
       "      <td>0</td>\n",
       "      <td>5</td>\n",
       "      <td>3</td>\n",
       "      <td>0</td>\n",
       "      <td>2</td>\n",
       "      <td>2</td>\n",
       "      <td>121083</td>\n",
       "      <td>121076</td>\n",
       "      <td>dikesnet</td>\n",
       "    </tr>\n",
       "    <tr>\n",
       "      <th>3</th>\n",
       "      <td>118</td>\n",
       "      <td>216.945699</td>\n",
       "      <td>10.0</td>\n",
       "      <td>0.787221</td>\n",
       "      <td>70.515402</td>\n",
       "      <td>1.5</td>\n",
       "      <td>0.903228</td>\n",
       "      <td>337.847849</td>\n",
       "      <td>1.0</td>\n",
       "      <td>0.892243</td>\n",
       "      <td>...</td>\n",
       "      <td>8</td>\n",
       "      <td>0</td>\n",
       "      <td>5</td>\n",
       "      <td>3</td>\n",
       "      <td>0</td>\n",
       "      <td>2</td>\n",
       "      <td>2</td>\n",
       "      <td>121084</td>\n",
       "      <td>121076</td>\n",
       "      <td>dikesnet</td>\n",
       "    </tr>\n",
       "    <tr>\n",
       "      <th>4</th>\n",
       "      <td>32</td>\n",
       "      <td>348.019629</td>\n",
       "      <td>10.0</td>\n",
       "      <td>0.000891</td>\n",
       "      <td>163.276140</td>\n",
       "      <td>1.5</td>\n",
       "      <td>0.032283</td>\n",
       "      <td>282.985952</td>\n",
       "      <td>1.0</td>\n",
       "      <td>0.508986</td>\n",
       "      <td>...</td>\n",
       "      <td>8</td>\n",
       "      <td>0</td>\n",
       "      <td>5</td>\n",
       "      <td>3</td>\n",
       "      <td>0</td>\n",
       "      <td>2</td>\n",
       "      <td>2</td>\n",
       "      <td>121085</td>\n",
       "      <td>121076</td>\n",
       "      <td>dikesnet</td>\n",
       "    </tr>\n",
       "    <tr>\n",
       "      <th>...</th>\n",
       "      <td>...</td>\n",
       "      <td>...</td>\n",
       "      <td>...</td>\n",
       "      <td>...</td>\n",
       "      <td>...</td>\n",
       "      <td>...</td>\n",
       "      <td>...</td>\n",
       "      <td>...</td>\n",
       "      <td>...</td>\n",
       "      <td>...</td>\n",
       "      <td>...</td>\n",
       "      <td>...</td>\n",
       "      <td>...</td>\n",
       "      <td>...</td>\n",
       "      <td>...</td>\n",
       "      <td>...</td>\n",
       "      <td>...</td>\n",
       "      <td>...</td>\n",
       "      <td>...</td>\n",
       "      <td>...</td>\n",
       "      <td>...</td>\n",
       "    </tr>\n",
       "    <tr>\n",
       "      <th>95</th>\n",
       "      <td>96</td>\n",
       "      <td>179.301281</td>\n",
       "      <td>1.0</td>\n",
       "      <td>0.112610</td>\n",
       "      <td>218.470941</td>\n",
       "      <td>1.0</td>\n",
       "      <td>0.085677</td>\n",
       "      <td>256.448430</td>\n",
       "      <td>10.0</td>\n",
       "      <td>0.736932</td>\n",
       "      <td>...</td>\n",
       "      <td>9</td>\n",
       "      <td>10</td>\n",
       "      <td>2</td>\n",
       "      <td>7</td>\n",
       "      <td>9</td>\n",
       "      <td>1</td>\n",
       "      <td>4</td>\n",
       "      <td>121096</td>\n",
       "      <td>121080</td>\n",
       "      <td>dikesnet</td>\n",
       "    </tr>\n",
       "    <tr>\n",
       "      <th>96</th>\n",
       "      <td>86</td>\n",
       "      <td>60.396352</td>\n",
       "      <td>10.0</td>\n",
       "      <td>0.161866</td>\n",
       "      <td>308.966883</td>\n",
       "      <td>1.0</td>\n",
       "      <td>0.753113</td>\n",
       "      <td>303.681175</td>\n",
       "      <td>1.0</td>\n",
       "      <td>0.076656</td>\n",
       "      <td>...</td>\n",
       "      <td>9</td>\n",
       "      <td>10</td>\n",
       "      <td>2</td>\n",
       "      <td>7</td>\n",
       "      <td>9</td>\n",
       "      <td>1</td>\n",
       "      <td>4</td>\n",
       "      <td>121097</td>\n",
       "      <td>121080</td>\n",
       "      <td>dikesnet</td>\n",
       "    </tr>\n",
       "    <tr>\n",
       "      <th>97</th>\n",
       "      <td>72</td>\n",
       "      <td>269.193140</td>\n",
       "      <td>1.5</td>\n",
       "      <td>0.878689</td>\n",
       "      <td>130.875337</td>\n",
       "      <td>10.0</td>\n",
       "      <td>0.706440</td>\n",
       "      <td>80.374842</td>\n",
       "      <td>1.5</td>\n",
       "      <td>0.181204</td>\n",
       "      <td>...</td>\n",
       "      <td>9</td>\n",
       "      <td>10</td>\n",
       "      <td>2</td>\n",
       "      <td>7</td>\n",
       "      <td>9</td>\n",
       "      <td>1</td>\n",
       "      <td>4</td>\n",
       "      <td>121098</td>\n",
       "      <td>121080</td>\n",
       "      <td>dikesnet</td>\n",
       "    </tr>\n",
       "    <tr>\n",
       "      <th>98</th>\n",
       "      <td>123</td>\n",
       "      <td>171.232693</td>\n",
       "      <td>1.5</td>\n",
       "      <td>0.445293</td>\n",
       "      <td>328.875168</td>\n",
       "      <td>1.0</td>\n",
       "      <td>0.110696</td>\n",
       "      <td>128.718076</td>\n",
       "      <td>10.0</td>\n",
       "      <td>0.960837</td>\n",
       "      <td>...</td>\n",
       "      <td>9</td>\n",
       "      <td>10</td>\n",
       "      <td>2</td>\n",
       "      <td>7</td>\n",
       "      <td>9</td>\n",
       "      <td>1</td>\n",
       "      <td>4</td>\n",
       "      <td>121099</td>\n",
       "      <td>121080</td>\n",
       "      <td>dikesnet</td>\n",
       "    </tr>\n",
       "    <tr>\n",
       "      <th>99</th>\n",
       "      <td>89</td>\n",
       "      <td>301.275128</td>\n",
       "      <td>1.5</td>\n",
       "      <td>0.323682</td>\n",
       "      <td>345.928418</td>\n",
       "      <td>1.5</td>\n",
       "      <td>0.825217</td>\n",
       "      <td>156.841095</td>\n",
       "      <td>1.0</td>\n",
       "      <td>0.921298</td>\n",
       "      <td>...</td>\n",
       "      <td>9</td>\n",
       "      <td>10</td>\n",
       "      <td>2</td>\n",
       "      <td>7</td>\n",
       "      <td>9</td>\n",
       "      <td>1</td>\n",
       "      <td>4</td>\n",
       "      <td>121100</td>\n",
       "      <td>121080</td>\n",
       "      <td>dikesnet</td>\n",
       "    </tr>\n",
       "  </tbody>\n",
       "</table>\n",
       "<p>100 rows × 53 columns</p>\n",
       "</div>"
      ]
     },
     "execution_count": 68,
     "metadata": {},
     "output_type": "execute_result"
    }
   ],
   "execution_count": 68
  },
  {
   "metadata": {
    "ExecuteTime": {
     "end_time": "2025-06-02T08:28:47.720866Z",
     "start_time": "2025-06-02T08:28:43.874779Z"
    }
   },
   "cell_type": "code",
   "source": [
    "from ema_workbench.analysis import prim\n",
    "import matplotlib.pyplot as plt\n",
    "from ema_workbench.analysis import pairs_plotting\n",
    "\n",
    "\n",
    "# x = input variables\n",
    "x = experiments\n",
    "\n",
    "# y = numeric outcome values\n",
    "threshold_value = 0.01\n",
    "best_cases = df['Total Deaths']<threshold_value\n",
    "\n",
    "# initialize PRIM\n",
    "prim_alg = prim.Prim(x, best_cases, threshold=threshold_value)\n",
    "\n",
    "# search for box\n",
    "box= prim_alg.find_box()\n",
    "\n",
    "# show trade-offs between coverage and density\n",
    "box.show_tradeoff()\n",
    "plt.show()\n"
   ],
   "outputs": [
    {
     "name": "stderr",
     "output_type": "stream",
     "text": [
      "[MainProcess/INFO] column model dropped from analysis because it has only one category\n",
      "[MainProcess/INFO] 100 points remaining, containing 71 cases of interest\n",
      "[MainProcess/INFO] mean: 1.0, mass: 0.42, coverage: 0.5915492957746479, density: 1.0 restricted_dimensions: 4\n"
     ]
    },
    {
     "data": {
      "text/plain": [
       "<Figure size 640x480 with 2 Axes>"
      ],
      "image/png": "[encoded data removed]"
     },
     "metadata": {},
     "output_type": "display_data"
    }
   ],
   "execution_count": 69
  },
  {
   "metadata": {
    "ExecuteTime": {
     "end_time": "2025-06-02T08:28:49.082785Z",
     "start_time": "2025-06-02T08:28:47.822514Z"
    }
   },
   "cell_type": "code",
   "source": [
    "plt.show()\n",
    "box.show_ppt()\n"
   ],
   "outputs": [
    {
     "data": {
      "text/plain": [
       "<Figure size 640x480 with 1 Axes>"
      ],
      "image/png": "[encoded data removed]"
     },
     "execution_count": 70,
     "metadata": {},
     "output_type": "execute_result"
    },
    {
     "data": {
      "text/plain": [
       "<Figure size 640x480 with 1 Axes>"
      ],
      "image/png": "[encoded data removed]"
     },
     "metadata": {},
     "output_type": "display_data"
    }
   ],
   "execution_count": 70
  },
  {
   "metadata": {
    "ExecuteTime": {
     "end_time": "2025-06-02T08:28:49.411998Z",
     "start_time": "2025-06-02T08:28:49.095625Z"
    }
   },
   "cell_type": "code",
   "source": [
    "box.inspect(style='graph')\n",
    "plt.show()"
   ],
   "outputs": [
    {
     "data": {
      "text/plain": [
       "<Figure size 640x480 with 1 Axes>"
      ],
      "image/png": "[encoded data removed]"
     },
     "metadata": {},
     "output_type": "display_data"
    }
   ],
   "execution_count": 71
  },
  {
   "metadata": {
    "ExecuteTime": {
     "end_time": "2025-06-02T08:28:49.536571Z",
     "start_time": "2025-06-02T08:28:49.522276Z"
    }
   },
   "cell_type": "code",
   "source": [
    "# Check if any NaN values exist\n",
    "print(df.isna().any().any())\n",
    "\n",
    "# Count NaN values per column\n",
    "print(df.isna().sum())"
   ],
   "outputs": [
    {
     "name": "stdout",
     "output_type": "stream",
     "text": [
      "False\n",
      "A.1 Total Costs                  0\n",
      "A.1_Expected Number of Deaths    0\n",
      "A.2 Total Costs                  0\n",
      "A.2_Expected Number of Deaths    0\n",
      "A.3 Total Costs                  0\n",
      "A.3_Expected Number of Deaths    0\n",
      "A.4 Total Costs                  0\n",
      "A.4_Expected Number of Deaths    0\n",
      "A.5 Total Costs                  0\n",
      "A.5_Expected Number of Deaths    0\n",
      "RfR Total Costs                  0\n",
      "Expected Evacuation Costs        0\n",
      "Total Deaths                     0\n",
      "dtype: int64\n"
     ]
    }
   ],
   "execution_count": 72
  },
  {
   "metadata": {
    "ExecuteTime": {
     "end_time": "2025-06-02T08:28:52.128519Z",
     "start_time": "2025-06-02T08:28:49.633936Z"
    }
   },
   "cell_type": "code",
   "source": [
    "from ema_workbench.analysis import dimensional_stacking\n",
    "best_cases_array=best_cases.to_numpy()\n",
    "dimensional_stacking.create_pivot_plot(experiments, best_cases_array)\n",
    "\n"
   ],
   "outputs": [
    {
     "name": "stderr",
     "output_type": "stream",
     "text": [
      "[MainProcess/INFO] model dropped from analysis because only a single category\n"
     ]
    },
    {
     "data": {
      "text/plain": [
       "<Figure size 1000x1000 with 4 Axes>"
      ],
      "image/png": "[encoded data removed]"
     },
     "execution_count": 73,
     "metadata": {},
     "output_type": "execute_result"
    },
    {
     "data": {
      "text/plain": [
       "<Figure size 1000x1000 with 4 Axes>"
      ],
      "image/png": "[encoded data removed]"
     },
     "metadata": {},
     "output_type": "display_data"
    }
   ],
   "execution_count": 73
  },
  {
   "metadata": {
    "ExecuteTime": {
     "end_time": "2025-06-02T08:28:52.269290Z",
     "start_time": "2025-06-02T08:28:52.253823Z"
    }
   },
   "cell_type": "code",
   "source": [
    "%matplotlib inline\n",
    "import numpy as np\n",
    "import pandas as pd\n",
    "\n",
    "import matplotlib.pyplot as plt\n",
    "import seaborn as sns\n",
    "sns.set_style('white')\n",
    "\n",
    "from ema_workbench import (Model, RealParameter, TimeSeriesOutcome,\n",
    "                           perform_experiments, ema_logging,Policy)\n",
    "\n",
    "from ema_workbench import Samplers\n",
    "\n",
    "from ema_workbench.analysis import feature_scoring\n",
    "from ema_workbench.analysis.scenario_discovery_util import RuleInductionType\n",
    "from ema_workbench.em_framework.salib_samplers import get_SALib_problem\n",
    "\n",
    "from SALib.analyze import sobol"
   ],
   "outputs": [],
   "execution_count": 74
  },
  {
   "metadata": {
    "ExecuteTime": {
     "end_time": "2025-06-02T08:28:52.504377Z",
     "start_time": "2025-06-02T08:28:52.494001Z"
    }
   },
   "cell_type": "code",
   "source": [
    "problem = get_SALib_problem(dike_model. uncertainties)\n",
    "print(problem)"
   ],
   "outputs": [
    {
     "name": "stdout",
     "output_type": "stream",
     "text": [
      "{'num_vars': 19, 'names': ['A.0_ID flood wave shape', 'A.1_Bmax', 'A.1_Brate', 'A.1_pfail', 'A.2_Bmax', 'A.2_Brate', 'A.2_pfail', 'A.3_Bmax', 'A.3_Brate', 'A.3_pfail', 'A.4_Bmax', 'A.4_Brate', 'A.4_pfail', 'A.5_Bmax', 'A.5_Brate', 'A.5_pfail', 'discount rate 0', 'discount rate 1', 'discount rate 2'], 'bounds': [(0, 133), (30, 350), (0, 3), (0, 1), (30, 350), (0, 3), (0, 1), (30, 350), (0, 3), (0, 1), (30, 350), (0, 3), (0, 1), (30, 350), (0, 3), (0, 1), (0, 4), (0, 4), (0, 4)]}\n"
     ]
    }
   ],
   "execution_count": 75
  },
  {
   "metadata": {
    "jupyter": {
     "is_executing": true
    },
    "ExecuteTime": {
     "start_time": "2025-06-02T08:28:52.678477Z"
    }
   },
   "cell_type": "code",
   "source": [
    "n_exp = 10\n",
    "n_policies = 10\n",
    "with SequentialEvaluator(dike_model) as evaluator:\n",
    "    results = evaluator.perform_experiments(scenarios=n_exp, uncertainty_sampling=Samplers.SOBOL, policies=n_policies)"
   ],
   "outputs": [
    {
     "name": "stderr",
     "output_type": "stream",
     "text": [
      "C:\\Users\\merel\\AppData\\Local\\Programs\\Python\\Python313\\Lib\\site-packages\\scipy\\stats\\_qmc.py:993: UserWarning: The balance properties of Sobol' points require n to be a power of 2.\n",
      "  sample = self._random(n, workers=workers)\n",
      "[MainProcess/INFO] performing 400 scenarios * 10 policies * 1 model(s) = 4000 experiments\n",
      "  0%|                                                 | 0/4000 [00:00<?, ?it/s][MainProcess/INFO] performing experiments sequentially\n",
      "  3%|█▎                                     | 136/4000 [02:00<50:39,  1.27it/s]"
     ]
    }
   ],
   "execution_count": null
  },
  {
   "metadata": {},
   "cell_type": "code",
   "outputs": [],
   "execution_count": null,
   "source": [
    "\n",
    "prey_final_sobol = outcomes_sobol['prey'][:,0,-1]\n",
    "prey_mean_sobol = np.mean(outcomes_sobol['prey'][:,0,:],axis=1)\n",
    "prey_std_sobol = np.std(outcomes_sobol['prey'][:,0,:],axis=1)\n",
    "\n",
    "Si = sobol.analyze(problem, prey_mean_sobol, calc_second_order=True, print_to_console=True)"
   ]
  },
  {
   "metadata": {},
   "cell_type": "code",
   "outputs": [],
   "execution_count": null,
   "source": [
    "# defining specific policies\n",
    "# for example, policy 1 is about extra protection in upper boundary\n",
    "# policy 2 is about extra protection in lower boundary\n",
    "# policy 3 is extra protection in random locations\n",
    "\n",
    "def get_do_nothing_dict():\n",
    "    return {l.name: 0 for l in dike_model.levers}\n",
    "\n",
    "\n",
    "policies = [\n",
    "    Policy(\n",
    "        \"policy 1\",\n",
    "        **dict(\n",
    "            get_do_nothing_dict(),\n",
    "            **{\"3_RfR 0\": 1, \"3_RfR 1\": 0, \"3_RfR 2\": 0, \"4_RfR 0\": 1, \"4_RfR 1\":0, \"4_RfR 2\":0,  \"A.3_DikeIncrease 0\": 5}\n",
    "        )\n",
    "    ),\n",
    "    Policy(\n",
    "        \"policy 2\",\n",
    "        **dict(\n",
    "            get_do_nothing_dict(),\n",
    "            **{\"3_RfR 0\": 1, \"3_RfR 1\": 0, \"3_RfR 2\": 0, \"4_RfR 0\": 1, \"4_RfR 1\":0, \"4_RfR 2\":0, \"2_RfR 0\": 1, \"2_RfR 1\":0, \"2_RfR 2\":0, \"A.3_DikeIncrease 0\": 5}\n",
    "        )\n",
    "    ),\n",
    "\n",
    "    Policy(\n",
    "        \"policy 3\",\n",
    "        **dict(\n",
    "        get_do_nothing_dict(),\n",
    "            **{ \"4_RfR 0\": 1, \"4_RfR 1\":0, \"4_RfR 2\":0,  \"A.3_DikeIncrease 0\": 5}\n",
    "        )\n",
    "    ),\n",
    "]"
   ]
  },
  {
   "metadata": {},
   "cell_type": "code",
   "outputs": [],
   "execution_count": null,
   "source": [
    "# pass the policies list to EMA workbench experiment runs\n",
    "n_scenarios = 100\n",
    "with MultiprocessingEvaluator(dike_model) as evaluator:\n",
    "    results = evaluator.perform_experiments(n_scenarios, policies)"
   ]
  },
  {
   "metadata": {},
   "cell_type": "code",
   "outputs": [],
   "execution_count": null,
   "source": "experiments1, outcomes1 = results"
  },
  {
   "metadata": {},
   "cell_type": "code",
   "outputs": [],
   "execution_count": null,
   "source": "experiments1"
  },
  {
   "metadata": {},
   "cell_type": "code",
   "outputs": [],
   "execution_count": null,
   "source": [
    "df_outcomes=pd.DataFrame(outcomes1)\n",
    "df_experiments=pd.DataFrame(experiments1)"
   ]
  },
  {
   "metadata": {},
   "cell_type": "code",
   "outputs": [],
   "execution_count": null,
   "source": "df_outcomes['Total Deaths']=df_outcomes['A.1_Expected Number of Deaths']+df_outcomes['A.2_Expected Number of Deaths']+df_outcomes['A.3_Expected Number of Deaths']+df_outcomes['A.4_Expected Number of Deaths']+df_outcomes['A.5_Expected Number of Deaths']"
  },
  {
   "metadata": {},
   "cell_type": "code",
   "outputs": [],
   "execution_count": null,
   "source": [
    "experiments\n",
    "\n",
    "from ema_workbench.analysis import prim\n",
    "import matplotlib.pyplot as plt\n",
    "from ema_workbench.analysis import pairs_plotting\n",
    "\n",
    "# x = input variables\n",
    "x = experiments1\n",
    "\n",
    "# y = numeric outcome values\n",
    "threshold_value = 0.1\n",
    "best_cases = df_outcomes['Total Deaths'] < threshold_value\n",
    "\n",
    "# initialize PRIM\n",
    "prim_alg = prim.Prim(x, best_cases, threshold=threshold_value)\n",
    "\n",
    "# search for box\n",
    "box = prim_alg.find_box()\n",
    "\n",
    "# show trade-offs between coverage and density\n",
    "box.show_tradeoff()\n",
    "plt.show()\n"
   ]
  },
  {
   "metadata": {},
   "cell_type": "code",
   "outputs": [],
   "execution_count": null,
   "source": [
    "# Sample using Sobol sequences (use a power of 2 for efficiency)\n",
    "from SALib.sample.saltelli import sample\n",
    "# Generate samples\n",
    "param_values = sample(problem, 512, calc_second_order=False)  # 512 is base sample size\n",
    "\n",
    "# Run experiments\n",
    "experiments, outcomes = perform_experiments(dike_model, scenarios=param_values)\n",
    "\n",
    "# Extract the outcome of interest\n",
    "Y = outcomes['Total Deaths']\n",
    "\n",
    "# Sobol sensitivity analysis\n",
    "Si = sobol.analyze(problem, Y, calc_second_order=False)\n"
   ]
  },
  {
   "metadata": {},
   "cell_type": "code",
   "outputs": [],
   "execution_count": null,
   "source": [
    "from ema_workbench.analysis import prim\n",
    "import matplotlib.pyplot as plt\n",
    "from ema_workbench.analysis import pairs_plotting\n",
    "\n",
    "# List of policies\n",
    "policies = ['policy 1', 'policy 2', 'policy 3']\n",
    "\n",
    "# Set threshold for filtering best cases\n",
    "threshold_value = 0.1\n",
    "\n",
    "for policy in policies:\n",
    "    print(f\"\\nRunning PRIM for {policy}...\")\n",
    "\n",
    "    # Filter data for the current policy\n",
    "    x = experiments1[experiments1['policy'] == policy]\n",
    "    y = df_outcomes.loc[x.index]  # ensure outcome matches filtered experiments\n",
    "\n",
    "    # Define best cases based on outcome threshold\n",
    "    best_cases = y['Total Deaths'] < threshold_value\n",
    "\n",
    "    # Initialize PRIM\n",
    "    prim_alg = prim.Prim(x, best_cases, threshold=threshold_value)\n",
    "\n",
    "    # Search for box\n",
    "    box = prim_alg.find_box()\n",
    "\n",
    "    # Show trade-offs between coverage and density\n",
    "    box.show_tradeoff()\n",
    "    plt.title(f\"Trade-off for {policy}\")\n",
    "    plt.show()\n",
    "\n",
    "    # Optional: inspect the box\n",
    "    # box.inspect()\n",
    "    # box.inspect(style='graph')\n"
   ]
  },
  {
   "metadata": {},
   "cell_type": "code",
   "outputs": [],
   "execution_count": null,
   "source": [
    "from ema_workbench.analysis import prim, dimensional_stacking\n",
    "import matplotlib.pyplot as plt\n",
    "from ema_workbench.analysis import pairs_plotting\n",
    "\n",
    "# List of policies\n",
    "policies = ['policy 1', 'policy 2', 'policy 3']\n",
    "\n",
    "# Set threshold for filtering best cases\n",
    "threshold_value = 0.1\n",
    "\n",
    "for policy in policies:\n",
    "    print(f\"\\nRunning PRIM for {policy}...\")\n",
    "\n",
    "    # Filter data for the current policy\n",
    "    x = experiments1[experiments1['policy'] == policy]\n",
    "    y = df_outcomes.loc[x.index]  # Ensure alignment of outcomes with filtered experiments\n",
    "\n",
    "    # Define best cases based on outcome threshold\n",
    "    best_cases = y['Total Deaths'] < threshold_value\n",
    "\n",
    "    # Run PRIM\n",
    "    prim_alg = prim.Prim(x, best_cases, threshold=threshold_value)\n",
    "    box = prim_alg.find_box()\n",
    "\n",
    "    # Show trade-off plot\n",
    "    box.show_tradeoff()\n",
    "    plt.title(f\"Trade-off for {policy}\")\n",
    "    plt.show()\n",
    "\n",
    "    # Create dimensional stacking plot for best cases\n",
    "    if best_cases.any():\n",
    "        print(f\"Creating dimensional stacking plot for {policy}...\")\n",
    "        dimensional_stacking.create_pivot_plot(x[best_cases], x[best_cases].to_numpy())\n",
    "        plt.title(f\"Dimensional Stacking - {policy}\")\n",
    "        plt.show()\n"
   ]
  },
  {
   "metadata": {},
   "cell_type": "code",
   "outputs": [],
   "execution_count": null,
   "source": [
    "plt.show()\n",
    "box.show_ppt()"
   ]
  },
  {
   "metadata": {},
   "cell_type": "code",
   "outputs": [],
   "execution_count": null,
   "source": [
    "box.inspect(style='graph')\n",
    "plt.show()"
   ]
  },
  {
   "metadata": {},
   "cell_type": "code",
   "outputs": [],
   "execution_count": null,
   "source": [
    "from ema_workbench.analysis import dimensional_stacking\n",
    "import matplotlib.pyplot as plt\n",
    "\n",
    "# Loop through each policy and create a pivot plot\n",
    "for policy_name in ['Policy 1', 'Policy 2', 'Policy 3']:\n",
    "    # Filter x for the current policy\n",
    "    policy_mask = x['policy'] == policy_name\n",
    "    if policy_mask.sum() > 0:\n",
    "        print(f\"Plotting for {policy_name}\")\n",
    "        # Subset the best_cases DataFrame to match the filtered x\n",
    "        policy_cases_array = best_cases[policy_mask].to_numpy()\n",
    "        # Subset the corresponding x rows\n",
    "        policy_x = x[policy_mask]\n",
    "        # Create the pivot plot\n",
    "        dimensional_stacking.create_pivot_plot(policy_x, policy_cases_array)\n",
    "        plt.title(policy_name)\n",
    "        plt.show()\n"
   ]
  },
  {
   "metadata": {},
   "cell_type": "code",
   "outputs": [],
   "execution_count": null,
   "source": [
    "# Scatter plot\n",
    "plt.figure(figsize=(8, 6))\n",
    "plt.scatter(df_outcomes['RfR Total Costs'], df_outcomes['Total Deaths'], c='blue', alpha=0.7)\n",
    "plt.xlabel('RfR Total Costs')\n",
    "plt.ylabel('total deaths')\n",
    "plt.title('RfR Costs vs total deaths')\n",
    "plt.grid(True)\n",
    "plt.show()"
   ]
  },
  {
   "metadata": {},
   "cell_type": "code",
   "outputs": [],
   "execution_count": null,
   "source": ""
  },
  {
   "metadata": {},
   "cell_type": "code",
   "outputs": [],
   "execution_count": null,
   "source": ""
  },
  {
   "cell_type": "code",
   "execution_count": null,
   "metadata": {
    "pycharm": {
     "name": "#%%"
    }
   },
   "outputs": [],
   "source": []
  }
 ],
 "metadata": {
  "kernelspec": {
   "display_name": "Python 3 (ipykernel)",
   "language": "python",
   "name": "python3"
  },
  "language_info": {
   "codemirror_mode": {
    "name": "ipython",
    "version": 3
   },
   "file_extension": ".py",
   "mimetype": "text/x-python",
   "name": "python",
   "nbconvert_exporter": "python",
   "pygments_lexer": "ipython3",
   "version": "3.9.16"
  }
 },
 "nbformat": 4,
 "nbformat_minor": 4
}
