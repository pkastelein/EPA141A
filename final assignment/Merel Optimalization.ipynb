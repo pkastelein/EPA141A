{
 "cells": [
  {
   "metadata": {},
   "cell_type": "code",
   "outputs": [],
   "execution_count": null,
   "source": [
    "import numpy as np\n",
    "import scipy as sp\n",
    "import pandas as pd\n",
    "import matplotlib.pyplot as plt\n",
    "import seaborn as sns\n",
    "import networkx as nx"
   ],
   "id": "31e99a1c0dde74a2"
  },
  {
   "metadata": {},
   "cell_type": "code",
   "outputs": [],
   "execution_count": null,
   "source": [
    "from ema_workbench import (\n",
    "    Model,\n",
    "    Policy,\n",
    "    ema_logging,\n",
    "    SequentialEvaluator,\n",
    "    MultiprocessingEvaluator,\n",
    ")\n",
    "from dike_model_function import DikeNetwork  # @UnresolvedImport\n",
    "from problem_formulation import get_model_for_problem_formulation, sum_over, sum_over_time"
   ],
   "id": "4ffc2735c08f41ce"
  },
  {
   "metadata": {},
   "cell_type": "code",
   "outputs": [],
   "execution_count": null,
   "source": [
    "ema_logging.log_to_stderr(ema_logging.INFO)\n",
    "\n",
    "# choose problem formulation number, between 0-5\n",
    "# each problem formulation has its own list of outcomes\n",
    "dike_model, planning_steps = get_model_for_problem_formulation(2)"
   ],
   "id": "f1a093d36f318f9"
  },
  {
   "metadata": {},
   "cell_type": "code",
   "outputs": [],
   "execution_count": null,
   "source": [
    "\n",
    "#specify outcomes\n",
    "from ema_workbench import ScalarOutcome\n",
    "\n",
    "dike_model.outcomes = [ScalarOutcome('Expected Annual Damage', kind=ScalarOutcome.MINIMIZE),\n",
    "                       ScalarOutcome('Dike Investment Costs', kind=ScalarOutcome.MINIMIZE),\n",
    "                       ScalarOutcome('RfR Investment Costs', kind=ScalarOutcome.MINIMIZE),\n",
    "                       ScalarOutcome('Evacuation Costs', kind=ScalarOutcome.MINIMIZE),\n",
    "                       ScalarOutcome('Expected Number of Deaths', kind=ScalarOutcome.MINIMIZE)\n",
    "                       ]"
   ],
   "id": "387cfaa59d481749"
  },
  {
   "metadata": {},
   "cell_type": "code",
   "outputs": [],
   "execution_count": null,
   "source": [
    "# main.py\n",
    "from Model_optimization import run_optimization\n",
    "\n",
    "results, convergence = run_optimization()"
   ],
   "id": "33ba5867e0463d0b"
  },
  {
   "metadata": {},
   "cell_type": "code",
   "outputs": [],
   "execution_count": null,
   "source": [
    "from ema_workbench.analysis import parcoords\n",
    "outcomes=results.loc[:, ['Expected Annual Damage','Dike Investment Costs', 'RfR Investment Costs', 'Evacuation Costs','Expected Number of Deaths']]\n",
    "limits = parcoords.get_limits(outcomes)\n",
    "axes = parcoords.ParallelAxes(limits)\n",
    "axes.plot(outcomes)\n",
    "# we invert this axis so direction of desirability is the same\n",
    "plt.show()"
   ],
   "id": "5a7fd15cd2e659c3"
  },
  {
   "metadata": {},
   "cell_type": "code",
   "outputs": [],
   "execution_count": null,
   "source": [
    "# main.py\n",
    "from Model_optimization import run_optimization\n",
    "\n",
    "results, convergence= run_optimization()"
   ],
   "id": "7c9b1af5d55daefe"
  },
  {
   "metadata": {},
   "cell_type": "code",
   "outputs": [],
   "execution_count": null,
   "source": "\n",
   "id": "cd0e12f5de547f37"
  },
  {
   "metadata": {},
   "cell_type": "code",
   "outputs": [],
   "execution_count": null,
   "source": [
    "with MultiprocessingEvaluator(dike_model) as evaluator:\n",
    "    results = evaluator.optimize(nfe=100, epsilons=[0.1,0.1,0.1],  outcomes=['Expected Annual Damage', 'Total Investment Costs', 'Expected Number of Deaths'])"
   ],
   "id": "56a8fa881a42661c"
  },
  {
   "metadata": {},
   "cell_type": "code",
   "outputs": [],
   "execution_count": null,
   "source": [
    "##Voor 3\n",
    "#specify outcomes\n",
    "from ema_workbench import ScalarOutcome\n",
    "\n",
    "dike_model.outcomes = [ScalarOutcome('Expected Annual Damage', kind=ScalarOutcome.MINIMIZE),\n",
    "                       ScalarOutcome('Total Investment Costs', kind=ScalarOutcome.MINIMIZE),\n",
    "                       ScalarOutcome('Expected Number of Deaths', kind=ScalarOutcome.MINIMIZE),\n",
    "                       ScalarOutcome('Expected Evacuation Costs', kind=ScalarOutcome.MINIMIZE),\n",
    "                       ScalarOutcome('A.2 Total Costs', kind=ScalarOutcome.MINIMIZE),\n",
    "                       ScalarOutcome('A.2_Expected Number of Deaths', kind=ScalarOutcome.MINIMIZE),\n",
    "                       ScalarOutcome('A.3 Total Costs', kind=ScalarOutcome.MINIMIZE),\n",
    "                       ScalarOutcome('A.3_Expected Number of Deaths', kind=ScalarOutcome.MINIMIZE),\n",
    "                       ScalarOutcome('A.4 Total Costs', kind=ScalarOutcome.MINIMIZE),\n",
    "                       ScalarOutcome('A.4_Expected Number of Deaths', kind=ScalarOutcome.MINIMIZE),\n",
    "                       ScalarOutcome('A.5 Total Costs', kind=ScalarOutcome.MINIMIZE),\n",
    "                       ScalarOutcome('A.5_Expected Number of Deaths', kind=ScalarOutcome.MINIMIZE)\n",
    "                       ]"
   ],
   "id": "525d817b9330f95"
  },
  {
   "metadata": {},
   "cell_type": "code",
   "outputs": [],
   "execution_count": null,
   "source": [
    "dike_model.outcomes = [ScalarOutcome('Expected Annual Damage', kind=ScalarOutcome.MINIMIZE),\n",
    "                       ScalarOutcome('Dike Investment Costs', kind=ScalarOutcome.MINIMIZE),\n",
    "                       ScalarOutcome('RfR Investment Costs', kind=ScalarOutcome.MINIMIZE),\n",
    "                       ScalarOutcome('Evacuation Costs', kind=ScalarOutcome.MINIMIZE),\n",
    "                       ScalarOutcome('Expected Number of Deaths', kind=ScalarOutcome.MINIMIZE)\n",
    "                       ]"
   ],
   "id": "624aa6e731b3cdc7"
  }
 ],
 "metadata": {},
 "nbformat": 5,
 "nbformat_minor": 9
}
