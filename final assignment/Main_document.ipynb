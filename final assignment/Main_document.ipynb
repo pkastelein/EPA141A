{
 "cells": [
  {
   "cell_type": "markdown",
   "id": "01ea49b9",
   "metadata": {},
   "source": [
    "In this notebook, the key figures included in the results section are generated. To create these figures, data is needed. In the file xxxx, the data is created. "
   ]
  },
  {
   "cell_type": "markdown",
   "id": "c5f4a4bf",
   "metadata": {},
   "source": [
    "## Open Exploration\n",
    "\n",
    "### 'do-nothing' policy\n",
    "In this section of the notebook, the various plots for the open exploration are created. The open exploration starts with looking at the results of a 'do nothing' policy run, this run will be used to generate scenarios which are used during the directed search. Next, subspace partitioning (PRIM, DS) is applied. Finally, a (global) sensitivity analysis (GSA) is performed using sobol indices. "
   ]
  },
  {
   "cell_type": "markdown",
   "id": "78159ee2",
   "metadata": {},
   "source": [
    "# Exploration of the zero-policy run\n",
    "Firstly, the model has been run using 100 000 scenarios (using LHS) and a 'do nothing' policy. A 'do nothing' policy means that no actions are taken, all model levers have value 0. This answers the question: 'what are the consequences of not taking actions?'"
   ]
  },
  {
   "cell_type": "code",
   "execution_count": 2,
   "id": "8547e1d3",
   "metadata": {},
   "outputs": [],
   "source": [
    "# Import necessary libraries\n",
    "import pandas as pd \n",
    "\n",
    "from ema_workbench.analysis import prim\n",
    "import matplotlib.pyplot as plt\n",
    "\n",
    "# Make sure to display all columns in the DataFrame\n",
    "pd.set_option('display.max_columns', None)"
   ]
  },
  {
   "cell_type": "code",
   "execution_count": 3,
   "id": "7a3df3f2",
   "metadata": {},
   "outputs": [],
   "source": [
    "# load 'do nothing' policy data from the results folder\n",
    "zero_policy_experiments = pd.read_csv(\"results/scenario_space_100000_experiments_2025-06-11_21-41.csv\")\n",
    "zero_policy_outcomes = pd.read_csv(\"results/scenario_space_100000_outcomes_2025-06-11_21-41.csv\")"
   ]
  },
  {
   "cell_type": "code",
   "execution_count": 4,
   "id": "711b31c7",
   "metadata": {},
   "outputs": [
    {
     "data": {
      "text/html": [
       "<div>\n",
       "<style scoped>\n",
       "    .dataframe tbody tr th:only-of-type {\n",
       "        vertical-align: middle;\n",
       "    }\n",
       "\n",
       "    .dataframe tbody tr th {\n",
       "        vertical-align: top;\n",
       "    }\n",
       "\n",
       "    .dataframe thead th {\n",
       "        text-align: right;\n",
       "    }\n",
       "</style>\n",
       "<table border=\"1\" class=\"dataframe\">\n",
       "  <thead>\n",
       "    <tr style=\"text-align: right;\">\n",
       "      <th></th>\n",
       "      <th>Expected Annual Damage</th>\n",
       "      <th>Dike Investment Costs</th>\n",
       "      <th>RfR Investment Costs</th>\n",
       "      <th>Evacuation Costs</th>\n",
       "      <th>Expected Number of Deaths</th>\n",
       "    </tr>\n",
       "  </thead>\n",
       "  <tbody>\n",
       "    <tr>\n",
       "      <th>0</th>\n",
       "      <td>1.121143e+09</td>\n",
       "      <td>0</td>\n",
       "      <td>0.0</td>\n",
       "      <td>0.0</td>\n",
       "      <td>2.001277</td>\n",
       "    </tr>\n",
       "    <tr>\n",
       "      <th>1</th>\n",
       "      <td>1.040173e+09</td>\n",
       "      <td>0</td>\n",
       "      <td>0.0</td>\n",
       "      <td>0.0</td>\n",
       "      <td>1.961085</td>\n",
       "    </tr>\n",
       "    <tr>\n",
       "      <th>2</th>\n",
       "      <td>3.219446e+09</td>\n",
       "      <td>0</td>\n",
       "      <td>0.0</td>\n",
       "      <td>0.0</td>\n",
       "      <td>3.550581</td>\n",
       "    </tr>\n",
       "    <tr>\n",
       "      <th>3</th>\n",
       "      <td>1.400912e+09</td>\n",
       "      <td>0</td>\n",
       "      <td>0.0</td>\n",
       "      <td>0.0</td>\n",
       "      <td>2.822709</td>\n",
       "    </tr>\n",
       "    <tr>\n",
       "      <th>4</th>\n",
       "      <td>3.193453e+08</td>\n",
       "      <td>0</td>\n",
       "      <td>0.0</td>\n",
       "      <td>0.0</td>\n",
       "      <td>0.519092</td>\n",
       "    </tr>\n",
       "  </tbody>\n",
       "</table>\n",
       "</div>"
      ],
      "text/plain": [
       "   Expected Annual Damage  Dike Investment Costs  RfR Investment Costs  \\\n",
       "0            1.121143e+09                      0                   0.0   \n",
       "1            1.040173e+09                      0                   0.0   \n",
       "2            3.219446e+09                      0                   0.0   \n",
       "3            1.400912e+09                      0                   0.0   \n",
       "4            3.193453e+08                      0                   0.0   \n",
       "\n",
       "   Evacuation Costs  Expected Number of Deaths  \n",
       "0               0.0                   2.001277  \n",
       "1               0.0                   1.961085  \n",
       "2               0.0                   3.550581  \n",
       "3               0.0                   2.822709  \n",
       "4               0.0                   0.519092  "
      ]
     },
     "execution_count": 4,
     "metadata": {},
     "output_type": "execute_result"
    }
   ],
   "source": [
    "zero_policy_outcomes.head()"
   ]
  },
  {
   "cell_type": "markdown",
   "id": "4b383951",
   "metadata": {},
   "source": [
    "##### Missing part here, ideally @Pien gooi jij hier de resultaten van de zero_policy experiment\n"
   ]
  },
  {
   "cell_type": "markdown",
   "id": "47354cae",
   "metadata": {},
   "source": [
    "### PRIM\n",
    "Patient Rule Induction Method is applied in this part of the notebook. The data that is used is from a run with 300 scenarios and 400 policies, latin hypercube sampling was used in the uncertainty and lever space. Of interest are uncertainties that lead to a high number of deaths and damages, and policies that lead to a low number of deaths and damages."
   ]
  },
  {
   "cell_type": "code",
   "execution_count": null,
   "id": "1de89bec",
   "metadata": {},
   "outputs": [],
   "source": [
    "# Load the LHS data to perform the PRIM analysis\n",
    "data_lhs_experiments = pd.readcsv()\n",
    "data_lhs_outcomes"
   ]
  },
  {
   "cell_type": "code",
   "execution_count": null,
   "id": "e8e70e18",
   "metadata": {},
   "outputs": [],
   "source": [
    "# Set the thresholds \n",
    "threshold_value_deaths = 3\n",
    "threshold_value_damage = 1000\n",
    "\n",
    "\n",
    "#\n",
    "x = data_lhs_experiments\n",
    "# cases of interest have high deaths and high damage\n",
    "\n",
    "y = (data_lhs_outcomes['Expected Number of Deaths'] > threshold_value_deaths) & (data_lhs_outcomes['Expected Annual Damage'] > threshold_value_deaths)\n",
    "\n",
    "\n",
    "# initialize PRIM\n",
    "prim_alg = prim.Prim(x, y)\n",
    "\n",
    "# search for box\n",
    "box= prim_alg.find_box()\n",
    "\n",
    "# show trade-offs between coverage and density\n",
    "box.show_tradeoff()\n",
    "plt.show()\n"
   ]
  },
  {
   "cell_type": "markdown",
   "id": "e959fde1",
   "metadata": {},
   "source": [
    "### DS\n"
   ]
  },
  {
   "cell_type": "markdown",
   "id": "31bf36e3",
   "metadata": {},
   "source": [
    "### Sobol\n"
   ]
  },
  {
   "cell_type": "code",
   "execution_count": null,
   "id": "8d23ea3b",
   "metadata": {},
   "outputs": [],
   "source": [
    "### PRIM\n"
   ]
  }
 ],
 "metadata": {
  "kernelspec": {
   "display_name": "Python 3",
   "language": "python",
   "name": "python3"
  },
  "language_info": {
   "codemirror_mode": {
    "name": "ipython",
    "version": 3
   },
   "file_extension": ".py",
   "mimetype": "text/x-python",
   "name": "python",
   "nbconvert_exporter": "python",
   "pygments_lexer": "ipython3",
   "version": "3.13.0"
  }
 },
 "nbformat": 4,
 "nbformat_minor": 5
}
